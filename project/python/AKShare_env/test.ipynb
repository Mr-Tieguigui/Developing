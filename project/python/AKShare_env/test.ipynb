{
 "cells": [
  {
   "cell_type": "code",
   "execution_count": 1,
   "metadata": {},
   "outputs": [
    {
     "name": "stderr",
     "output_type": "stream",
     "text": [
      "i:\\TGY-being\\project\\python\\AKShare_env\\lib\\site-packages\\akshare\\futures\\futures_roll_yield.py:38: UserWarning: 20180618非交易日\n",
      "  warnings.warn(\"%s非交易日\" % date.strftime(\"%Y%m%d\"))\n",
      "i:\\TGY-being\\project\\python\\AKShare_env\\lib\\site-packages\\akshare\\futures\\futures_roll_yield.py:38: UserWarning: 20180623非交易日\n",
      "  warnings.warn(\"%s非交易日\" % date.strftime(\"%Y%m%d\"))\n",
      "i:\\TGY-being\\project\\python\\AKShare_env\\lib\\site-packages\\akshare\\futures\\futures_roll_yield.py:38: UserWarning: 20180624非交易日\n",
      "  warnings.warn(\"%s非交易日\" % date.strftime(\"%Y%m%d\"))\n",
      "i:\\TGY-being\\project\\python\\AKShare_env\\lib\\site-packages\\akshare\\futures\\futures_roll_yield.py:38: UserWarning: 20180630非交易日\n",
      "  warnings.warn(\"%s非交易日\" % date.strftime(\"%Y%m%d\"))\n",
      "i:\\TGY-being\\project\\python\\AKShare_env\\lib\\site-packages\\akshare\\futures\\futures_roll_yield.py:38: UserWarning: 20180701非交易日\n",
      "  warnings.warn(\"%s非交易日\" % date.strftime(\"%Y%m%d\"))\n",
      "i:\\TGY-being\\project\\python\\AKShare_env\\lib\\site-packages\\akshare\\futures\\futures_roll_yield.py:38: UserWarning: 20180707非交易日\n",
      "  warnings.warn(\"%s非交易日\" % date.strftime(\"%Y%m%d\"))\n",
      "i:\\TGY-being\\project\\python\\AKShare_env\\lib\\site-packages\\akshare\\futures\\futures_roll_yield.py:38: UserWarning: 20180708非交易日\n",
      "  warnings.warn(\"%s非交易日\" % date.strftime(\"%Y%m%d\"))\n",
      "i:\\TGY-being\\project\\python\\AKShare_env\\lib\\site-packages\\akshare\\futures\\futures_roll_yield.py:38: UserWarning: 20180714非交易日\n",
      "  warnings.warn(\"%s非交易日\" % date.strftime(\"%Y%m%d\"))\n",
      "i:\\TGY-being\\project\\python\\AKShare_env\\lib\\site-packages\\akshare\\futures\\futures_roll_yield.py:38: UserWarning: 20180715非交易日\n",
      "  warnings.warn(\"%s非交易日\" % date.strftime(\"%Y%m%d\"))\n"
     ]
    },
    {
     "name": "stdout",
     "output_type": "stream",
     "text": [
      "            roll_yield near_by deferred\n",
      "2018-06-19    0.191289  RB1810   RB1901\n",
      "2018-06-20    0.192123  RB1810   RB1901\n",
      "2018-06-21    0.183304  RB1810   RB1901\n",
      "2018-06-22    0.190642  RB1810   RB1901\n",
      "2018-06-25    0.194838  RB1810   RB1901\n",
      "2018-06-26    0.204314  RB1810   RB1901\n",
      "2018-06-27    0.213667  RB1810   RB1901\n",
      "2018-06-28    0.211701  RB1810   RB1901\n",
      "2018-06-29    0.205892  RB1810   RB1901\n",
      "2018-07-02    0.224809  RB1810   RB1901\n",
      "2018-07-03    0.229198  RB1810   RB1901\n",
      "2018-07-04    0.222853  RB1810   RB1901\n",
      "2018-07-05    0.247187  RB1810   RB1901\n",
      "2018-07-06    0.261259  RB1810   RB1901\n",
      "2018-07-09    0.253283  RB1810   RB1901\n",
      "2018-07-10    0.225832  RB1810   RB1901\n",
      "2018-07-11    0.210659  RB1810   RB1901\n",
      "2018-07-12    0.212805  RB1810   RB1901\n",
      "2018-07-13    0.170282  RB1810   RB1901\n",
      "2018-07-16    0.218066  RB1810   RB1901\n",
      "2018-07-17    0.229768  RB1810   RB1901\n",
      "2018-07-18    0.225529  RB1810   RB1901\n"
     ]
    }
   ],
   "source": [
    "import akshare as ak\n",
    "\n",
    "get_roll_yield_bar_df = ak.get_roll_yield_bar(type_method=\"date\", var=\"RB\", start_day=\"20180618\", end_day=\"20180718\")\n",
    "print(get_roll_yield_bar_df)"
   ]
  },
  {
   "cell_type": "code",
   "execution_count": 3,
   "metadata": {},
   "outputs": [
    {
     "name": "stdout",
     "output_type": "stream",
     "text": [
      "      项目         股票         主板       科创板\n",
      "0   流通股本   42122.94   41417.58    705.36\n",
      "1    总市值  471285.05  411670.02  59615.03\n",
      "2  平均市盈率      12.99      11.81     46.10\n",
      "3   上市公司       2159       1671       488\n",
      "4   上市股票       2198       1710       488\n",
      "5   流通市值  403465.93  375858.71  27607.22\n",
      "6   报告时间   20221130   20221130  20221130\n",
      "8    总股本   47363.37   45664.47   1698.89\n",
      "     证券类别    数量          成交金额           总市值          流通市值\n",
      "0      股票  2284  4.647749e+11  2.706514e+13  2.104546e+13\n",
      "1    主板A股   460  9.775950e+10  7.864787e+12  6.943990e+12\n",
      "2    主板B股    46  8.626816e+07  4.759658e+10  4.706385e+10\n",
      "3     中小板   960  2.013526e+11  1.130741e+13  8.669555e+12\n",
      "4   创业板A股   818  1.655765e+11  7.845345e+12  5.384854e+12\n",
      "5      基金   551  1.362524e+10  2.417277e+11  2.417277e+11\n",
      "6     ETF   100  1.165436e+10  1.628294e+11  1.628294e+11\n",
      "7     LOF   250  7.335768e+08  4.043156e+10  4.043156e+10\n",
      "8   封闭式基金     1  5.527571e+05  7.622440e+08  7.622440e+08\n",
      "9    分级基金   200  1.236746e+09  3.770451e+10  3.770451e+10\n",
      "10     债券  7174  1.371389e+11           NaN           NaN\n",
      "11   债券现券  6599  2.911357e+10  3.683881e+13  1.823072e+12\n",
      "12   债券回购    13  1.054592e+11           NaN           NaN\n",
      "13    ABS   562  2.566134e+09  4.849642e+11  4.849642e+11\n",
      "14     期权   108  2.441560e+08           NaN           NaN\n"
     ]
    }
   ],
   "source": [
    "# 股票数据\n",
    "import akshare as ak\n",
    "\n",
    "stock_sse_summary_df = ak.stock_sse_summary()\n",
    "print(stock_sse_summary_df)\n",
    "stock_szse_summary_df = ak.stock_szse_summary(date=\"20200619\")\n",
    "print(stock_szse_summary_df)"
   ]
  },
  {
   "cell_type": "code",
   "execution_count": 7,
   "metadata": {},
   "outputs": [
    {
     "name": "stdout",
     "output_type": "stream",
     "text": [
      "初始资金: 1000000\n",
      "回测期间：19910403:20200616\n",
      "总资金: 1217360.83\n",
      "净收益: 217360.83\n"
     ]
    },
    {
     "data": {
      "application/javascript": "/* Put everything inside the global mpl namespace */\nwindow.mpl = {};\n\n\nmpl.get_websocket_type = function() {\n    if (typeof(WebSocket) !== 'undefined') {\n        return WebSocket;\n    } else if (typeof(MozWebSocket) !== 'undefined') {\n        return MozWebSocket;\n    } else {\n        alert('Your browser does not have WebSocket support. ' +\n              'Please try Chrome, Safari or Firefox ≥ 6. ' +\n              'Firefox 4 and 5 are also supported but you ' +\n              'have to enable WebSockets in about:config.');\n    };\n}\n\nmpl.figure = function(figure_id, websocket, ondownload, parent_element) {\n    this.id = figure_id;\n\n    this.ws = websocket;\n\n    this.supports_binary = (this.ws.binaryType != undefined);\n\n    if (!this.supports_binary) {\n        var warnings = document.getElementById(\"mpl-warnings\");\n        if (warnings) {\n            warnings.style.display = 'block';\n            warnings.textContent = (\n                \"This browser does not support binary websocket messages. \" +\n                    \"Performance may be slow.\");\n        }\n    }\n\n    this.imageObj = new Image();\n\n    this.context = undefined;\n    this.message = undefined;\n    this.canvas = undefined;\n    this.rubberband_canvas = undefined;\n    this.rubberband_context = undefined;\n    this.format_dropdown = undefined;\n\n    this.image_mode = 'full';\n\n    this.root = $('<div/>');\n    this._root_extra_style(this.root)\n    this.root.attr('style', 'display: inline-block');\n\n    $(parent_element).append(this.root);\n\n    this._init_header(this);\n    this._init_canvas(this);\n    this._init_toolbar(this);\n\n    var fig = this;\n\n    this.waiting = false;\n\n    this.ws.onopen =  function () {\n            fig.send_message(\"supports_binary\", {value: fig.supports_binary});\n            fig.send_message(\"send_image_mode\", {});\n            if (mpl.ratio != 1) {\n                fig.send_message(\"set_dpi_ratio\", {'dpi_ratio': mpl.ratio});\n            }\n            fig.send_message(\"refresh\", {});\n        }\n\n    this.imageObj.onload = function() {\n            if (fig.image_mode == 'full') {\n                // Full images could contain transparency (where diff images\n                // almost always do), so we need to clear the canvas so that\n                // there is no ghosting.\n                fig.context.clearRect(0, 0, fig.canvas.width, fig.canvas.height);\n            }\n            fig.context.drawImage(fig.imageObj, 0, 0);\n        };\n\n    this.imageObj.onunload = function() {\n        fig.ws.close();\n    }\n\n    this.ws.onmessage = this._make_on_message_function(this);\n\n    this.ondownload = ondownload;\n}\n\nmpl.figure.prototype._init_header = function() {\n    var titlebar = $(\n        '<div class=\"ui-dialog-titlebar ui-widget-header ui-corner-all ' +\n        'ui-helper-clearfix\"/>');\n    var titletext = $(\n        '<div class=\"ui-dialog-title\" style=\"width: 100%; ' +\n        'text-align: center; padding: 3px;\"/>');\n    titlebar.append(titletext)\n    this.root.append(titlebar);\n    this.header = titletext[0];\n}\n\n\n\nmpl.figure.prototype._canvas_extra_style = function(canvas_div) {\n\n}\n\n\nmpl.figure.prototype._root_extra_style = function(canvas_div) {\n\n}\n\nmpl.figure.prototype._init_canvas = function() {\n    var fig = this;\n\n    var canvas_div = $('<div/>');\n\n    canvas_div.attr('style', 'position: relative; clear: both; outline: 0');\n\n    function canvas_keyboard_event(event) {\n        return fig.key_event(event, event['data']);\n    }\n\n    canvas_div.keydown('key_press', canvas_keyboard_event);\n    canvas_div.keyup('key_release', canvas_keyboard_event);\n    this.canvas_div = canvas_div\n    this._canvas_extra_style(canvas_div)\n    this.root.append(canvas_div);\n\n    var canvas = $('<canvas/>');\n    canvas.addClass('mpl-canvas');\n    canvas.attr('style', \"left: 0; top: 0; z-index: 0; outline: 0\")\n\n    this.canvas = canvas[0];\n    this.context = canvas[0].getContext(\"2d\");\n\n    var backingStore = this.context.backingStorePixelRatio ||\n\tthis.context.webkitBackingStorePixelRatio ||\n\tthis.context.mozBackingStorePixelRatio ||\n\tthis.context.msBackingStorePixelRatio ||\n\tthis.context.oBackingStorePixelRatio ||\n\tthis.context.backingStorePixelRatio || 1;\n\n    mpl.ratio = (window.devicePixelRatio || 1) / backingStore;\n\n    var rubberband = $('<canvas/>');\n    rubberband.attr('style', \"position: absolute; left: 0; top: 0; z-index: 1;\")\n\n    var pass_mouse_events = true;\n\n    canvas_div.resizable({\n        start: function(event, ui) {\n            pass_mouse_events = false;\n        },\n        resize: function(event, ui) {\n            fig.request_resize(ui.size.width, ui.size.height);\n        },\n        stop: function(event, ui) {\n            pass_mouse_events = true;\n            fig.request_resize(ui.size.width, ui.size.height);\n        },\n    });\n\n    function mouse_event_fn(event) {\n        if (pass_mouse_events)\n            return fig.mouse_event(event, event['data']);\n    }\n\n    rubberband.mousedown('button_press', mouse_event_fn);\n    rubberband.mouseup('button_release', mouse_event_fn);\n    // Throttle sequential mouse events to 1 every 20ms.\n    rubberband.mousemove('motion_notify', mouse_event_fn);\n\n    rubberband.mouseenter('figure_enter', mouse_event_fn);\n    rubberband.mouseleave('figure_leave', mouse_event_fn);\n\n    canvas_div.on(\"wheel\", function (event) {\n        event = event.originalEvent;\n        event['data'] = 'scroll'\n        if (event.deltaY < 0) {\n            event.step = 1;\n        } else {\n            event.step = -1;\n        }\n        mouse_event_fn(event);\n    });\n\n    canvas_div.append(canvas);\n    canvas_div.append(rubberband);\n\n    this.rubberband = rubberband;\n    this.rubberband_canvas = rubberband[0];\n    this.rubberband_context = rubberband[0].getContext(\"2d\");\n    this.rubberband_context.strokeStyle = \"#000000\";\n\n    this._resize_canvas = function(width, height) {\n        // Keep the size of the canvas, canvas container, and rubber band\n        // canvas in synch.\n        canvas_div.css('width', width)\n        canvas_div.css('height', height)\n\n        canvas.attr('width', width * mpl.ratio);\n        canvas.attr('height', height * mpl.ratio);\n        canvas.attr('style', 'width: ' + width + 'px; height: ' + height + 'px;');\n\n        rubberband.attr('width', width);\n        rubberband.attr('height', height);\n    }\n\n    // Set the figure to an initial 600x600px, this will subsequently be updated\n    // upon first draw.\n    this._resize_canvas(600, 600);\n\n    // Disable right mouse context menu.\n    $(this.rubberband_canvas).bind(\"contextmenu\",function(e){\n        return false;\n    });\n\n    function set_focus () {\n        canvas.focus();\n        canvas_div.focus();\n    }\n\n    window.setTimeout(set_focus, 100);\n}\n\nmpl.figure.prototype._init_toolbar = function() {\n    var fig = this;\n\n    var nav_element = $('<div/>');\n    nav_element.attr('style', 'width: 100%');\n    this.root.append(nav_element);\n\n    // Define a callback function for later on.\n    function toolbar_event(event) {\n        return fig.toolbar_button_onclick(event['data']);\n    }\n    function toolbar_mouse_event(event) {\n        return fig.toolbar_button_onmouseover(event['data']);\n    }\n\n    for(var toolbar_ind in mpl.toolbar_items) {\n        var name = mpl.toolbar_items[toolbar_ind][0];\n        var tooltip = mpl.toolbar_items[toolbar_ind][1];\n        var image = mpl.toolbar_items[toolbar_ind][2];\n        var method_name = mpl.toolbar_items[toolbar_ind][3];\n\n        if (!name) {\n            // put a spacer in here.\n            continue;\n        }\n        var button = $('<button/>');\n        button.addClass('ui-button ui-widget ui-state-default ui-corner-all ' +\n                        'ui-button-icon-only');\n        button.attr('role', 'button');\n        button.attr('aria-disabled', 'false');\n        button.click(method_name, toolbar_event);\n        button.mouseover(tooltip, toolbar_mouse_event);\n\n        var icon_img = $('<span/>');\n        icon_img.addClass('ui-button-icon-primary ui-icon');\n        icon_img.addClass(image);\n        icon_img.addClass('ui-corner-all');\n\n        var tooltip_span = $('<span/>');\n        tooltip_span.addClass('ui-button-text');\n        tooltip_span.html(tooltip);\n\n        button.append(icon_img);\n        button.append(tooltip_span);\n\n        nav_element.append(button);\n    }\n\n    var fmt_picker_span = $('<span/>');\n\n    var fmt_picker = $('<select/>');\n    fmt_picker.addClass('mpl-toolbar-option ui-widget ui-widget-content');\n    fmt_picker_span.append(fmt_picker);\n    nav_element.append(fmt_picker_span);\n    this.format_dropdown = fmt_picker[0];\n\n    for (var ind in mpl.extensions) {\n        var fmt = mpl.extensions[ind];\n        var option = $(\n            '<option/>', {selected: fmt === mpl.default_extension}).html(fmt);\n        fmt_picker.append(option);\n    }\n\n    // Add hover states to the ui-buttons\n    $( \".ui-button\" ).hover(\n        function() { $(this).addClass(\"ui-state-hover\");},\n        function() { $(this).removeClass(\"ui-state-hover\");}\n    );\n\n    var status_bar = $('<span class=\"mpl-message\"/>');\n    nav_element.append(status_bar);\n    this.message = status_bar[0];\n}\n\nmpl.figure.prototype.request_resize = function(x_pixels, y_pixels) {\n    // Request matplotlib to resize the figure. Matplotlib will then trigger a resize in the client,\n    // which will in turn request a refresh of the image.\n    this.send_message('resize', {'width': x_pixels, 'height': y_pixels});\n}\n\nmpl.figure.prototype.send_message = function(type, properties) {\n    properties['type'] = type;\n    properties['figure_id'] = this.id;\n    this.ws.send(JSON.stringify(properties));\n}\n\nmpl.figure.prototype.send_draw_message = function() {\n    if (!this.waiting) {\n        this.waiting = true;\n        this.ws.send(JSON.stringify({type: \"draw\", figure_id: this.id}));\n    }\n}\n\n\nmpl.figure.prototype.handle_save = function(fig, msg) {\n    var format_dropdown = fig.format_dropdown;\n    var format = format_dropdown.options[format_dropdown.selectedIndex].value;\n    fig.ondownload(fig, format);\n}\n\n\nmpl.figure.prototype.handle_resize = function(fig, msg) {\n    var size = msg['size'];\n    if (size[0] != fig.canvas.width || size[1] != fig.canvas.height) {\n        fig._resize_canvas(size[0], size[1]);\n        fig.send_message(\"refresh\", {});\n    };\n}\n\nmpl.figure.prototype.handle_rubberband = function(fig, msg) {\n    var x0 = msg['x0'] / mpl.ratio;\n    var y0 = (fig.canvas.height - msg['y0']) / mpl.ratio;\n    var x1 = msg['x1'] / mpl.ratio;\n    var y1 = (fig.canvas.height - msg['y1']) / mpl.ratio;\n    x0 = Math.floor(x0) + 0.5;\n    y0 = Math.floor(y0) + 0.5;\n    x1 = Math.floor(x1) + 0.5;\n    y1 = Math.floor(y1) + 0.5;\n    var min_x = Math.min(x0, x1);\n    var min_y = Math.min(y0, y1);\n    var width = Math.abs(x1 - x0);\n    var height = Math.abs(y1 - y0);\n\n    fig.rubberband_context.clearRect(\n        0, 0, fig.canvas.width / mpl.ratio, fig.canvas.height / mpl.ratio);\n\n    fig.rubberband_context.strokeRect(min_x, min_y, width, height);\n}\n\nmpl.figure.prototype.handle_figure_label = function(fig, msg) {\n    // Updates the figure title.\n    fig.header.textContent = msg['label'];\n}\n\nmpl.figure.prototype.handle_cursor = function(fig, msg) {\n    var cursor = msg['cursor'];\n    switch(cursor)\n    {\n    case 0:\n        cursor = 'pointer';\n        break;\n    case 1:\n        cursor = 'default';\n        break;\n    case 2:\n        cursor = 'crosshair';\n        break;\n    case 3:\n        cursor = 'move';\n        break;\n    }\n    fig.rubberband_canvas.style.cursor = cursor;\n}\n\nmpl.figure.prototype.handle_message = function(fig, msg) {\n    fig.message.textContent = msg['message'];\n}\n\nmpl.figure.prototype.handle_draw = function(fig, msg) {\n    // Request the server to send over a new figure.\n    fig.send_draw_message();\n}\n\nmpl.figure.prototype.handle_image_mode = function(fig, msg) {\n    fig.image_mode = msg['mode'];\n}\n\nmpl.figure.prototype.updated_canvas_event = function() {\n    // Called whenever the canvas gets updated.\n    this.send_message(\"ack\", {});\n}\n\n// A function to construct a web socket function for onmessage handling.\n// Called in the figure constructor.\nmpl.figure.prototype._make_on_message_function = function(fig) {\n    return function socket_on_message(evt) {\n        if (evt.data instanceof Blob) {\n            /* FIXME: We get \"Resource interpreted as Image but\n             * transferred with MIME type text/plain:\" errors on\n             * Chrome.  But how to set the MIME type?  It doesn't seem\n             * to be part of the websocket stream */\n            evt.data.type = \"image/png\";\n\n            /* Free the memory for the previous frames */\n            if (fig.imageObj.src) {\n                (window.URL || window.webkitURL).revokeObjectURL(\n                    fig.imageObj.src);\n            }\n\n            fig.imageObj.src = (window.URL || window.webkitURL).createObjectURL(\n                evt.data);\n            fig.updated_canvas_event();\n            fig.waiting = false;\n            return;\n        }\n        else if (typeof evt.data === 'string' && evt.data.slice(0, 21) == \"data:image/png;base64\") {\n            fig.imageObj.src = evt.data;\n            fig.updated_canvas_event();\n            fig.waiting = false;\n            return;\n        }\n\n        var msg = JSON.parse(evt.data);\n        var msg_type = msg['type'];\n\n        // Call the  \"handle_{type}\" callback, which takes\n        // the figure and JSON message as its only arguments.\n        try {\n            var callback = fig[\"handle_\" + msg_type];\n        } catch (e) {\n            console.log(\"No handler for the '\" + msg_type + \"' message type: \", msg);\n            return;\n        }\n\n        if (callback) {\n            try {\n                // console.log(\"Handling '\" + msg_type + \"' message: \", msg);\n                callback(fig, msg);\n            } catch (e) {\n                console.log(\"Exception inside the 'handler_\" + msg_type + \"' callback:\", e, e.stack, msg);\n            }\n        }\n    };\n}\n\n// from http://stackoverflow.com/questions/1114465/getting-mouse-location-in-canvas\nmpl.findpos = function(e) {\n    //this section is from http://www.quirksmode.org/js/events_properties.html\n    var targ;\n    if (!e)\n        e = window.event;\n    if (e.target)\n        targ = e.target;\n    else if (e.srcElement)\n        targ = e.srcElement;\n    if (targ.nodeType == 3) // defeat Safari bug\n        targ = targ.parentNode;\n\n    // jQuery normalizes the pageX and pageY\n    // pageX,Y are the mouse positions relative to the document\n    // offset() returns the position of the element relative to the document\n    var x = e.pageX - $(targ).offset().left;\n    var y = e.pageY - $(targ).offset().top;\n\n    return {\"x\": x, \"y\": y};\n};\n\n/*\n * return a copy of an object with only non-object keys\n * we need this to avoid circular references\n * http://stackoverflow.com/a/24161582/3208463\n */\nfunction simpleKeys (original) {\n  return Object.keys(original).reduce(function (obj, key) {\n    if (typeof original[key] !== 'object')\n        obj[key] = original[key]\n    return obj;\n  }, {});\n}\n\nmpl.figure.prototype.mouse_event = function(event, name) {\n    var canvas_pos = mpl.findpos(event)\n\n    if (name === 'button_press')\n    {\n        this.canvas.focus();\n        this.canvas_div.focus();\n    }\n\n    var x = canvas_pos.x * mpl.ratio;\n    var y = canvas_pos.y * mpl.ratio;\n\n    this.send_message(name, {x: x, y: y, button: event.button,\n                             step: event.step,\n                             guiEvent: simpleKeys(event)});\n\n    /* This prevents the web browser from automatically changing to\n     * the text insertion cursor when the button is pressed.  We want\n     * to control all of the cursor setting manually through the\n     * 'cursor' event from matplotlib */\n    event.preventDefault();\n    return false;\n}\n\nmpl.figure.prototype._key_event_extra = function(event, name) {\n    // Handle any extra behaviour associated with a key event\n}\n\nmpl.figure.prototype.key_event = function(event, name) {\n\n    // Prevent repeat events\n    if (name == 'key_press')\n    {\n        if (event.which === this._key)\n            return;\n        else\n            this._key = event.which;\n    }\n    if (name == 'key_release')\n        this._key = null;\n\n    var value = '';\n    if (event.ctrlKey && event.which != 17)\n        value += \"ctrl+\";\n    if (event.altKey && event.which != 18)\n        value += \"alt+\";\n    if (event.shiftKey && event.which != 16)\n        value += \"shift+\";\n\n    value += 'k';\n    value += event.which.toString();\n\n    this._key_event_extra(event, name);\n\n    this.send_message(name, {key: value,\n                             guiEvent: simpleKeys(event)});\n    return false;\n}\n\nmpl.figure.prototype.toolbar_button_onclick = function(name) {\n    if (name == 'download') {\n        this.handle_save(this, null);\n    } else {\n        this.send_message(\"toolbar_button\", {name: name});\n    }\n};\n\nmpl.figure.prototype.toolbar_button_onmouseover = function(tooltip) {\n    this.message.textContent = tooltip;\n};\nmpl.toolbar_items = [[\"Home\", \"Reset original view\", \"fa fa-home icon-home\", \"home\"], [\"Back\", \"Back to previous view\", \"fa fa-arrow-left icon-arrow-left\", \"back\"], [\"Forward\", \"Forward to next view\", \"fa fa-arrow-right icon-arrow-right\", \"forward\"], [\"\", \"\", \"\", \"\"], [\"Pan\", \"Pan axes with left mouse, zoom with right\", \"fa fa-arrows icon-move\", \"pan\"], [\"Zoom\", \"Zoom to rectangle\", \"fa fa-square-o icon-check-empty\", \"zoom\"], [\"\", \"\", \"\", \"\"], [\"Download\", \"Download plot\", \"fa fa-floppy-o icon-save\", \"download\"]];\n\nmpl.extensions = [\"eps\", \"pdf\", \"png\", \"ps\", \"raw\", \"svg\"];\n\nmpl.default_extension = \"png\";var comm_websocket_adapter = function(comm) {\n    // Create a \"websocket\"-like object which calls the given IPython comm\n    // object with the appropriate methods. Currently this is a non binary\n    // socket, so there is still some room for performance tuning.\n    var ws = {};\n\n    ws.close = function() {\n        comm.close()\n    };\n    ws.send = function(m) {\n        //console.log('sending', m);\n        comm.send(m);\n    };\n    // Register the callback with on_msg.\n    comm.on_msg(function(msg) {\n        //console.log('receiving', msg['content']['data'], msg);\n        // Pass the mpl event to the overridden (by mpl) onmessage function.\n        ws.onmessage(msg['content']['data'])\n    });\n    return ws;\n}\n\nmpl.mpl_figure_comm = function(comm, msg) {\n    // This is the function which gets called when the mpl process\n    // starts-up an IPython Comm through the \"matplotlib\" channel.\n\n    var id = msg.content.data.id;\n    // Get hold of the div created by the display call when the Comm\n    // socket was opened in Python.\n    var element = $(\"#\" + id);\n    var ws_proxy = comm_websocket_adapter(comm)\n\n    function ondownload(figure, format) {\n        window.open(figure.imageObj.src);\n    }\n\n    var fig = new mpl.figure(id, ws_proxy,\n                           ondownload,\n                           element.get(0));\n\n    // Call onopen now - mpl needs it, as it is assuming we've passed it a real\n    // web socket which is closed, not our websocket->open comm proxy.\n    ws_proxy.onopen();\n\n    fig.parent_element = element.get(0);\n    fig.cell_info = mpl.find_output_cell(\"<div id='\" + id + \"'></div>\");\n    if (!fig.cell_info) {\n        console.error(\"Failed to find cell for figure\", id, fig);\n        return;\n    }\n\n    var output_index = fig.cell_info[2]\n    var cell = fig.cell_info[0];\n\n};\n\nmpl.figure.prototype.handle_close = function(fig, msg) {\n    var width = fig.canvas.width/mpl.ratio\n    fig.root.unbind('remove')\n\n    // Update the output cell to use the data from the current canvas.\n    fig.push_to_output();\n    var dataURL = fig.canvas.toDataURL();\n    // Re-enable the keyboard manager in IPython - without this line, in FF,\n    // the notebook keyboard shortcuts fail.\n    IPython.keyboard_manager.enable()\n    $(fig.parent_element).html('<img src=\"' + dataURL + '\" width=\"' + width + '\">');\n    fig.close_ws(fig, msg);\n}\n\nmpl.figure.prototype.close_ws = function(fig, msg){\n    fig.send_message('closing', msg);\n    // fig.ws.close()\n}\n\nmpl.figure.prototype.push_to_output = function(remove_interactive) {\n    // Turn the data on the canvas into data in the output cell.\n    var width = this.canvas.width/mpl.ratio\n    var dataURL = this.canvas.toDataURL();\n    this.cell_info[1]['text/html'] = '<img src=\"' + dataURL + '\" width=\"' + width + '\">';\n}\n\nmpl.figure.prototype.updated_canvas_event = function() {\n    // Tell IPython that the notebook contents must change.\n    IPython.notebook.set_dirty(true);\n    this.send_message(\"ack\", {});\n    var fig = this;\n    // Wait a second, then push the new image to the DOM so\n    // that it is saved nicely (might be nice to debounce this).\n    setTimeout(function () { fig.push_to_output() }, 1000);\n}\n\nmpl.figure.prototype._init_toolbar = function() {\n    var fig = this;\n\n    var nav_element = $('<div/>');\n    nav_element.attr('style', 'width: 100%');\n    this.root.append(nav_element);\n\n    // Define a callback function for later on.\n    function toolbar_event(event) {\n        return fig.toolbar_button_onclick(event['data']);\n    }\n    function toolbar_mouse_event(event) {\n        return fig.toolbar_button_onmouseover(event['data']);\n    }\n\n    for(var toolbar_ind in mpl.toolbar_items){\n        var name = mpl.toolbar_items[toolbar_ind][0];\n        var tooltip = mpl.toolbar_items[toolbar_ind][1];\n        var image = mpl.toolbar_items[toolbar_ind][2];\n        var method_name = mpl.toolbar_items[toolbar_ind][3];\n\n        if (!name) { continue; };\n\n        var button = $('<button class=\"btn btn-default\" href=\"#\" title=\"' + name + '\"><i class=\"fa ' + image + ' fa-lg\"></i></button>');\n        button.click(method_name, toolbar_event);\n        button.mouseover(tooltip, toolbar_mouse_event);\n        nav_element.append(button);\n    }\n\n    // Add the status bar.\n    var status_bar = $('<span class=\"mpl-message\" style=\"text-align:right; float: right;\"/>');\n    nav_element.append(status_bar);\n    this.message = status_bar[0];\n\n    // Add the close button to the window.\n    var buttongrp = $('<div class=\"btn-group inline pull-right\"></div>');\n    var button = $('<button class=\"btn btn-mini btn-primary\" href=\"#\" title=\"Stop Interaction\"><i class=\"fa fa-power-off icon-remove icon-large\"></i></button>');\n    button.click(function (evt) { fig.handle_close(fig, {}); } );\n    button.mouseover('Stop Interaction', toolbar_mouse_event);\n    buttongrp.append(button);\n    var titlebar = this.root.find($('.ui-dialog-titlebar'));\n    titlebar.prepend(buttongrp);\n}\n\nmpl.figure.prototype._root_extra_style = function(el){\n    var fig = this\n    el.on(\"remove\", function(){\n\tfig.close_ws(fig, {});\n    });\n}\n\nmpl.figure.prototype._canvas_extra_style = function(el){\n    // this is important to make the div 'focusable\n    el.attr('tabindex', 0)\n    // reach out to IPython and tell the keyboard manager to turn it's self\n    // off when our div gets focus\n\n    // location in version 3\n    if (IPython.notebook.keyboard_manager) {\n        IPython.notebook.keyboard_manager.register_events(el);\n    }\n    else {\n        // location in version 2\n        IPython.keyboard_manager.register_events(el);\n    }\n\n}\n\nmpl.figure.prototype._key_event_extra = function(event, name) {\n    var manager = IPython.notebook.keyboard_manager;\n    if (!manager)\n        manager = IPython.keyboard_manager;\n\n    // Check for shift+enter\n    if (event.shiftKey && event.which == 13) {\n        this.canvas_div.blur();\n        // select the cell after this one\n        var index = IPython.notebook.find_cell_index(this.cell_info[0]);\n        IPython.notebook.select(index + 1);\n    }\n}\n\nmpl.figure.prototype.handle_save = function(fig, msg) {\n    fig.ondownload(fig, null);\n}\n\n\nmpl.find_output_cell = function(html_output) {\n    // Return the cell and output element which can be found *uniquely* in the notebook.\n    // Note - this is a bit hacky, but it is done because the \"notebook_saving.Notebook\"\n    // IPython event is triggered only after the cells have been serialised, which for\n    // our purposes (turning an active figure into a static one), is too late.\n    var cells = IPython.notebook.get_cells();\n    var ncells = cells.length;\n    for (var i=0; i<ncells; i++) {\n        var cell = cells[i];\n        if (cell.cell_type === 'code'){\n            for (var j=0; j<cell.output_area.outputs.length; j++) {\n                var data = cell.output_area.outputs[j];\n                if (data.data) {\n                    // IPython >= 3 moved mimebundle to data attribute of output\n                    data = data.data;\n                }\n                if (data['text/html'] == html_output) {\n                    return [cell, data, j];\n                }\n            }\n        }\n    }\n}\n\n// Register the function which deals with the matplotlib target/channel.\n// The kernel may be null if the page has been refreshed.\nif (IPython.notebook.kernel != null) {\n    IPython.notebook.kernel.comm_manager.register_target('matplotlib', mpl.mpl_figure_comm);\n}\n",
      "text/plain": [
       "<IPython.core.display.Javascript object>"
      ]
     },
     "metadata": {},
     "output_type": "display_data"
    },
    {
     "data": {
      "text/html": [
       "<div id='2682daec-b39c-4297-9d09-d5208687ac21'></div>"
      ],
      "text/plain": [
       "<IPython.core.display.HTML object>"
      ]
     },
     "metadata": {},
     "output_type": "display_data"
    },
    {
     "data": {
      "text/plain": [
       "[[<Figure size 640x480 with 4 Axes>]]"
      ]
     },
     "execution_count": 7,
     "metadata": {},
     "output_type": "execute_result"
    }
   ],
   "source": [
    "# 案例 --Backtrader系列\n",
    "from datetime import datetime\n",
    "\n",
    "import backtrader as bt  # 升级到最新版\n",
    "import matplotlib.pyplot as plt  # 由于 Backtrader 的问题，此处要求 pip install matplotlib==3.2.2\n",
    "import akshare as ak  # 升级到最新版\n",
    "import pandas as pd\n",
    "\n",
    "plt.rcParams[\"font.sans-serif\"] = [\"SimHei\"]\n",
    "plt.rcParams[\"axes.unicode_minus\"] = False\n",
    "\n",
    "# 利用 AKShare 获取股票的后复权数据，这里只获取前 6 列\n",
    "stock_hfq_df = ak.stock_zh_a_hist(symbol=\"000001\", adjust=\"hfq\").iloc[:, :6]\n",
    "# 处理字段命名，以符合 Backtrader 的要求\n",
    "stock_hfq_df.columns = [\n",
    "    'date',\n",
    "    'open',\n",
    "    'close',\n",
    "    'high',\n",
    "    'low',\n",
    "    'volume',\n",
    "]\n",
    "# 把 date 作为日期索引，以符合 Backtrader 的要求\n",
    "stock_hfq_df.index = pd.to_datetime(stock_hfq_df['date'])\n",
    "\n",
    "\n",
    "class MyStrategy(bt.Strategy):\n",
    "    \"\"\"\n",
    "    主策略程序\n",
    "    \"\"\"\n",
    "    params = ((\"maperiod\", 20),)  # 全局设定交易策略的参数\n",
    "\n",
    "    def __init__(self):\n",
    "        \"\"\"\n",
    "        初始化函数\n",
    "        \"\"\"\n",
    "        self.data_close = self.datas[0].close  # 指定价格序列\n",
    "        # 初始化交易指令、买卖价格和手续费\n",
    "        self.order = None\n",
    "        self.buy_price = None\n",
    "        self.buy_comm = None\n",
    "        # 添加移动均线指标\n",
    "        self.sma = bt.indicators.SimpleMovingAverage(\n",
    "            self.datas[0], period=self.params.maperiod\n",
    "        )\n",
    "\n",
    "    def next(self):\n",
    "        \"\"\"\n",
    "        执行逻辑\n",
    "        \"\"\"\n",
    "        if self.order:  # 检查是否有指令等待执行,\n",
    "            return\n",
    "        # 检查是否持仓\n",
    "        if not self.position:  # 没有持仓\n",
    "            if self.data_close[0] > self.sma[0]:  # 执行买入条件判断：收盘价格上涨突破20日均线\n",
    "                self.order = self.buy(size=100)  # 执行买入\n",
    "        else:\n",
    "            if self.data_close[0] < self.sma[0]:  # 执行卖出条件判断：收盘价格跌破20日均线\n",
    "                self.order = self.sell(size=100)  # 执行卖出\n",
    "\n",
    "\n",
    "cerebro = bt.Cerebro()  # 初始化回测系统\n",
    "start_date = datetime(1991, 4, 3)  # 回测开始时间\n",
    "end_date = datetime(2020, 6, 16)  # 回测结束时间\n",
    "data = bt.feeds.PandasData(dataname=stock_hfq_df, fromdate=start_date, todate=end_date)  # 加载数据\n",
    "cerebro.adddata(data)  # 将数据传入回测系统\n",
    "cerebro.addstrategy(MyStrategy)  # 将交易策略加载到回测系统中\n",
    "start_cash = 1000000\n",
    "cerebro.broker.setcash(start_cash)  # 设置初始资本为 100000\n",
    "cerebro.broker.setcommission(commission=0.002)  # 设置交易手续费为 0.2%\n",
    "cerebro.run()  # 运行回测系统\n",
    "\n",
    "port_value = cerebro.broker.getvalue()  # 获取回测结束后的总资金\n",
    "pnl = port_value - start_cash  # 盈亏统计\n",
    "\n",
    "print(f\"初始资金: {start_cash}\\n回测期间：{start_date.strftime('%Y%m%d')}:{end_date.strftime('%Y%m%d')}\")\n",
    "print(f\"总资金: {round(port_value, 2)}\")\n",
    "print(f\"净收益: {round(pnl, 2)}\")\n",
    "\n",
    "cerebro.plot(style='candlestick')  # 画图\n"
   ]
  },
  {
   "cell_type": "code",
   "execution_count": 8,
   "metadata": {},
   "outputs": [
    {
     "name": "stdout",
     "output_type": "stream",
     "text": [
      "1\n",
      "1083777\n",
      "1083742\n",
      "1083742 is not table, it will be skip\n",
      "1083322\n",
      "1083653\n",
      "1083654\n",
      "1083635\n",
      "1083634\n",
      "1083633\n",
      "1083632\n",
      "1083631\n",
      "1083629\n",
      "1083627\n",
      "1083625\n",
      "1083605\n",
      "1083604\n",
      "1083338\n",
      "1083332\n",
      "1083327\n",
      "           行政处罚决定书文号                     姓名              单位  \\\n",
      "0    吴银保监罚决字〔2022〕3号                    NaN            <NA>   \n",
      "1   衢银保监罚决字〔2022〕16号                    程明太            <NA>   \n",
      "2   扬银保监罚决字〔2022〕49号                    周新峰  恒丰银行股份有限公司扬州分行   \n",
      "3   扬银保监罚决字〔2022〕50号                    NaN             NaN   \n",
      "4   抚银保监罚决字〔2022〕39号  冯国强（江西资溪农村商业银行股份有限公司）            <NA>   \n",
      "5   抚银保监罚决字〔2022〕38号  许建中（江西资溪农村商业银行股份有限公司）            <NA>   \n",
      "6   抚银保监罚决字〔2022〕37号  何兆栋（江西资溪农村商业银行股份有限公司）            <NA>   \n",
      "7   抚银保监罚决字〔2022〕36号                    NaN            <NA>   \n",
      "8   抚银保监罚决字〔2022〕35号  黄敏峰（江西崇仁农村商业银行股份有限公司）            <NA>   \n",
      "9   抚银保监罚决字〔2022〕34号  余丽兰（江西崇仁农村商业银行股份有限公司）            <NA>   \n",
      "10  抚银保监罚决字〔2022〕33号  吴海和（江西崇仁农村商业银行股份有限公司）            <NA>   \n",
      "11  抚银保监罚决字〔2022〕32号  蒋振根（江西崇仁农村商业银行股份有限公司）            <NA>   \n",
      "12  抚银保监罚决字〔2022〕31号                    NaN            <NA>   \n",
      "13   余银保监罚决字〔2022〕7号                    NaN            <NA>   \n",
      "14  六银保监罚决字〔2022〕16号         王春（盘县农村信用合作联社）            <NA>   \n",
      "15  六银保监罚决字〔2022〕15号        王金花（盘县农村信用合作联社）            <NA>   \n",
      "16  六银保监罚决字〔2022〕14号                    NaN            <NA>   \n",
      "\n",
      "                  单位名称 主要负责人姓名  \\\n",
      "0     宁夏盐池农村商业银行股份有限公司     徐海云   \n",
      "1   浙江衢州衢江农村商业银行股份有限公司     洪辉发   \n",
      "2                  NaN     NaN   \n",
      "3       恒丰银行股份有限公司扬州分行     吕素娟   \n",
      "4                  NaN     NaN   \n",
      "5                  NaN     NaN   \n",
      "6                  NaN     NaN   \n",
      "7     江西资溪农村商业银行股份有限公司     熊果然   \n",
      "8                  NaN     NaN   \n",
      "9                  NaN     NaN   \n",
      "10                 NaN     NaN   \n",
      "11                 NaN     NaN   \n",
      "12    江西崇仁农村商业银行股份有限公司     危仁强   \n",
      "13      新余农村商业银行股份有限公司     程建勇   \n",
      "14                 NaN     NaN   \n",
      "15                 NaN     NaN   \n",
      "16          盘县农村信用合作联社      何璞   \n",
      "\n",
      "                                         主要违法违规事实（案由）  \\\n",
      "0                                   信贷管理薄弱，严重违反审慎经营规则   \n",
      "1   个人贷款管理不审慎，消费性贷款和经营性贷款进入禁止性领域，未按贷款实际用途纳入科目核算。程明...   \n",
      "2           对恒丰银行股份有限公司扬州分行信贷资金被挪作他用、票据业务贸易背景不真实负管理责任   \n",
      "3                       信贷资金被挪作他用、票据业务贸易背景不真实、贷款审查不尽职   \n",
      "4   对江西资溪农村商业银行股份有限公司贷前调查不尽职，贷后管理不到位，信贷资金被挪用于房地产领域...   \n",
      "5   对江西资溪农村商业银行股份有限公司贷前调查不尽职，贷后管理不到位，发放借名贷款的违法行为负直接责任   \n",
      "6   对江西资溪农村商业银行股份有限公司贷前调查不尽职，贷后管理不到位，发放借名贷款及贷前调查不尽...   \n",
      "7   贷前调查不尽职，贷后管理不到位，发放借名贷款；贷前调查不尽职，贷后管理不到位，信贷资金被挪用...   \n",
      "8     对江西崇仁农村商业银行股份有限公司贷后管理不到位，贷款资金被挪用于股权投资的违法行为负直接责任   \n",
      "9   对江西崇仁农村商业银行股份有限公司贷前调查不尽职，贷后管理不到位，违规发放借名贷款的违法行为...   \n",
      "10  对江西崇仁农村商业银行股份有限公司贷前调查不尽职，贷后管理不到位，违规发放借名贷款的违法行为...   \n",
      "11  对江西崇仁农村商业银行股份有限公司贷前调查不尽职，贷后管理不到位，违规发放借名贷款及贷后管理...   \n",
      "12      贷前调查不尽职，贷后管理不到位，违规发放借名贷款；贷后管理不到位，贷款资金被挪用于股权投资   \n",
      "13                              非现场统计数据差错导致大额风险暴露指标超标   \n",
      "14  是对盘县联社贷前调查不尽职，住房按揭贷款未核实借款人首付款真实性违法违规行为负管理责任的直接责任人   \n",
      "15  是对盘县联社贷前调查不尽职，住房按揭贷款未核实借款人首付款真实性违法违规行为负管理责任的直接责任人   \n",
      "16               盘县农村信用合作联社贷前调查不尽职，住房按揭贷款未核实借款人首付款真实性   \n",
      "\n",
      "                                               行政处罚依据  \\\n",
      "0                           《中华人民共和国银行业监督管理法》第四十六条第五项   \n",
      "1              《中华人民共和国银行业监督管理法》第四十六条第（五）项、第四十八条第（二）项   \n",
      "2                         《中华人民共和国银行业监督管理法》第四十八条第（二）项   \n",
      "3   《中华人民共和国银行业监督管理法》第四十六条第（五）项、《中华人民共和国行政处罚法》第二十八...   \n",
      "4                              《中华人民共和国银行业监督管理法》第四十八条   \n",
      "5                              《中华人民共和国银行业监督管理法》第四十八条   \n",
      "6                              《中华人民共和国银行业监督管理法》第四十八条   \n",
      "7                              《中华人民共和国银行业监督管理法》第四十六条   \n",
      "8                              《中华人民共和国银行业监督管理法》第四十八条   \n",
      "9                              《中华人民共和国银行业监督管理法》第四十八条   \n",
      "10                             《中华人民共和国银行业监督管理法》第四十八条   \n",
      "11                             《中华人民共和国银行业监督管理法》第四十八条   \n",
      "12                             《中华人民共和国银行业监督管理法》第四十六条   \n",
      "13                             《中华人民共和国银行业监督管理法》第四十六条   \n",
      "14                             《中华人民共和国银行业监督管理法》第四十八条   \n",
      "15                             《中华人民共和国银行业监督管理法》第四十八条   \n",
      "16                             《中华人民共和国银行业监督管理法》第四十六条   \n",
      "\n",
      "                                  行政处罚决定           作出处罚决定的机关名称    作出处罚决定的日期  \\\n",
      "0        对宁夏盐池农村商业银行股份有限公司予以30万元罚款的行政处罚。               吴忠银保监分局  2022年11月22日   \n",
      "1   对浙江衢州衢江农村商业银行股份有限公司罚款人民币50万元；对程明太警告。          中国银保监会衢州监管分局  2022年11月22日   \n",
      "2                               警告，罚款6万元   中国银行保险监督管理委员会扬州监管分局  2022年11月18日   \n",
      "3                    没收违法所得1.9万元，罚款105万元   中国银行保险监督管理委员会扬州监管分局  2022年11月18日   \n",
      "4                                     警告          中国银保监会抚州监管分局  2022年11月25日   \n",
      "5                                     警告          中国银保监会抚州监管分局  2022年11月25日   \n",
      "6                                     警告          中国银保监会抚州监管分局  2022年11月25日   \n",
      "7                                 罚款60万元          中国银保监会抚州监管分局  2022年11月25日   \n",
      "8                                     警告          中国银保监会抚州监管分局  2022年11月25日   \n",
      "9                                     警告          中国银保监会抚州监管分局  2022年11月25日   \n",
      "10                                    警告          中国银保监会抚州监管分局  2022年11月25日   \n",
      "11                                    警告          中国银保监会抚州监管分局  2022年11月25日   \n",
      "12                                罚款60万元          中国银保监会抚州监管分局  2022年11月25日   \n",
      "13                                罚款20万元          中国银保监会新余监管分局  2022年11月28日   \n",
      "14                                    警告  中国银行保险监督管理委员会六盘水监管分局  2022年11月18日   \n",
      "15                                    警告  中国银行保险监督管理委员会六盘水监管分局  2022年11月18日   \n",
      "16                               罚款二十五万元  中国银行保险监督管理委员会六盘水监管分局  2022年11月18日   \n",
      "\n",
      "       处罚ID               处罚公布日期  \n",
      "0   1083777  2022-11-30 19:16:49  \n",
      "1   1083322  2022-11-30 11:09:09  \n",
      "2   1083653  2022-11-29 20:00:00  \n",
      "3   1083654  2022-11-29 20:00:00  \n",
      "4   1083635  2022-11-29 16:27:14  \n",
      "5   1083634  2022-11-29 16:26:36  \n",
      "6   1083633  2022-11-29 16:25:50  \n",
      "7   1083632  2022-11-29 16:24:58  \n",
      "8   1083631  2022-11-29 16:24:11  \n",
      "9   1083629  2022-11-29 16:23:14  \n",
      "10  1083627  2022-11-29 16:22:28  \n",
      "11  1083625  2022-11-29 16:21:37  \n",
      "12  1083605  2022-11-29 15:14:04  \n",
      "13  1083604  2022-11-29 15:11:08  \n",
      "14  1083338  2022-11-28 17:16:00  \n",
      "15  1083332  2022-11-28 17:15:00  \n",
      "16  1083327  2022-11-28 17:14:00  \n"
     ]
    }
   ],
   "source": [
    "# 银行数据\n",
    "import akshare as ak\n",
    "bank_fjcf_table_detail_df = ak.bank_fjcf_table_detail(page=1)\n",
    "print(bank_fjcf_table_detail_df)"
   ]
  },
  {
   "cell_type": "code",
   "execution_count": 14,
   "metadata": {},
   "outputs": [
    {
     "name": "stdout",
     "output_type": "stream",
     "text": [
      "姚明（Yao Ming），男，汉族，无党派人士，1980年9月12日出生于上海市徐汇区，祖籍江苏省苏州市吴江区震泽镇，前中国职业篮球运动员，司职中锋，现任亚洲篮球联合会主席、中国篮球协会主席、中职联公司董事长兼总经理，十三届全国青联副主席，改革先锋奖章获得者。\n"
     ]
    }
   ],
   "source": [
    "# nlp --智能问答\n",
    "import akshare as ak\n",
    "\n",
    "nlp_answer_df = ak.nlp_answer(question=\"姚明是谁\")\n",
    "print(nlp_answer_df)"
   ]
  },
  {
   "cell_type": "code",
   "execution_count": 17,
   "metadata": {},
   "outputs": [
    {
     "name": "stdout",
     "output_type": "stream",
     "text": [
      "['中国通信学会', '学科']\n",
      "人工智能（Artificial Intelligence），英文缩写为AI。\n",
      "None\n"
     ]
    }
   ],
   "source": [
    "# nlp --知识图谱\n",
    "import akshare as ak\n",
    "\n",
    "nlp_ownthink_df = ak.nlp_ownthink(word=\"人工智能\", indicator=\"tag\")\n",
    "print(nlp_ownthink_df)\n",
    "\n",
    "nlp_ownthink_df = ak.nlp_ownthink(word=\"人工智能\", indicator=\"desc\")\n",
    "print(nlp_ownthink_df)\n",
    "\n",
    "nlp_ownthink_df = ak.nlp_ownthink(word=\"人工智能\", indicator=\"avg\")\n",
    "print(nlp_ownthink_df)"
   ]
  },
  {
   "cell_type": "code",
   "execution_count": 24,
   "metadata": {},
   "outputs": [
    {
     "name": "stdout",
     "output_type": "stream",
     "text": [
      "            id                      name sex   age  height  weight  \\\n",
      "0            1                 A Dijiang   M  24.0   180.0    80.0   \n",
      "1            2                  A Lamusi   M  23.0   170.0    60.0   \n",
      "2            3       Gunnar Nielsen Aaby   M  24.0     NaN     NaN   \n",
      "3            4      Edgar Lindenau Aabye   M  34.0     NaN     NaN   \n",
      "4            5  Christine Jacoba Aaftink   F  21.0   185.0    82.0   \n",
      "...        ...                       ...  ..   ...     ...     ...   \n",
      "271111  135569                Andrzej ya   M  29.0   179.0    89.0   \n",
      "271112  135570                  Piotr ya   M  27.0   176.0    59.0   \n",
      "271113  135570                  Piotr ya   M  27.0   176.0    59.0   \n",
      "271114  135571        Tomasz Ireneusz ya   M  30.0   185.0    96.0   \n",
      "271115  135571        Tomasz Ireneusz ya   M  34.0   185.0    96.0   \n",
      "\n",
      "                  team  noc        games  year  season            city  \\\n",
      "0                China  CHN  1992 Summer  1992  Summer       Barcelona   \n",
      "1                China  CHN  2012 Summer  2012  Summer          London   \n",
      "2              Denmark  DEN  1920 Summer  1920  Summer       Antwerpen   \n",
      "3       Denmark/Sweden  DEN  1900 Summer  1900  Summer           Paris   \n",
      "4          Netherlands  NED  1988 Winter  1988  Winter         Calgary   \n",
      "...                ...  ...          ...   ...     ...             ...   \n",
      "271111        Poland-1  POL  1976 Winter  1976  Winter       Innsbruck   \n",
      "271112          Poland  POL  2014 Winter  2014  Winter           Sochi   \n",
      "271113          Poland  POL  2014 Winter  2014  Winter           Sochi   \n",
      "271114          Poland  POL  1998 Winter  1998  Winter          Nagano   \n",
      "271115          Poland  POL  2002 Winter  2002  Winter  Salt Lake City   \n",
      "\n",
      "                sport                                     event medal  \n",
      "0          Basketball               Basketball Men's Basketball   NaN  \n",
      "1                Judo              Judo Men's Extra-Lightweight   NaN  \n",
      "2            Football                   Football Men's Football   NaN  \n",
      "3          Tug-Of-War               Tug-Of-War Men's Tug-Of-War  Gold  \n",
      "4       Speed Skating          Speed Skating Women's 500 metres   NaN  \n",
      "...               ...                                       ...   ...  \n",
      "271111           Luge                Luge Mixed (Men)'s Doubles   NaN  \n",
      "271112    Ski Jumping  Ski Jumping Men's Large Hill, Individual   NaN  \n",
      "271113    Ski Jumping        Ski Jumping Men's Large Hill, Team   NaN  \n",
      "271114      Bobsleigh                      Bobsleigh Men's Four   NaN  \n",
      "271115      Bobsleigh                      Bobsleigh Men's Four   NaN  \n",
      "\n",
      "[271116 rows x 15 columns]\n"
     ]
    }
   ],
   "source": [
    "# 奥运奖牌\n",
    "import akshare as ak\n",
    "\n",
    "sport_olympic_hist_df = ak.sport_olympic_hist()\n",
    "print(sport_olympic_hist_df)"
   ]
  },
  {
   "cell_type": "code",
   "execution_count": 25,
   "metadata": {},
   "outputs": [
    {
     "name": "stdout",
     "output_type": "stream",
     "text": [
      "                                  公司名称(中文)  营业收入(百万美元)  利润(百万美元)   国家\n",
      "0                             沃尔玛（WALMART)    514405.0    6670.0   美国\n",
      "1                中国石油化工集团公司（SINOPEC GROUP)    414649.9    5845.0   中国\n",
      "2            荷兰皇家壳牌石油公司（ROYAL DUTCH SHELL)    396556.0   23352.0   荷兰\n",
      "3    中国石油天然气集团公司（CHINA NATIONAL PETROLEUM)    392976.6    2270.5   中国\n",
      "4                       国家电网公司（STATE GRID)    387056.0    8174.8   中国\n",
      "..                                     ...         ...       ...  ...\n",
      "495                              纽柯（NUCOR)     25067.3    2360.8   美国\n",
      "496               蒙特利尔银行（BANK OF MONTREAL)     25002.7    4235.1  加拿大\n",
      "497        泰康保险集团（TAIKANG INSURANCE GROUP)     24931.7    1794.6   中国\n",
      "498        Ultrapar控股公司（ULTRAPAR HOLDINGS)     24816.0     314.8   巴西\n",
      "499                  法国液化空气集团（AIR LIQUIDE)     24796.6    2494.2   法国\n",
      "\n",
      "[500 rows x 4 columns]\n"
     ]
    }
   ],
   "source": [
    "# 财富排行榜\n",
    "import akshare as ak\n",
    "fortune_df = ak.fortune_rank(year=\"2019\")\n",
    "print(fortune_df)"
   ]
  },
  {
   "cell_type": "code",
   "execution_count": 26,
   "metadata": {},
   "outputs": [
    {
     "name": "stdout",
     "output_type": "stream",
     "text": [
      "   排序             名称   类型   播映指数   媒体热度   用户热度    好评度    观看度        统计日期\n",
      "0   1        再见爱人第二季  真人秀  72.78  65.76  54.31  83.00  69.09  2022-11-30\n",
      "1   2    一年一度喜剧大赛第二季  真人秀  68.52  53.40  53.30  81.00  65.28  2022-11-30\n",
      "2   3       奔跑吧共同富裕篇  真人秀  62.82  69.49  42.14  51.74  67.43  2022-11-30\n",
      "3   4  令人心动的offer第四季  真人秀  62.35  47.71  56.49  51.15  61.46  2022-11-30\n",
      "4   5     妻子的浪漫旅行第六季  真人秀  60.85  60.46  49.56  50.92  59.18  2022-11-30\n",
      "5   6       来看我们的演唱会  真人秀  60.54  44.07  53.92  51.10  60.97  2022-11-30\n",
      "6   7       脱口秀大会第五季  脱口秀  59.48  60.24  45.77  57.00  56.94  2022-11-30\n",
      "7   8          你好星期六  真人秀  59.15  23.32  52.59  51.00  67.65  2022-11-30\n",
      "8   9        我们的歌第四季  真人秀  58.72  65.88  38.43  73.00  53.03  2022-11-30\n",
      "9  10          乐队的海边  真人秀  56.37  48.77  48.32  50.41  54.12  2022-11-30\n"
     ]
    }
   ],
   "source": [
    "# 综艺节目\n",
    "import akshare as ak\n",
    "\n",
    "video_variety_show_df = ak.video_variety_show()\n",
    "print(video_variety_show_df)"
   ]
  },
  {
   "cell_type": "code",
   "execution_count": 27,
   "metadata": {},
   "outputs": [
    {
     "name": "stdout",
     "output_type": "stream",
     "text": [
      "     排名   艺人   商业价值   专业热度   关注热度   预测热度    美誉度        统计日期\n",
      "0     1   杨幂  89.74  88.71  83.58  59.76  71.00  2022-12-01\n",
      "1     2   杨颖  87.85  87.07  78.21  81.04  57.00  2022-12-01\n",
      "2     3  关晓彤  85.76  83.47  83.26  49.15  58.00  2022-12-01\n",
      "3     4   杨紫  85.41  80.23  83.02  83.02  58.67  2022-12-01\n",
      "4     5   刘涛  84.01  84.73  73.42  69.59  62.67  2022-12-01\n",
      "..  ...  ...    ...    ...    ...    ...    ...         ...\n",
      "95   96  陈都灵  72.07  67.00  73.60  53.56  53.33  2022-12-01\n",
      "96   97  赵本山  72.02  73.17  66.71  26.76  63.33  2022-12-01\n",
      "97   98   魏晨  71.94  76.37  61.46  23.59  79.33  2022-12-01\n",
      "98   99  吴谨言  71.93  68.14  71.95  48.77  69.00  2022-12-01\n",
      "99  100  伊能静  71.88  63.04  81.51  42.10  70.00  2022-12-01\n",
      "\n",
      "[100 rows x 8 columns]\n"
     ]
    }
   ],
   "source": [
    "# 艺人价值\n",
    "import akshare as ak\n",
    "\n",
    "business_value_artist_df = ak.business_value_artist()\n",
    "print(business_value_artist_df)"
   ]
  },
  {
   "cell_type": "code",
   "execution_count": 32,
   "metadata": {},
   "outputs": [
    {
     "name": "stdout",
     "output_type": "stream",
     "text": [
      "    排名 俱乐部名称  人气指数  舆论指数  战绩指数  综合指数  排名变动        更新时间\n",
      "0    1   TES   980   415  31.6  29.5   NaN  2022-11-30\n",
      "1    2    IG   948   491  18.7  26.0   NaN  2022-11-30\n",
      "2    3   FPX   582   361  25.7  23.7   NaN  2022-11-30\n",
      "3    4   RNG   263   265  23.4  18.7   NaN  2022-11-30\n",
      "4    5    WE   103   138  28.6  18.0   NaN  2022-11-30\n",
      "5    6   JDG    45   421  25.6  17.4   1.0  2022-11-30\n",
      "6    7   EDG   119   200  23.3  16.2   1.0  2022-11-30\n",
      "7    8   LGD    26   443  22.6  16.0   2.0  2022-11-30\n",
      "8    9    SN    11   211  25.6  15.6   NaN  2022-11-30\n",
      "9   10    ES    13   205  23.3  14.5   1.0  2022-11-30\n",
      "10  11    RW    14   224  22.6  14.3   1.0  2022-11-30\n",
      "11  12   LNG    18   203  22.7  14.3   1.0  2022-11-30\n",
      "12  13   BLG    22   204  22.5  14.3   5.0  2022-11-30\n",
      "13  14    VG    11   152  23.0  14.0   NaN  2022-11-30\n",
      "14  15    V5    33   110  22.5  13.8   1.0  2022-11-30\n",
      "15  16   DMO    11   148  22.6  13.7   1.0  2022-11-30\n",
      "16  17   OMG    42   400   8.2  11.0   NaN  2022-11-30\n"
     ]
    }
   ],
   "source": [
    "# 俱乐部排名\n",
    "import akshare as ak\n",
    "\n",
    "club_rank_game_df = ak.club_rank_game(symbol=\"英雄联盟\")\n",
    "print(club_rank_game_df)"
   ]
  },
  {
   "cell_type": "code",
   "execution_count": 33,
   "metadata": {},
   "outputs": [
    {
     "name": "stdout",
     "output_type": "stream",
     "text": [
      "    排名        选手ID     所属战队  人气指数  舆论指数  战绩指数  综合指数      身价  排名变动        更新时间\n",
      "0    1  Jackeylove      TES  1000   290  30.3  28.9   >900万   NaN  2022-11-30\n",
      "1    2     Knight9      TES   473   308  31.6  24.5   >900万   NaN  2022-11-30\n",
      "2    3      TheShy       IG   640   370  20.8  22.9  >2200万   1.0  2022-11-30\n",
      "3    4         Uzi  退役/自由选手   497   379  23.4  22.1  >5000万   1.0  2022-11-30\n",
      "4    5       Doinb      FPX   433   239  25.5  21.4  >2000万   NaN  2022-11-30\n",
      "5    6       karsa      TES   171   109  30.9  19.9   >950万   NaN  2022-11-30\n",
      "6    7     Gimgoon      FPX   257   107  27.5  19.4  >1200万   NaN  2022-11-30\n",
      "7    8         Lwx      FPX   288   172  25.6  19.4  >1500万   1.0  2022-11-30\n",
      "8    9        Tian      FPX   275   124  25.4  18.8  >1500万   1.0  2022-11-30\n",
      "9   10       Crisp      FPX   289   136  24.7  18.8      暂无   1.0  2022-11-30\n",
      "10  11         369      TES    69   124  30.5  18.4   >600万   3.0  2022-11-30\n",
      "11  12   Clearlove  退役/自由选手   144   187  25.2  17.3  >3000万   NaN  2022-11-30\n",
      "12  13      Rookie       IG   215   195  22.5  17.3  >3000万   2.0  2022-11-30\n",
      "13  14        xiye      LGD    25   163  28.1  16.8   >900万   NaN  2022-11-30\n",
      "14  15        Ning       IG   165   194  22.0  16.3  >1500万  12.0  2022-11-30\n",
      "15  16      Baolan       IG    60   186  24.4  15.7   >600万   1.0  2022-11-30\n",
      "16  17    beishang       WE    15   136  26.1  15.5   >300万   4.0  2022-11-30\n",
      "17  18       LoKeN      JDG    18    73  26.2  15.2   >400万   NaN  2022-11-30\n",
      "18  19        Ming      RNG    60   215  22.5  15.0   >600万  11.0  2022-11-30\n",
      "19  20      Jiejie      EDG    11   211  24.2  15.0      暂无   1.0  2022-11-30\n",
      "20  21      Xiaohu      RNG    48   223  22.7  14.9   >900万   5.0  2022-11-30\n",
      "21  22     Jinjiao      BLG     8    87  25.9  14.9   >400万   1.0  2022-11-30\n",
      "22  23       LvMao      JDG    11   146  24.7  14.8   >200万   5.0  2022-11-30\n",
      "23  24       Yagao      JDG     8   116  25.1  14.7   >500万   NaN  2022-11-30\n",
      "24  25       Langx      LGD    15    78  25.3  14.7      暂无   3.0  2022-11-30\n",
      "25  26    SwordArT       SN    15    76  25.4  14.7   >400万   3.0  2022-11-30\n",
      "26  27        Zoom      JDG     8   135  24.4  14.5   >400万   3.0  2022-11-30\n",
      "27  28      Kramer      LGD    15   215  22.4  14.2      暂无   3.0  2022-11-30\n",
      "28  29        iBoy       VG    15   127  23.1  13.9   >800万   2.0  2022-11-30\n",
      "29  30       Scout      EDG    23   117  22.7  13.8   >600万   2.0  2022-11-30\n",
      "30  31       Meiko      EDG    16   119  22.6  13.6   >600万   2.0  2022-11-30\n",
      "31  32        Yuer  退役/自由选手    15    61  22.8  13.3   >600万  14.0  2022-11-30\n",
      "32  33       Maple      LNG    15    80  22.4  13.2   >500万   1.0  2022-11-30\n",
      "33  34          Xx      LNG    15    95  22.0  13.2   >600万   NaN  2022-11-30\n",
      "34  35       Curse      OMG    15   260  13.3  10.7      暂无   3.0  2022-11-30\n",
      "35  36        Smlz      OMG    40    83  14.0   9.8  >1000万   3.0  2022-11-30\n",
      "36  37        icon      OMG    28    94  14.3   9.7   >600万   3.0  2022-11-30\n",
      "37  38         Pyl  退役/自由选手    15    80  14.1   9.2   >500万   2.0  2022-11-30\n",
      "38  39        Mlxg  退役/自由选手    53   226   0.0   8.5  >2000万   4.0  2022-11-30\n",
      "39  40     Flandre      LNG    15   136   6.2   6.9   >500万   1.0  2022-11-30\n",
      "40  41         957  退役/自由选手    14   112   4.7   6.0   >500万   NaN  2022-11-30\n"
     ]
    }
   ],
   "source": [
    "# 选手排行榜\n",
    "import akshare as ak\n",
    "\n",
    "player_rank_game_df = ak.player_rank_game(symbol=\"英雄联盟\")\n",
    "print(player_rank_game_df)"
   ]
  }
 ],
 "metadata": {
  "kernelspec": {
   "display_name": "Python 3.8.5 ('AKShare_env': venv)",
   "language": "python",
   "name": "python3"
  },
  "language_info": {
   "codemirror_mode": {
    "name": "ipython",
    "version": 3
   },
   "file_extension": ".py",
   "mimetype": "text/x-python",
   "name": "python",
   "nbconvert_exporter": "python",
   "pygments_lexer": "ipython3",
   "version": "3.8.5"
  },
  "orig_nbformat": 4,
  "vscode": {
   "interpreter": {
    "hash": "a7d532e3e11154f2e7d7ed89082ebb813e87d97ada706bb4eeb1869bce951332"
   }
  }
 },
 "nbformat": 4,
 "nbformat_minor": 2
}
