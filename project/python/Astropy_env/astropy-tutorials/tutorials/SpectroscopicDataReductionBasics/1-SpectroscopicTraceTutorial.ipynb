{
 "cells": [
  {
   "cell_type": "markdown",
   "metadata": {
    "slideshow": {
     "slide_type": "slide"
    }
   },
   "source": [
    "# Spectroscopic Data Reduction Part 1: Tracing\n",
    "\n",
    "\n",
    "## Authors\n",
    "Adam Ginsburg, Kelle Cruz, Lia Corrales, Jonathan Sick, Adrian Price-Whelan\n",
    "\n",
    "## Learning Goals\n",
    "* Open a two-dimensional spectrum from an image file (bitmap)\n",
    "* Fit a spectroscopic trace\n",
    "\n",
    "\n",
    "## Keywords\n",
    "Spectroscopy\n",
    "\n",
    "## Summary\n",
    "This tutorial will walk through the derivation of a spectroscopic trace model and extraction using astropy tools.\n",
    "\n",
    "A spectroscopic trace is the path of a point source (star) spectrum through a two-dimensional dispersed spectrum.  The trace is needed because, in general, spectra are not perfectly aligned with the axes of a detector."
   ]
  },
  {
   "cell_type": "markdown",
   "metadata": {
    "slideshow": {
     "slide_type": "slide"
    }
   },
   "source": [
    "# Step 1: Examine the spectrum\n",
    "\n",
    "We'll work with a 2D spectrum that contains *no* attached metadata, so we have to infer many of the features ourselves.\n",
    "\n",
    "All we know is that this is a spectrum of a star, Aldebaran."
   ]
  },
  {
   "cell_type": "markdown",
   "metadata": {
    "slideshow": {
     "slide_type": "slide"
    }
   },
   "source": [
    "Our data are in the form of `.bmp` (bitmap) files, so we need PIL (Python Imaging Library) to open them.\n",
    "\n",
    "While `.bmp` files are not astronomical standard FITS files, as are commonly delivered from professional observatories, image formats like `.bmp`, `.jpg`, `.raw`, `.png`, etc. produced by consumer cameras may also be used for spectroscopy.\n",
    "\n",
    "In this case, our images are monochromatic, which is similar to standard FITS images."
   ]
  },
  {
   "cell_type": "code",
   "execution_count": null,
   "metadata": {
    "slideshow": {
     "slide_type": "fragment"
    }
   },
   "outputs": [],
   "source": [
    "from PIL import Image\n",
    "import numpy as np\n",
    "\n",
    "import pylab as pl\n",
    "pl.rcParams['image.origin'] = 'lower'\n",
    "pl.matplotlib.style.use('dark_background') # Optional!"
   ]
  },
  {
   "cell_type": "code",
   "execution_count": null,
   "metadata": {
    "slideshow": {
     "slide_type": "fragment"
    }
   },
   "outputs": [],
   "source": [
    "spectrum_filename = \"aldebaran_3s_1.bmp\""
   ]
  },
  {
   "cell_type": "code",
   "execution_count": null,
   "metadata": {
    "slideshow": {
     "slide_type": "fragment"
    }
   },
   "outputs": [],
   "source": [
    "image_data = Image.open(spectrum_filename)"
   ]
  },
  {
   "cell_type": "code",
   "execution_count": null,
   "metadata": {
    "slideshow": {
     "slide_type": "slide"
    }
   },
   "outputs": [],
   "source": [
    "# because this is an image, simply entering on the command line will show it\n",
    "image_data"
   ]
  },
  {
   "cell_type": "code",
   "execution_count": null,
   "metadata": {},
   "outputs": [],
   "source": [
    "# our data are unsigned 8-bit integers (0-255) representing a monochromatic image\n",
    "# we can see this by printing the array version of the image\n",
    "# we can also see its shape, verifying that it is indeed 2-dimensional\n",
    "image_array = np.array(image_data)\n",
    "image_array, image_array.shape"
   ]
  },
  {
   "cell_type": "code",
   "execution_count": null,
   "metadata": {
    "slideshow": {
     "slide_type": "slide"
    }
   },
   "outputs": [],
   "source": [
    "# but we'd like to see it with axes labeled\n",
    "pl.imshow(image_data, cmap='gray')\n",
    "pl.colorbar(); # the semicolon at the end of the last line prevents ipython from printing out the object"
   ]
  },
  {
   "cell_type": "markdown",
   "metadata": {
    "slideshow": {
     "slide_type": "slide"
    }
   },
   "source": [
    "The main goal of the trace is to obtain a model `f(x)` defining the vertical position of the light (the signal) along the detector.\n",
    "\n",
    "We're going to start by assuming that wavelength dispersion is in the X-direction and the Y-direction is entirely spatial.  \n",
    "\n",
    "This is an approximation made by inspecting the image by eye."
   ]
  },
  {
   "cell_type": "markdown",
   "metadata": {
    "slideshow": {
     "slide_type": "slide"
    }
   },
   "source": [
    "# Step 2a. Try to find the spine to trace using argmax"
   ]
  },
  {
   "cell_type": "markdown",
   "metadata": {
    "slideshow": {
     "slide_type": "-"
    }
   },
   "source": [
    "To obtain the trace, we first measure the Y-value at each X-value.  we'll start with the trivial approach of using `argmax`:"
   ]
  },
  {
   "cell_type": "code",
   "execution_count": null,
   "metadata": {
    "slideshow": {
     "slide_type": "-"
    }
   },
   "outputs": [],
   "source": [
    "yvals = np.argmax(image_data, axis=0)\n",
    "xvals = np.arange(image_data.width)"
   ]
  },
  {
   "cell_type": "code",
   "execution_count": null,
   "metadata": {
    "slideshow": {
     "slide_type": "slide"
    }
   },
   "outputs": [],
   "source": [
    "pl.plot(xvals, yvals, 'x')\n",
    "pl.ylabel(\"Argmax trace data\")\n",
    "pl.xlabel(\"X position\");"
   ]
  },
  {
   "cell_type": "markdown",
   "metadata": {
    "slideshow": {
     "slide_type": "slide"
    }
   },
   "source": [
    "There's a pretty clear line going through the center, which represents our signal, but there are also a lot of erroneous data points.\n",
    "\n",
    "We can get rid of most of the bad data just by filtering it out using a ``pixel mask``"
   ]
  },
  {
   "cell_type": "code",
   "execution_count": null,
   "metadata": {
    "slideshow": {
     "slide_type": "fragment"
    }
   },
   "outputs": [],
   "source": [
    "bad_pixels = (yvals < 400) | (yvals > 500)"
   ]
  },
  {
   "cell_type": "code",
   "execution_count": null,
   "metadata": {
    "slideshow": {
     "slide_type": "slide"
    }
   },
   "outputs": [],
   "source": [
    "pl.plot(xvals, yvals, 'x')\n",
    "pl.plot(xvals[bad_pixels], yvals[bad_pixels], 'rx')\n",
    "pl.ylabel(\"Argmax trace data\")\n",
    "pl.xlabel(\"X position\");"
   ]
  },
  {
   "cell_type": "code",
   "execution_count": null,
   "metadata": {
    "slideshow": {
     "slide_type": "slide"
    }
   },
   "outputs": [],
   "source": [
    "pl.plot(xvals[~bad_pixels], yvals[~bad_pixels], 'x')\n",
    "pl.ylabel(\"Argmax trace data\")\n",
    "pl.xlabel(\"X position\");"
   ]
  },
  {
   "cell_type": "markdown",
   "metadata": {},
   "source": [
    "We can be a little more precise by 'zooming in' along the y-axis, so we refine the mask again to be over a narrower range:"
   ]
  },
  {
   "cell_type": "code",
   "execution_count": null,
   "metadata": {
    "slideshow": {
     "slide_type": "fragment"
    }
   },
   "outputs": [],
   "source": [
    "bad_pixels = (yvals < 425) | (yvals > 460)"
   ]
  },
  {
   "cell_type": "code",
   "execution_count": null,
   "metadata": {
    "slideshow": {
     "slide_type": "slide"
    }
   },
   "outputs": [],
   "source": [
    "pl.plot(xvals[~bad_pixels], yvals[~bad_pixels], 'x')\n",
    "pl.ylabel(\"Argmax trace data\")\n",
    "pl.xlabel(\"X position\");"
   ]
  },
  {
   "cell_type": "markdown",
   "metadata": {
    "slideshow": {
     "slide_type": "-"
    }
   },
   "source": [
    "The stuff at x>1100 looks bad, but there's still signal out there."
   ]
  },
  {
   "cell_type": "markdown",
   "metadata": {
    "slideshow": {
     "slide_type": "slide"
    }
   },
   "source": [
    "We can see there is clear signal out to nearly pixel ~1400:"
   ]
  },
  {
   "cell_type": "code",
   "execution_count": null,
   "metadata": {
    "slideshow": {
     "slide_type": "-"
    }
   },
   "outputs": [],
   "source": [
    "pl.imshow(image_array[425:475,:])\n",
    "pl.gca().set_aspect(10)"
   ]
  },
  {
   "cell_type": "markdown",
   "metadata": {
    "slideshow": {
     "slide_type": "slide"
    }
   },
   "source": [
    "# Step 2b: Use moment analysis to extract a spine to trace"
   ]
  },
  {
   "cell_type": "markdown",
   "metadata": {
    "slideshow": {
     "slide_type": "-"
    }
   },
   "source": [
    "We can use [moments](https://en.wikipedia.org/wiki/Moment_(mathematics)) to provide a different, possibly better, estimate of where the trace's center is.\n",
    "The advantage of moment analysis is that we're using all of the data to estimate the vertical position, not just the single brightest value, which is what we used above.\n",
    "\n",
    "Note that we need to subtract off the background to avoid a bias toward the center, so we use the median of the whole image as our background estimate.\n",
    "\n",
    "(the first-order moment is the intensity-weighted mean position, \n",
    "$$m_1 = \\frac{\\Sigma_i x_i f(x_i)}{\\Sigma_i f(x_i)}$$\n",
    "where $x_i$ is the position and $f({x_i})$ is the intensity at that position.  $f(x_i)$ must be zero in the signal-free region for $m_1$ to return an accurate estimate of the location of the peak)"
   ]
  },
  {
   "cell_type": "code",
   "execution_count": null,
   "metadata": {
    "slideshow": {
     "slide_type": "-"
    }
   },
   "outputs": [],
   "source": [
    "# we use a cutout around the traced line, so the Y-values are from that cutout\n",
    "# the `repeat` command here is used to extend our Y-axis position values, which are 425, 426, ... 475\n",
    "# along the X-direction.  The indexing with [:, None] adds a \"dummy\" axis along the second (x) dimension,\n",
    "# then `repeat` copies our Y-axis values.  The resulting array has the same shape as our weight array,\n",
    "# which is image_array[425:475, :] minus the median\n",
    "yaxis = np.repeat(np.arange(425, 475)[:,None],\n",
    "                  image_array.shape[1], axis=1)\n",
    "background = np.median(image_array)\n",
    "# moment 1 is the data-weighted average of the Y-axis coordinates\n",
    "weighted_yaxis_values = np.average(yaxis, axis=0,\n",
    "                                   weights=image_array[425:475,:] - background)"
   ]
  },
  {
   "cell_type": "code",
   "execution_count": null,
   "metadata": {
    "slideshow": {
     "slide_type": "slide"
    }
   },
   "outputs": [],
   "source": [
    "pl.plot(xvals, weighted_yaxis_values, 'x')\n",
    "pl.xlabel(\"X Coordinate\")\n",
    "pl.ylabel(\"Moment-1 estimated Y-value trace\");"
   ]
  },
  {
   "cell_type": "markdown",
   "metadata": {
    "slideshow": {
     "slide_type": "slide"
    }
   },
   "source": [
    "Overplot the \"weighted\", centroid locations on the data to verify they look reasonable."
   ]
  },
  {
   "cell_type": "code",
   "execution_count": null,
   "metadata": {
    "slideshow": {
     "slide_type": "-"
    }
   },
   "outputs": [],
   "source": [
    "# we need to use the 'extent' keyword to have the axes correctly labeled\n",
    "pl.imshow(image_array[425:475,:],\n",
    "          extent=[0,image_array.shape[1],425,475])\n",
    "pl.gca().set_aspect(10) # we stretch the image out by 10x in the y-direction\n",
    "pl.plot(xvals, weighted_yaxis_values, 'wx', alpha=0.5)\n",
    "pl.axis((0,1600,425,475));"
   ]
  },
  {
   "cell_type": "markdown",
   "metadata": {
    "slideshow": {
     "slide_type": "slide"
    }
   },
   "source": [
    "We can also compare the argmax and weighted approaches.  They agree well at x<1200, but there are simply more points from the weighted approach at x>1200."
   ]
  },
  {
   "cell_type": "code",
   "execution_count": null,
   "metadata": {
    "slideshow": {
     "slide_type": "-"
    }
   },
   "outputs": [],
   "source": [
    "pl.plot(xvals, weighted_yaxis_values, 'x', label=\"Weighted\", alpha=0.5)\n",
    "pl.plot(xvals[~bad_pixels], yvals[~bad_pixels], '+', label=\"Argmax\", alpha=0.5)\n",
    "pl.legend(loc='best');"
   ]
  },
  {
   "cell_type": "markdown",
   "metadata": {
    "slideshow": {
     "slide_type": "slide"
    }
   },
   "source": [
    "That's a decent set of data, we'll use the moments instead of the argmax.  There's still some data to flag out, though:"
   ]
  },
  {
   "cell_type": "code",
   "execution_count": null,
   "metadata": {
    "slideshow": {
     "slide_type": "-"
    }
   },
   "outputs": [],
   "source": [
    "bad_moments = (weighted_yaxis_values > 460) | (weighted_yaxis_values < 430)"
   ]
  },
  {
   "cell_type": "code",
   "execution_count": null,
   "metadata": {
    "slideshow": {
     "slide_type": "slide"
    }
   },
   "outputs": [],
   "source": [
    "pl.plot(xvals[~bad_moments], weighted_yaxis_values[~bad_moments], 'x', label=\"Weighted\", alpha=0.5)\n",
    "pl.plot(xvals[~bad_pixels], yvals[~bad_pixels], '+', label=\"Argmax\", alpha=0.5)\n",
    "pl.legend(loc='best');"
   ]
  },
  {
   "cell_type": "markdown",
   "metadata": {
    "slideshow": {
     "slide_type": "slide"
    }
   },
   "source": [
    "# Step 3. Fit the trace profile\n",
    "\n",
    "We want a model `f(x)` that gives the y-value of the centroid as a function of x."
   ]
  },
  {
   "cell_type": "code",
   "execution_count": null,
   "metadata": {
    "slideshow": {
     "slide_type": "slide"
    }
   },
   "outputs": [],
   "source": [
    "from astropy.modeling.polynomial import Polynomial1D\n",
    "from astropy.modeling.fitting import LinearLSQFitter"
   ]
  },
  {
   "cell_type": "code",
   "execution_count": null,
   "metadata": {
    "slideshow": {
     "slide_type": "-"
    }
   },
   "outputs": [],
   "source": [
    "# We fit a 2nd-order polynomial\n",
    "polymodel = Polynomial1D(degree=2)\n",
    "linfitter = LinearLSQFitter()\n",
    "fitted_polymodel = linfitter(polymodel, xvals[~bad_moments], weighted_yaxis_values[~bad_moments])"
   ]
  },
  {
   "cell_type": "code",
   "execution_count": null,
   "metadata": {
    "slideshow": {
     "slide_type": "-"
    }
   },
   "outputs": [],
   "source": [
    "fitted_polymodel"
   ]
  },
  {
   "cell_type": "code",
   "execution_count": null,
   "metadata": {},
   "outputs": [],
   "source": [
    "pl.plot(xvals[~bad_moments], weighted_yaxis_values[~bad_moments], 'x', alpha=0.5)\n",
    "pl.plot(xvals, fitted_polymodel(xvals), color='r');"
   ]
  },
  {
   "cell_type": "markdown",
   "metadata": {
    "slideshow": {
     "slide_type": "slide"
    }
   },
   "source": [
    "We plot and examine the residuals to visually inspect whether the fit is good:"
   ]
  },
  {
   "cell_type": "code",
   "execution_count": null,
   "metadata": {},
   "outputs": [],
   "source": [
    "pl.plot(xvals[~bad_moments],\n",
    "        weighted_yaxis_values[~bad_moments] - fitted_polymodel(xvals[~bad_moments]), 'x')\n",
    "pl.ylabel(\"Residual (data-model)\");"
   ]
  },
  {
   "cell_type": "markdown",
   "metadata": {},
   "source": [
    "The curvature seen at the left is a sign of a suboptimal fit.  Specifically, curvature in the residual indicates that we need to use a _higher order_ model - i.e., we need more terms in the polynomial.  We change ``degree=2`` to ``degree=3``."
   ]
  },
  {
   "cell_type": "code",
   "execution_count": null,
   "metadata": {
    "slideshow": {
     "slide_type": "slide"
    }
   },
   "outputs": [],
   "source": [
    "polymodel = Polynomial1D(degree=3)\n",
    "fitted_polymodel = linfitter(polymodel, xvals[~bad_moments], weighted_yaxis_values[~bad_moments])\n",
    "fitted_polymodel"
   ]
  },
  {
   "cell_type": "code",
   "execution_count": null,
   "metadata": {
    "slideshow": {
     "slide_type": "slide"
    }
   },
   "outputs": [],
   "source": [
    "pl.plot(xvals[~bad_moments], weighted_yaxis_values[~bad_moments], 'x', alpha=0.5)\n",
    "pl.plot(xvals, fitted_polymodel(xvals), color='r');"
   ]
  },
  {
   "cell_type": "code",
   "execution_count": null,
   "metadata": {
    "slideshow": {
     "slide_type": "slide"
    }
   },
   "outputs": [],
   "source": [
    "pl.plot(xvals[~bad_moments],\n",
    "      weighted_yaxis_values[~bad_moments] - fitted_polymodel(xvals[~bad_moments]), 'x')\n",
    "pl.ylabel(\"Residual (data-model)\");"
   ]
  },
  {
   "cell_type": "markdown",
   "metadata": {
    "slideshow": {
     "slide_type": "slide"
    }
   },
   "source": [
    "Arguably, we should toss out the data at >1400 pixels since there's no clear signal there.  We'll come back to this..."
   ]
  },
  {
   "cell_type": "code",
   "execution_count": null,
   "metadata": {},
   "outputs": [],
   "source": [
    "pl.imshow(image_array[425:475,:],\n",
    "          extent=[0,image_array.shape[1],425,475])\n",
    "pl.gca().set_aspect(10);"
   ]
  },
  {
   "cell_type": "markdown",
   "metadata": {
    "slideshow": {
     "slide_type": "slide"
    }
   },
   "source": [
    "Again, we should verify the trace by overplotting on the original data:"
   ]
  },
  {
   "cell_type": "code",
   "execution_count": null,
   "metadata": {},
   "outputs": [],
   "source": [
    "pl.imshow(image_array[425:475,:], extent=[0,image_array.shape[1],425,475])\n",
    "pl.gca().set_aspect(10)\n",
    "pl.plot(xvals, fitted_polymodel(xvals), 'w')\n",
    "pl.axis((0,1600,425,475));"
   ]
  },
  {
   "cell_type": "markdown",
   "metadata": {},
   "source": [
    "Seeing the curve up in the model to the right - which we do not observe in the data - suggests we should re-fit without including the x>1200 data at all:"
   ]
  },
  {
   "cell_type": "code",
   "execution_count": null,
   "metadata": {
    "slideshow": {
     "slide_type": "slide"
    }
   },
   "outputs": [],
   "source": [
    "polymodel = Polynomial1D(degree=3)\n",
    "fitted_polymodel = linfitter(polymodel, xvals[(~bad_moments) & (xvals < 1200)],\n",
    "                             weighted_yaxis_values[(~bad_moments) & (xvals < 1200)])\n",
    "fitted_polymodel"
   ]
  },
  {
   "cell_type": "markdown",
   "metadata": {},
   "source": [
    "We now have a satisfactory fit:"
   ]
  },
  {
   "cell_type": "code",
   "execution_count": null,
   "metadata": {
    "slideshow": {
     "slide_type": "-"
    }
   },
   "outputs": [],
   "source": [
    "pl.imshow(image_array[425:475,:], extent=[0,image_array.shape[1],425,475])\n",
    "pl.gca().set_aspect(10)\n",
    "pl.plot(xvals, fitted_polymodel(xvals), 'w')\n",
    "pl.axis((0,1600,425,475));"
   ]
  },
  {
   "cell_type": "code",
   "execution_count": null,
   "metadata": {
    "slideshow": {
     "slide_type": "slide"
    }
   },
   "outputs": [],
   "source": [
    "pl.plot(xvals[~bad_moments], weighted_yaxis_values[~bad_moments], 'x', alpha=0.5)\n",
    "pl.plot(xvals, fitted_polymodel(xvals), color='r');"
   ]
  },
  {
   "cell_type": "code",
   "execution_count": null,
   "metadata": {},
   "outputs": [],
   "source": [
    "pl.plot(xvals[~bad_moments & (xvals < 1200)],\n",
    "        weighted_yaxis_values[~bad_moments & (xvals < 1200)] - fitted_polymodel(xvals[~bad_moments & (xvals < 1200)]), 'x')\n",
    "pl.plot(xvals[~bad_moments & (xvals > 1200)],\n",
    "        weighted_yaxis_values[~bad_moments & (xvals > 1200)] - fitted_polymodel(xvals[~bad_moments & (xvals > 1200)]), 'r+', alpha=0.5)\n",
    "pl.ylim(-5, 5)\n",
    "pl.ylabel(\"Residual (data-model)\");"
   ]
  },
  {
   "cell_type": "markdown",
   "metadata": {
    "slideshow": {
     "slide_type": "slide"
    }
   },
   "source": [
    "# Step 4. Obtain a trace profile"
   ]
  },
  {
   "cell_type": "markdown",
   "metadata": {},
   "source": [
    "Now we can extract the data along that trace.\n",
    "\n",
    "We want to take a \"profile\" of the trace to see how many pixels on either side of the line we should include."
   ]
  },
  {
   "cell_type": "code",
   "execution_count": null,
   "metadata": {
    "slideshow": {
     "slide_type": "slide"
    }
   },
   "outputs": [],
   "source": [
    "pl.imshow(image_array[425:475,:], extent=[0,image_array.shape[1],425,475])\n",
    "pl.gca().set_aspect(10)\n",
    "pl.fill_between(xvals, fitted_polymodel(xvals)-15,\n",
    "                fitted_polymodel(xvals)+15,\n",
    "                color='orange', alpha=0.5)\n",
    "pl.axis((0,1600,425,475));"
   ]
  },
  {
   "cell_type": "code",
   "execution_count": null,
   "metadata": {
    "slideshow": {
     "slide_type": "slide"
    }
   },
   "outputs": [],
   "source": [
    "# start by taking +/- 15 pixels\n",
    "npixels_to_cut = 15\n",
    "trace_center = fitted_polymodel(xvals)\n",
    "cutouts = np.array([image_array[int(yval)-npixels_to_cut:int(yval)+npixels_to_cut, ii]\n",
    "                    for yval, ii in zip(trace_center, xvals)])\n",
    "cutouts.shape"
   ]
  },
  {
   "cell_type": "markdown",
   "metadata": {
    "slideshow": {
     "slide_type": "slide"
    }
   },
   "source": [
    "That last step deserves some explanation:\n",
    "```\n",
    "cutouts = np.array([image_array[int(yval)-npixels_to_cut:int(yval)+npixels_to_cut, ii]\n",
    "                    for yval, ii in zip(trace_center, xvals)])\n",
    "```\n",
    "\n",
    "* `[... for yval, ii in zip(trace_center, xvals)]` takes each trace y-value and each x-value and 'zips' them together, so each iteration of the for loop has one x, y pair\n",
    "* `image_array[int(yval)-npixels_to_cut:int(yval)+npixels_to_cut, ii]` is taking a single pixel along the x-direction (the second dimension, `ii`) and a range of pixels along the y-direction, i.e., `y+/-n`\n",
    "* these are put together in a loop, so we have a y+/-n pixel region for each x-pixel\n",
    "* then we make them all into an array\n",
    "\n",
    "\n",
    "We can see the result visually:"
   ]
  },
  {
   "cell_type": "code",
   "execution_count": null,
   "metadata": {
    "slideshow": {
     "slide_type": "slide"
    }
   },
   "outputs": [],
   "source": [
    "ax1 = pl.subplot(2,1,1)\n",
    "ax1.imshow(image_array[425:475,:], extent=[0,image_array.shape[1],425,475])\n",
    "ax1.set_aspect(10)\n",
    "ax1.set_title(\"We go from this...\")\n",
    "ax2 = pl.subplot(2,1,2)\n",
    "ax2.imshow(cutouts.T)\n",
    "ax2.set_title(\"...to this\")\n",
    "ax2.set_aspect(10)"
   ]
  },
  {
   "cell_type": "markdown",
   "metadata": {
    "slideshow": {
     "slide_type": "slide"
    }
   },
   "source": [
    "Then we average along the X-direction to get the trace profile:"
   ]
  },
  {
   "cell_type": "code",
   "execution_count": null,
   "metadata": {
    "slideshow": {
     "slide_type": "-"
    }
   },
   "outputs": [],
   "source": [
    "mean_trace_profile = (cutouts - background).mean(axis=0)\n",
    "trace_profile_xaxis = np.arange(-npixels_to_cut, npixels_to_cut)\n",
    "pl.plot(trace_profile_xaxis, mean_trace_profile)\n",
    "pl.xlabel(\"Distance from center\")\n",
    "pl.ylabel(\"Average source profile\");"
   ]
  },
  {
   "cell_type": "markdown",
   "metadata": {},
   "source": [
    "We want to fit that profile with a Gaussian for future use,  so we import the Gaussian model profile and non-linear fitter and run a fit:"
   ]
  },
  {
   "cell_type": "code",
   "execution_count": null,
   "metadata": {},
   "outputs": [],
   "source": [
    "from astropy.modeling.models import Gaussian1D\n",
    "from astropy.modeling.fitting import LevMarLSQFitter\n",
    "lmfitter = LevMarLSQFitter()\n",
    "guess = Gaussian1D(amplitude=mean_trace_profile.max(), mean=0, stddev=5)\n",
    "fitted_trace_profile = lmfitter(model=guess, x=trace_profile_xaxis, y=mean_trace_profile)\n",
    "model_trace_profile = fitted_trace_profile(trace_profile_xaxis)\n",
    "fitted_trace_profile"
   ]
  },
  {
   "cell_type": "code",
   "execution_count": null,
   "metadata": {},
   "outputs": [],
   "source": [
    "pl.plot(trace_profile_xaxis, mean_trace_profile, label='data')\n",
    "pl.plot(trace_profile_xaxis, model_trace_profile, label='model')\n",
    "pl.legend(loc='best')\n",
    "pl.xlabel(\"Distance from center\")\n",
    "pl.ylabel(\"Average source profile\");"
   ]
  },
  {
   "cell_type": "markdown",
   "metadata": {},
   "source": [
    "Both the empirical trace profile `mean_trace_profile` and the modeled `model_trace_profile` can reasonably be used; the latter is more convenient to serialize (i.e., write to disk or on paper)"
   ]
  },
  {
   "cell_type": "markdown",
   "metadata": {
    "slideshow": {
     "slide_type": "slide"
    }
   },
   "source": [
    "# Step 5. Extract the traced spectrum"
   ]
  },
  {
   "cell_type": "markdown",
   "metadata": {},
   "source": [
    "We can obtain our spectrum by directly averaging the pixels along the trace:"
   ]
  },
  {
   "cell_type": "code",
   "execution_count": null,
   "metadata": {},
   "outputs": [],
   "source": [
    "average_spectrum = (cutouts - background).mean(axis=1)\n",
    "pl.plot(average_spectrum);"
   ]
  },
  {
   "cell_type": "markdown",
   "metadata": {
    "slideshow": {
     "slide_type": "slide"
    }
   },
   "source": [
    "Or, we can obtain our spectrum by taking the trace-weighted average:    "
   ]
  },
  {
   "cell_type": "code",
   "execution_count": null,
   "metadata": {
    "slideshow": {
     "slide_type": "-"
    }
   },
   "outputs": [],
   "source": [
    "trace_avg_spectrum = np.array([np.average(\n",
    "    image_array[int(yval)-npixels_to_cut:int(yval)+npixels_to_cut, ii] - background,\n",
    "    weights=mean_trace_profile)\n",
    "                               for yval, ii in zip(trace_center, xvals)])"
   ]
  },
  {
   "cell_type": "markdown",
   "metadata": {},
   "source": [
    "We can also do this with the Gaussian weights:"
   ]
  },
  {
   "cell_type": "code",
   "execution_count": null,
   "metadata": {},
   "outputs": [],
   "source": [
    "gaussian_trace_avg_spectrum = np.array([np.average(\n",
    "    image_array[int(yval)-npixels_to_cut:int(yval)+npixels_to_cut, ii] - background,\n",
    "    weights=model_trace_profile)\n",
    "                               for yval, ii in zip(trace_center, xvals)])"
   ]
  },
  {
   "cell_type": "code",
   "execution_count": null,
   "metadata": {
    "slideshow": {
     "slide_type": "slide"
    }
   },
   "outputs": [],
   "source": [
    "pl.plot(average_spectrum, label=\"Direct Average\")\n",
    "pl.plot(trace_avg_spectrum, label='Trace-weighted average')\n",
    "pl.plot(gaussian_trace_avg_spectrum, label='Gaussian-model-Trace-weighted average', alpha=0.5, linewidth=0.5, color='r')\n",
    "pl.legend(loc='best');"
   ]
  },
  {
   "cell_type": "markdown",
   "metadata": {},
   "source": [
    "In general, the trace-weighted average will have higher signal-to-noise, as seen here (while we haven't measured the noise, it is approximately constant across the image).\n",
    "\n",
    "Note that the Gaussian model and the direct trace yield nearly identical results"
   ]
  },
  {
   "cell_type": "markdown",
   "metadata": {
    "slideshow": {
     "slide_type": "slide"
    }
   },
   "source": [
    "# Step 6: Repeat for another star\n",
    "\n",
    "In this last step, we go through all the above steps again for another star (Deneb), but with less explanation."
   ]
  },
  {
   "cell_type": "code",
   "execution_count": null,
   "metadata": {
    "slideshow": {
     "slide_type": "slide"
    }
   },
   "outputs": [],
   "source": [
    "image_array_2 = np.array(Image.open('deneb_3s_13.63g_1.bmp'))\n",
    "pl.imshow(image_array_2, cmap='gray')\n",
    "pl.colorbar();"
   ]
  },
  {
   "cell_type": "code",
   "execution_count": null,
   "metadata": {
    "slideshow": {
     "slide_type": "slide"
    }
   },
   "outputs": [],
   "source": [
    "pl.imshow(image_array_2[470:520,:], extent=[0,1600,470,520])\n",
    "pl.gca().set_aspect(10)"
   ]
  },
  {
   "cell_type": "code",
   "execution_count": null,
   "metadata": {
    "slideshow": {
     "slide_type": "slide"
    }
   },
   "outputs": [],
   "source": [
    "yaxis2 = np.repeat(np.arange(470, 520)[:,None], image_array_2.shape[1], axis=1)\n",
    "weighted_yaxis_values2 = np.average(yaxis2, axis=0, weights=image_array_2[470:520,:] - np.median(image_array_2))\n",
    "polymodel2 = Polynomial1D(degree=3)\n",
    "fitted_polymodel2 = linfitter(polymodel2, xvals, weighted_yaxis_values2)\n",
    "trace_center2 = fitted_polymodel2(xvals)"
   ]
  },
  {
   "cell_type": "code",
   "execution_count": null,
   "metadata": {
    "slideshow": {
     "slide_type": "slide"
    }
   },
   "outputs": [],
   "source": [
    "pl.plot(xvals, weighted_yaxis_values2, 'x', alpha=0.5)\n",
    "pl.plot(xvals, trace_center2, color='r');"
   ]
  },
  {
   "cell_type": "code",
   "execution_count": null,
   "metadata": {
    "slideshow": {
     "slide_type": "slide"
    }
   },
   "outputs": [],
   "source": [
    "pl.imshow(image_array_2[470:520,:], extent=[0,1600,470,520])\n",
    "pl.plot(xvals, weighted_yaxis_values2, 'w+', alpha=0.25)\n",
    "pl.plot(xvals, trace_center2, color='r')\n",
    "pl.gca().set_aspect(10)"
   ]
  },
  {
   "cell_type": "code",
   "execution_count": null,
   "metadata": {
    "slideshow": {
     "slide_type": "slide"
    }
   },
   "outputs": [],
   "source": [
    "spectrum2 = np.array([np.average(image_array_2[int(yval)-npixels_to_cut:int(yval)+npixels_to_cut, ii] - np.median(image_array_2),\n",
    "                                weights=mean_trace_profile)\n",
    "                     for yval, ii in zip(trace_center2, xvals)])"
   ]
  },
  {
   "cell_type": "code",
   "execution_count": null,
   "metadata": {
    "slideshow": {
     "slide_type": "slide"
    }
   },
   "outputs": [],
   "source": [
    "pl.plot(spectrum2);"
   ]
  },
  {
   "cell_type": "markdown",
   "metadata": {
    "slideshow": {
     "slide_type": "slide"
    }
   },
   "source": [
    "In the next tutorial, Spectroscopic Data Reduction 2, we'll work on the wavelength calibration."
   ]
  }
 ],
 "metadata": {
  "language_info": {
   "codemirror_mode": {
    "name": "ipython"
   },
   "file_extension": ".py",
   "mimetype": "text/x-python",
   "name": "python",
   "nbconvert_exporter": "python"
  },
  "rise": {
   "transition": "none"
  }
 },
 "nbformat": 4,
 "nbformat_minor": 4
}
