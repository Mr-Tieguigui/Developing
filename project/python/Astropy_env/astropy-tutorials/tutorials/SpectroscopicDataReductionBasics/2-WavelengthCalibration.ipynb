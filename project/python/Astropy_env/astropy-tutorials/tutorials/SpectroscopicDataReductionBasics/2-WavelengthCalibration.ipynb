{
 "cells": [
  {
   "cell_type": "markdown",
   "metadata": {
    "slideshow": {
     "slide_type": "slide"
    }
   },
   "source": [
    "# Spectroscopic Data Reduction Part 2: Wavelength Calibration\n",
    "\n",
    "\n",
    "\n",
    "This notebook assumes you've completed the Spectroscopic Trace process (see [Part 1](1-SpectroscopicTraceTutorial.ipynb)) and have a trace model handy."
   ]
  },
  {
   "cell_type": "markdown",
   "metadata": {},
   "source": [
    "## Authors\n",
    "Adam Ginsburg, Kelle Cruz, Lia Corrales, Jonathan Sick, Adrian Price-Whelan\n",
    "\n",
    "## Learning Goals\n",
    "* Extract calibration lamp spectra from two-dimensional spectral images\n",
    "* Fit a wavelength solution\n",
    "\n",
    "\n",
    "## Keywords\n",
    "Spectroscopy\n",
    "\n",
    "## Summary\n",
    "This tutorial will walk through extraction of a calibration lamp spectrum using an existing trace.\n",
    "\n",
    "It will then demonstrate line identification using the NIST line list database.\n",
    "\n",
    "Finally, it will show how to fit a wavelength solution to a calibration spectrum, integrating information from multiple calibration lamps."
   ]
  },
  {
   "cell_type": "code",
   "execution_count": null,
   "metadata": {
    "slideshow": {
     "slide_type": "slide"
    }
   },
   "outputs": [],
   "source": [
    "from PIL import Image as PILImage\n",
    "import numpy as np\n",
    "import pylab as pl\n",
    "pl.rcParams['image.origin'] = 'lower'  # we want to show images, not matrices, so we set the origin to the lower-left\n",
    "pl.matplotlib.style.use('dark_background')  # Optional configuration: if run, this will look nice on dark background notebooks"
   ]
  },
  {
   "cell_type": "code",
   "execution_count": null,
   "metadata": {},
   "outputs": [],
   "source": [
    "from astropy import units as u\n",
    "from astropy.modeling.polynomial import Polynomial1D\n",
    "from astropy.modeling.models import Gaussian1D, Linear1D\n",
    "from astropy.modeling.fitting import LinearLSQFitter\n",
    "from IPython.display import Image\n",
    "# astroquery provides an interface to the NIST atomic line database\n",
    "from astroquery.nist import Nist"
   ]
  },
  {
   "cell_type": "markdown",
   "metadata": {
    "slideshow": {
     "slide_type": "slide"
    }
   },
   "source": [
    "We have three calibration lamp spectra: Mercury, Krypton, and Neon.  These are saved as .bmp (bitmap) files."
   ]
  },
  {
   "cell_type": "code",
   "execution_count": null,
   "metadata": {
    "slideshow": {
     "slide_type": "-"
    }
   },
   "outputs": [],
   "source": [
    "hg_filename = \"hg_lamp_1-sixteenth_s.bmp\"\n",
    "kr_filename = \"kr_lamp_p6.bmp\"\n",
    "ne_filename = \"ne_lamp_1s.bmp\""
   ]
  },
  {
   "cell_type": "code",
   "execution_count": null,
   "metadata": {
    "slideshow": {
     "slide_type": "-"
    }
   },
   "outputs": [],
   "source": [
    "hg_image = np.array(PILImage.open(hg_filename))\n",
    "kr_image = np.array(PILImage.open(kr_filename))\n",
    "ne_image = np.array(PILImage.open(ne_filename))"
   ]
  },
  {
   "cell_type": "code",
   "execution_count": null,
   "metadata": {
    "slideshow": {
     "slide_type": "slide"
    }
   },
   "outputs": [],
   "source": [
    "pl.imshow(hg_image);"
   ]
  },
  {
   "cell_type": "code",
   "execution_count": null,
   "metadata": {
    "slideshow": {
     "slide_type": "slide"
    }
   },
   "outputs": [],
   "source": [
    "pl.imshow(kr_image);"
   ]
  },
  {
   "cell_type": "code",
   "execution_count": null,
   "metadata": {
    "slideshow": {
     "slide_type": "slide"
    }
   },
   "outputs": [],
   "source": [
    "pl.imshow(ne_image);"
   ]
  },
  {
   "cell_type": "markdown",
   "metadata": {
    "slideshow": {
     "slide_type": "slide"
    }
   },
   "source": [
    "We can note by zooming in that there appear to be seven independent spectra:"
   ]
  },
  {
   "cell_type": "code",
   "execution_count": null,
   "metadata": {
    "slideshow": {
     "slide_type": "-"
    }
   },
   "outputs": [],
   "source": [
    "pl.imshow(hg_image[380:540,140:180]);"
   ]
  },
  {
   "cell_type": "markdown",
   "metadata": {
    "slideshow": {
     "slide_type": "slide"
    }
   },
   "source": [
    "We re-create our trace model from the [Spectroscopic Trace Tutorial](Spectroscopic%20Trace%20Tutorial.ipynb) using the fitted models.\n",
    "\n",
    "(We could have used the empirical trace directly, which might result in slightly improved noise characteristics, but for simplicity - and to make the two notebooks independently usable - we use the fitted polynomial & Gaussian models here)"
   ]
  },
  {
   "cell_type": "code",
   "execution_count": null,
   "metadata": {
    "slideshow": {
     "slide_type": "slide"
    }
   },
   "outputs": [],
   "source": [
    "trace_model = Polynomial1D(degree=3, c0=453.6307, c1=-0.01596396, c2=0.0000008259, c3=3.3348554642250357e-09)\n",
    "trace_profile_model = Gaussian1D(amplitude=123.84846797, mean=0.17719819, stddev=5.10872134)\n",
    "xaxis = np.arange(hg_image.shape[1])\n",
    "trace_center = trace_model(xaxis)\n",
    "npixels_to_cut=15\n",
    "yaxis = np.arange(-npixels_to_cut, npixels_to_cut)\n",
    "model_trace_profile = trace_profile_model(yaxis)"
   ]
  },
  {
   "cell_type": "markdown",
   "metadata": {
    "slideshow": {
     "slide_type": "slide"
    }
   },
   "source": [
    "Then, we use the trace to extract spectra from each of the three calibration lamp spectra.\n",
    "\n",
    "We verify that the traces look acceptable first, though:"
   ]
  },
  {
   "cell_type": "code",
   "execution_count": null,
   "metadata": {
    "slideshow": {
     "slide_type": "slide"
    }
   },
   "outputs": [],
   "source": [
    "pl.figure(figsize=(16,8))\n",
    "ax1 = pl.subplot(3,1,1)\n",
    "ax1.imshow(hg_image[430:470,:], extent=[0,1600,430,470])\n",
    "ax1.plot(xaxis, trace_center)\n",
    "ax1.set_aspect(10)\n",
    "ax2 = pl.subplot(3,1,2)\n",
    "ax2.imshow(kr_image[430:470,:], extent=[0,1600,430,470])\n",
    "ax2.plot(xaxis, trace_center)\n",
    "ax2.set_aspect(10)\n",
    "ax3 = pl.subplot(3,1,3)\n",
    "ax3.imshow(ne_image[430:470,:], extent=[0,1600,430,470])\n",
    "ax3.plot(xaxis, trace_center)\n",
    "ax3.set_aspect(10)"
   ]
  },
  {
   "cell_type": "markdown",
   "metadata": {
    "slideshow": {
     "slide_type": "subslide"
    }
   },
   "source": [
    "Strangely, the trace looks like it's going through a minimum between the individual spectra, which may indicate that the spectrograph was shaken or jiggled between the trace and wavelength calibration observations.  Nevertheless, there's enough signal that we can extract a calibration lamp spectrum, and the trace is perpendicular enough to the dispersion axis that we can mostly trust it. "
   ]
  },
  {
   "cell_type": "markdown",
   "metadata": {},
   "source": [
    "In the following three cells, we extract the trace-profile-weighted average spectrum from each of the three calibration lamps.  \n",
    "\n",
    "``npixels_to_cut`` sets a cutout region around the trace, close to what is shown in the figures above.  The ``model_trace_profile``, derived earlier, is the transmission profile we measured using the stellar trace.  "
   ]
  },
  {
   "cell_type": "code",
   "execution_count": null,
   "metadata": {
    "slideshow": {
     "slide_type": "slide"
    }
   },
   "outputs": [],
   "source": [
    "hg_spectrum = np.array([np.average(hg_image[int(yval)-npixels_to_cut:int(yval)+npixels_to_cut, ii],\n",
    "                                weights=model_trace_profile)\n",
    "                     for yval, ii in zip(trace_center, xaxis)])"
   ]
  },
  {
   "cell_type": "code",
   "execution_count": null,
   "metadata": {
    "slideshow": {
     "slide_type": "subslide"
    }
   },
   "outputs": [],
   "source": [
    "ne_spectrum = np.array([np.average(ne_image[int(yval)-npixels_to_cut:int(yval)+npixels_to_cut, ii],\n",
    "                                weights=model_trace_profile)\n",
    "                     for yval, ii in zip(trace_center, xaxis)])"
   ]
  },
  {
   "cell_type": "code",
   "execution_count": null,
   "metadata": {
    "slideshow": {
     "slide_type": "subslide"
    }
   },
   "outputs": [],
   "source": [
    "kr_spectrum = np.array([np.average(kr_image[int(yval)-npixels_to_cut:int(yval)+npixels_to_cut, ii],\n",
    "                                weights=model_trace_profile)\n",
    "                     for yval, ii in zip(trace_center, xaxis)])"
   ]
  },
  {
   "cell_type": "code",
   "execution_count": null,
   "metadata": {
    "slideshow": {
     "slide_type": "slide"
    }
   },
   "outputs": [],
   "source": [
    "pl.plot(xaxis, hg_spectrum, label='Mercury')\n",
    "pl.plot(xaxis, ne_spectrum, label='Neon')\n",
    "pl.plot(xaxis, kr_spectrum, label='Krypton')\n",
    "pl.legend(loc='best');"
   ]
  },
  {
   "cell_type": "markdown",
   "metadata": {
    "slideshow": {
     "slide_type": "slide"
    }
   },
   "source": [
    "We now have spectra of a mercury lamp, a neon lamp, and a krypton lamp.\n",
    "\n",
    "If we have no prior knowledge, we would have to do some guess-and-check.  It helps to do _educated_ guess-and-check, though; wikipedia is a decent resource to point us at the right line lists:\n",
    "\n",
    " * https://en.wikipedia.org/wiki/Mercury-vapor_lamp#Emission_line_spectrum\n",
    " * https://en.wikipedia.org/wiki/Gas-discharge_lamp#Color"
   ]
  },
  {
   "cell_type": "code",
   "execution_count": null,
   "metadata": {
    "slideshow": {
     "slide_type": "slide"
    }
   },
   "outputs": [],
   "source": [
    "Image(\"https://upload.wikimedia.org/wikipedia/commons/2/29/Mercury_Spectra.jpg\")"
   ]
  },
  {
   "cell_type": "code",
   "execution_count": null,
   "metadata": {},
   "outputs": [],
   "source": [
    "Image(\"https://upload.wikimedia.org/wikipedia/commons/9/99/Neon_spectra.jpg\")"
   ]
  },
  {
   "cell_type": "code",
   "execution_count": null,
   "metadata": {},
   "outputs": [],
   "source": [
    "Image(\"https://upload.wikimedia.org/wikipedia/commons/a/a6/Krypton_Spectrum.jpg\")"
   ]
  },
  {
   "cell_type": "markdown",
   "metadata": {
    "slideshow": {
     "slide_type": "slide"
    }
   },
   "source": [
    "Start with mercury.  We use a different wikipedia spectrum that looks a little more like ours to guide the eye (note that the line ratios vary from lamp to lamp at least partly because each lamp contains gas at a different pressure)."
   ]
  },
  {
   "cell_type": "code",
   "execution_count": null,
   "metadata": {},
   "outputs": [],
   "source": [
    "Image(\"https://upload.wikimedia.org/wikipedia/commons/0/0d/HG-Spektrum_crop.jpg\")"
   ]
  },
  {
   "cell_type": "markdown",
   "metadata": {},
   "source": [
    "The optical lines of Mercury are, from Wikipedia, in Angstroms:\n",
    "\n",
    " * 4047 violet\n",
    " * 4358 blue\n",
    " * 5461 green\n",
    " * 5782 yellow-orange\n",
    " * 6500 red"
   ]
  },
  {
   "cell_type": "code",
   "execution_count": null,
   "metadata": {
    "slideshow": {
     "slide_type": "-"
    }
   },
   "outputs": [],
   "source": [
    "pl.plot(xaxis, hg_spectrum);"
   ]
  },
  {
   "cell_type": "markdown",
   "metadata": {},
   "source": [
    "At this next step, we have to write down which (approximate) pixel values correspond to known wavelengths.\n",
    "\n",
    "Guessing these just by looking at the spectra and comparing to spectral atlases is hard and takes experience.\n",
    "\n",
    "If you have spectra taken with the same setup of a known sources - such as an A0 star - you might be able to use that to give you a 'prior' on where the spectrum is centered.\n",
    "In this case, our set of spectra include Deneb, which is an A-star.  It has a clear absorption line (that we'll see later, in tutorial 3) around pixel 750.\n",
    "A-stars have deep hydrogen absorption lines in their atmosphere and little else, so this is probably a hydrogen line.\n",
    "We can assume it's either H-alpha or H-beta, since they are both in the optical and strong (higher lines, like H-delta, are all close together, so if it were one of them, we'd expect to see several adjacent lines).\n",
    "\n",
    "We can therefore compare our spectrum to the atlases assuming pixel 750 is H-beta or H-alpha.  Using the line list, we can see red is pretty unlikely: H-alpha is at 6563, so there would be a line right next to it.  If it's H-beta, there are lines on either side, and there is a doublet on the right side.  \n",
    "\n",
    "The next trick is figuring out which way the wavelength increases - to the left or the right?  Mercury doesn't help with that, since the blue-violet and green-yellow doublets are about the same distance from one another.  It turns out, from guess-and-check work, that wavelength is increasing to the left.\n",
    "\n",
    "Again, this part is hard to do directly from the data - you generally hope to have a pretty good idea of what wavelength you're observing before you observe!"
   ]
  },
  {
   "cell_type": "code",
   "execution_count": null,
   "metadata": {
    "slideshow": {
     "slide_type": "slide"
    }
   },
   "outputs": [],
   "source": [
    "guessed_wavelengths = [546.1, 435.8, 404.7]\n",
    "guessed_xvals = [165, 1230, 1550]"
   ]
  },
  {
   "cell_type": "markdown",
   "metadata": {
    "slideshow": {
     "slide_type": "slide"
    }
   },
   "source": [
    "## Improving on our guesses\n",
    "\n",
    "We can do a lot better at determining the pixel X-values by taking the intensity-weighted coordinate (moment 1):"
   ]
  },
  {
   "cell_type": "code",
   "execution_count": null,
   "metadata": {
    "slideshow": {
     "slide_type": "-"
    }
   },
   "outputs": [],
   "source": [
    "npixels = 15\n",
    "improved_xval_guesses = [np.average(xaxis[g-npixels:g+npixels],\n",
    "                                    weights=hg_spectrum[g-npixels:g+npixels] - np.median(hg_spectrum))\n",
    "                         for g in guessed_xvals]\n",
    "improved_xval_guesses"
   ]
  },
  {
   "cell_type": "code",
   "execution_count": null,
   "metadata": {
    "slideshow": {
     "slide_type": "slide"
    }
   },
   "outputs": [],
   "source": [
    "pl.plot(xaxis, hg_spectrum)\n",
    "pl.plot(guessed_xvals, [100]*3, 'x')\n",
    "pl.plot(improved_xval_guesses, [100]*3, '+');"
   ]
  },
  {
   "cell_type": "markdown",
   "metadata": {
    "slideshow": {
     "slide_type": "slide"
    }
   },
   "source": [
    "We only have three data points, but that is enough to fit a linear model and still have a free point to check that we got it close to right:"
   ]
  },
  {
   "cell_type": "code",
   "execution_count": null,
   "metadata": {
    "slideshow": {
     "slide_type": "-"
    }
   },
   "outputs": [],
   "source": [
    "linfitter = LinearLSQFitter()"
   ]
  },
  {
   "cell_type": "markdown",
   "metadata": {
    "slideshow": {
     "slide_type": "-"
    }
   },
   "source": [
    "We use a `Linear1D` model because we will want to use its inverse later (other models are not invertible)"
   ]
  },
  {
   "cell_type": "code",
   "execution_count": null,
   "metadata": {
    "slideshow": {
     "slide_type": "slide"
    }
   },
   "outputs": [],
   "source": [
    "wlmodel = Linear1D()\n",
    "linfit_wlmodel = linfitter(model=wlmodel, x=improved_xval_guesses, y=guessed_wavelengths)\n",
    "wavelengths = linfit_wlmodel(xaxis) * u.nm\n",
    "linfit_wlmodel"
   ]
  },
  {
   "cell_type": "markdown",
   "metadata": {},
   "source": [
    "Note this fitted slope: each pixel is about 0.1 nm (about 1 angstrom), and the wavelength increases to the left."
   ]
  },
  {
   "cell_type": "code",
   "execution_count": null,
   "metadata": {
    "slideshow": {
     "slide_type": "-"
    }
   },
   "outputs": [],
   "source": [
    "pl.plot(wavelengths, hg_spectrum)\n",
    "pl.plot(guessed_wavelengths, [100]*3, 'x');"
   ]
  },
  {
   "cell_type": "markdown",
   "metadata": {},
   "source": [
    "We show our model $\\lambda(x)$ vs the input \"guesses\":"
   ]
  },
  {
   "cell_type": "code",
   "execution_count": null,
   "metadata": {
    "slideshow": {
     "slide_type": "slide"
    }
   },
   "outputs": [],
   "source": [
    "pl.plot(improved_xval_guesses, guessed_wavelengths, 'o')\n",
    "pl.plot(xaxis, wavelengths, '-')\n",
    "pl.ylabel(\"$\\lambda(x)$\")\n",
    "pl.xlabel(\"x (pixels)\")"
   ]
  },
  {
   "cell_type": "markdown",
   "metadata": {
    "slideshow": {
     "slide_type": "-"
    }
   },
   "source": [
    "Indeed, a linear model fit excellently!"
   ]
  },
  {
   "cell_type": "markdown",
   "metadata": {
    "slideshow": {
     "slide_type": "slide"
    }
   },
   "source": [
    "We can look up neon and krypton line lists to see how well we did and maybe try to improve our fit.\n",
    "\n",
    "NIST, the National Institute of Standards and Technology, maintains [atomic line lists](https://physics.nist.gov/PhysRefData/ASD/lines_form.html).  However, we have no direct way to know which transitions from these atoms to use!  There are a few heuristics we can apply, though."
   ]
  },
  {
   "cell_type": "code",
   "execution_count": null,
   "metadata": {
    "slideshow": {
     "slide_type": "slide"
    }
   },
   "outputs": [],
   "source": [
    "# we adopt the minimum/maximum wavelength from our linear fit\n",
    "minwave = wavelengths.min()\n",
    "maxwave = wavelengths.max()\n",
    "# then we search for atomic lines\n",
    "# We are only interested in neutral lines, assuming the lamps are not hot enough to ionize the atoms\n",
    "mercury_lines = Nist.query(minwav=minwave,\n",
    "                           maxwav=maxwave,\n",
    "                           linename='Hg I')\n",
    "krypton_lines = Nist.query(minwav=minwave,\n",
    "                           maxwav=maxwave,\n",
    "                           linename='Kr I')\n",
    "neon_lines = Nist.query(minwav=minwave,\n",
    "                        maxwav=maxwave,\n",
    "                        linename='Ne I')"
   ]
  },
  {
   "cell_type": "markdown",
   "metadata": {
    "slideshow": {
     "slide_type": "slide"
    }
   },
   "source": [
    "We can first look at what NIST reports for the mercury spectrum we already fit:\n",
    "\n",
    "(note that the wavelengths are *air* wavelengths, not vacuum)"
   ]
  },
  {
   "cell_type": "code",
   "execution_count": null,
   "metadata": {
    "slideshow": {
     "slide_type": "-"
    }
   },
   "outputs": [],
   "source": [
    "pl.plot(wavelengths, hg_spectrum)\n",
    "pl.vlines(mercury_lines['Observed'], 0, 250, 'w', alpha=0.25);"
   ]
  },
  {
   "cell_type": "markdown",
   "metadata": {
    "slideshow": {
     "slide_type": "slide"
    }
   },
   "source": [
    "The database contains *many* more lines than we saw.\n",
    "\n",
    "The \"Rel. Int\" (Relative Intensity) provides \"a qualitative description of what the emission spectrum of a particular element in a particular (low-density) source looks like.\" \n",
    "\n",
    "We can select that column, if we clean it up a little (there are some \"blank\" entries)"
   ]
  },
  {
   "cell_type": "code",
   "execution_count": null,
   "metadata": {
    "slideshow": {
     "slide_type": "slide"
    }
   },
   "outputs": [],
   "source": [
    "# these lines downselect from the table to keep only those that have usable \"Relative Intensity\" measurements\n",
    "# first, we get rid of those whose 'Rel.' column is masked out or is an asterisk\n",
    "hg_keep = (~mercury_lines['Rel.'].mask) & (mercury_lines['Rel.'] != \"*\")\n",
    "hg_wl_tbl = mercury_lines['Observed'][hg_keep]\n",
    "# then, we collect the 'Rel.' values and convert them from strings to floats\n",
    "hg_rel_tbl = np.array([float(x) for x in mercury_lines['Rel.'][hg_keep]])"
   ]
  },
  {
   "cell_type": "code",
   "execution_count": null,
   "metadata": {
    "slideshow": {
     "slide_type": "slide"
    }
   },
   "outputs": [],
   "source": [
    "pl.plot(wavelengths, hg_spectrum)\n",
    "# we normalize the relative intensities to match the intensity of the spectrum so we can see both on the same plot\n",
    "# since they're just relative intensities, their amplitudes are arbitrary anyway\n",
    "pl.plot(hg_wl_tbl, hg_rel_tbl / hg_rel_tbl.max() * hg_spectrum.max(), 'x')\n",
    "pl.xlabel(\"$\\lambda$ [nm]\");"
   ]
  },
  {
   "cell_type": "markdown",
   "metadata": {
    "slideshow": {
     "slide_type": "slide"
    }
   },
   "source": [
    "Not bad!  See that only the three \"brightest\" lines show up, plus maybe a bit of a third one around 408 nm.\n",
    "\n",
    "Let's try the same for the other lines (note that the hackery changes - this is because the NIST tables are not formatted to be machine-readable!)"
   ]
  },
  {
   "cell_type": "code",
   "execution_count": null,
   "metadata": {
    "slideshow": {
     "slide_type": "slide"
    }
   },
   "outputs": [],
   "source": [
    "ne_keep = np.array(['*' not in x for x in neon_lines['Rel.']])\n",
    "ne_wl_tbl = neon_lines['Observed'][ne_keep]\n",
    "ne_rel_tbl = np.array([float(x) for x in neon_lines['Rel.'][ne_keep]])"
   ]
  },
  {
   "cell_type": "code",
   "execution_count": null,
   "metadata": {
    "slideshow": {
     "slide_type": "-"
    }
   },
   "outputs": [],
   "source": [
    "kr_keep = np.array([('*' not in x) and ('h' not in x) and ('-' not in x) for x in krypton_lines['Rel.']])\n",
    "kr_wl_tbl = krypton_lines['Observed'][kr_keep]\n",
    "kr_rel_tbl = np.array([float(x) for x in krypton_lines['Rel.'][kr_keep]])"
   ]
  },
  {
   "cell_type": "code",
   "execution_count": null,
   "metadata": {
    "slideshow": {
     "slide_type": "slide"
    }
   },
   "outputs": [],
   "source": [
    "pl.plot(wavelengths, ne_spectrum)\n",
    "pl.plot(ne_wl_tbl, ne_rel_tbl / ne_rel_tbl.max() * ne_spectrum.max(), 'x')\n",
    "pl.xlabel(\"$\\lambda$ [nm]\")\n",
    "pl.title(\"Neon\");"
   ]
  },
  {
   "cell_type": "markdown",
   "metadata": {},
   "source": [
    "For Neon, there are many lines that match up, but a lot that don't match well (we detect a lot that have low `Rel` values)"
   ]
  },
  {
   "cell_type": "code",
   "execution_count": null,
   "metadata": {
    "slideshow": {
     "slide_type": "slide"
    }
   },
   "outputs": [],
   "source": [
    "pl.plot(wavelengths, kr_spectrum)\n",
    "pl.plot(kr_wl_tbl, kr_rel_tbl / kr_rel_tbl.max() * kr_spectrum.max(), 'x')\n",
    "pl.xlabel(\"$\\lambda$ [nm]\")\n",
    "pl.title(\"Krypton\");"
   ]
  },
  {
   "cell_type": "markdown",
   "metadata": {
    "slideshow": {
     "slide_type": "slide"
    }
   },
   "source": [
    "The Krypton spectrum will be much easier to deal with: we just select those lines with intensities > 70 on the scale above:"
   ]
  },
  {
   "cell_type": "code",
   "execution_count": null,
   "metadata": {
    "slideshow": {
     "slide_type": "-"
    }
   },
   "outputs": [],
   "source": [
    "kr_rel_intens =  kr_rel_tbl / kr_rel_tbl.max() * kr_spectrum.max()\n",
    "kr_keep_final = kr_rel_intens > 70\n",
    "kr_wl_final = kr_wl_tbl[kr_keep_final]"
   ]
  },
  {
   "cell_type": "markdown",
   "metadata": {
    "slideshow": {
     "slide_type": "slide"
    }
   },
   "source": [
    "We then take these krypton wavelengths and convert them back to pixel space:"
   ]
  },
  {
   "cell_type": "code",
   "execution_count": null,
   "metadata": {
    "slideshow": {
     "slide_type": "-"
    }
   },
   "outputs": [],
   "source": [
    "# the linear model has an inverse function that takes y = m x + b and converts to x = (y - b) / m\n",
    "kr_pixel_vals = linfit_wlmodel.inverse(kr_wl_final)"
   ]
  },
  {
   "cell_type": "code",
   "execution_count": null,
   "metadata": {
    "slideshow": {
     "slide_type": "slide"
    }
   },
   "outputs": [],
   "source": [
    "pl.plot(xaxis, kr_spectrum)\n",
    "pl.plot(kr_pixel_vals, kr_rel_intens[kr_keep_final], 'x');"
   ]
  },
  {
   "cell_type": "markdown",
   "metadata": {
    "slideshow": {
     "slide_type": "slide"
    }
   },
   "source": [
    "As with mercury above, we select a sub-region and measure the intensity-weighted peak position in pixel number to accurately measure the pixel center.\n",
    "\n",
    "But here we have to be careful!  These peaks are very close!  Can we still use a +/-15 pixel range?"
   ]
  },
  {
   "cell_type": "code",
   "execution_count": null,
   "metadata": {
    "slideshow": {
     "slide_type": "slide"
    }
   },
   "outputs": [],
   "source": [
    "# Examine the pixel range, +/-15 pix, to see if it results in line overlaps\n",
    "pl.plot(xaxis, kr_spectrum)\n",
    "pl.plot(kr_pixel_vals, kr_rel_intens[kr_keep_final], 'x')\n",
    "for xx, yy in zip(kr_pixel_vals, kr_rel_intens[kr_keep_final]):\n",
    "    pl.plot([xx-15,xx+15], [yy,yy], ) # plot horizontal lines at each peak location\n",
    "pl.xlim(1200,1350);"
   ]
  },
  {
   "cell_type": "markdown",
   "metadata": {
    "slideshow": {
     "slide_type": "slide"
    }
   },
   "source": [
    "Yes, 15 pixels looks OK still.\n",
    "\n",
    "If these lines had overlapped with one another at all, we would have wanted to decrease the pixel range."
   ]
  },
  {
   "cell_type": "code",
   "execution_count": null,
   "metadata": {
    "slideshow": {
     "slide_type": "slide"
    }
   },
   "outputs": [],
   "source": [
    "# note that we have to force the pixel-center guesses to be integers for slicing:\n",
    "npixels = 15\n",
    "improved_xval_guesses_kr = [np.average(xaxis[g-npixels:g+npixels],\n",
    "                                    weights=kr_spectrum[g-npixels:g+npixels] - np.median(kr_spectrum))\n",
    "                         for g in map(int, kr_pixel_vals)]\n",
    "improved_xval_guesses_kr"
   ]
  },
  {
   "cell_type": "markdown",
   "metadata": {
    "slideshow": {
     "slide_type": "slide"
    }
   },
   "source": [
    "Now we can plot these best-fit pixel numbers against the \"true\" wavelengths and overplot our previous best-fit model from mercury:"
   ]
  },
  {
   "cell_type": "code",
   "execution_count": null,
   "metadata": {
    "slideshow": {
     "slide_type": "slide"
    }
   },
   "outputs": [],
   "source": [
    "pl.plot(improved_xval_guesses_kr, kr_wl_final, 'x', label='Krypton')\n",
    "pl.plot(improved_xval_guesses, guessed_wavelengths, '+', label='Mercury')\n",
    "pl.plot(xaxis, wavelengths, zorder=-5)\n",
    "pl.legend(loc='best')\n",
    "pl.xlabel(\"Pixel Coordinate\")\n",
    "pl.ylabel(\"Wavelength (nm)\");"
   ]
  },
  {
   "cell_type": "markdown",
   "metadata": {
    "slideshow": {
     "slide_type": "slide"
    }
   },
   "source": [
    "We can now jointly fit the Kr + Hg spectra with a new model:"
   ]
  },
  {
   "cell_type": "code",
   "execution_count": null,
   "metadata": {
    "slideshow": {
     "slide_type": "fragment"
    }
   },
   "outputs": [],
   "source": [
    "# we concatenate the data sets together\n",
    "xvals_hg_plus_kr = np.concatenate([improved_xval_guesses,\n",
    "                                   improved_xval_guesses_kr])\n",
    "waves_hg_plus_kr = np.concatenate([guessed_wavelengths, kr_wl_final])\n",
    "linfit_wlmodel_hgkr = linfitter(model=wlmodel,\n",
    "                                x=xvals_hg_plus_kr,\n",
    "                                y=waves_hg_plus_kr)\n",
    "linfit_wlmodel_hgkr"
   ]
  },
  {
   "cell_type": "code",
   "execution_count": null,
   "metadata": {
    "slideshow": {
     "slide_type": "slide"
    }
   },
   "outputs": [],
   "source": [
    "# re-plot the data with the fit overlaid\n",
    "pl.plot(improved_xval_guesses_kr, kr_wl_final, 'x', label='Krypton')\n",
    "pl.plot(improved_xval_guesses, guessed_wavelengths, '+', label='Mercury')\n",
    "pl.plot(xaxis, wavelengths, zorder=-5)\n",
    "pl.plot(xaxis, linfit_wlmodel_hgkr(xaxis), zorder=-5)\n",
    "pl.legend(loc='best')\n",
    "pl.xlabel(\"Pixel Coordinate\")\n",
    "pl.ylabel(\"Wavelength (nm)\");"
   ]
  },
  {
   "cell_type": "markdown",
   "metadata": {
    "slideshow": {
     "slide_type": "slide"
    }
   },
   "source": [
    "These are nearly indistiguishable, but let's look at the residuals for each:"
   ]
  },
  {
   "cell_type": "code",
   "execution_count": null,
   "metadata": {
    "slideshow": {
     "slide_type": "slide"
    }
   },
   "outputs": [],
   "source": [
    "residuals_hgonlymodel = np.array(waves_hg_plus_kr) - linfit_wlmodel(xvals_hg_plus_kr)\n",
    "residuals_hgkrmodel = np.array(waves_hg_plus_kr) - linfit_wlmodel_hgkr(xvals_hg_plus_kr)\n",
    "pl.hist(residuals_hgonlymodel, label='Hg-only fit', histtype='stepfilled')\n",
    "pl.hist(residuals_hgkrmodel, label='Hg-only fit', histtype='step');"
   ]
  },
  {
   "cell_type": "markdown",
   "metadata": {
    "slideshow": {
     "slide_type": "slide"
    }
   },
   "source": [
    "The differences are pretty marginal; the Hg-only fit was really good.\n",
    "\n",
    "Is there any shape to the residuals?"
   ]
  },
  {
   "cell_type": "code",
   "execution_count": null,
   "metadata": {
    "slideshow": {
     "slide_type": "slide"
    }
   },
   "outputs": [],
   "source": [
    "pl.plot(xvals_hg_plus_kr, residuals_hgonlymodel, 'x')\n",
    "pl.xlabel(\"Pixel Coordinate\")\n",
    "pl.ylabel(\"Wavelength residual (data minus model; nm)\");"
   ]
  },
  {
   "cell_type": "code",
   "execution_count": null,
   "metadata": {
    "slideshow": {
     "slide_type": "slide"
    }
   },
   "outputs": [],
   "source": [
    "pl.plot(xvals_hg_plus_kr, residuals_hgkrmodel, 'x')\n",
    "pl.xlabel(\"Pixel Coordinate\")\n",
    "pl.ylabel(\"Wavelength residual (data minus model; nm)\");"
   ]
  },
  {
   "cell_type": "markdown",
   "metadata": {
    "slideshow": {
     "slide_type": "slide"
    }
   },
   "source": [
    "In brief, no, there's no sign of structure.  If there were, we might want to fit a higher-order model."
   ]
  },
  {
   "cell_type": "markdown",
   "metadata": {
    "slideshow": {
     "slide_type": "slide"
    }
   },
   "source": [
    "We can also estimate a chi-squared-like statistic (though note that this is *not* the $\\chi^2$ value we would use to assess goodness of fit because we have *not* estimated the uncertainty on each wavelength point!)"
   ]
  },
  {
   "cell_type": "code",
   "execution_count": null,
   "metadata": {
    "slideshow": {
     "slide_type": "fragment"
    }
   },
   "outputs": [],
   "source": [
    "resid2_hgonly = (residuals_hgonlymodel**2).sum()\n",
    "resid2_hgkr = (residuals_hgkrmodel**2).sum()\n",
    "resid2_hgonly, resid2_hgkr"
   ]
  },
  {
   "cell_type": "markdown",
   "metadata": {
    "slideshow": {
     "slide_type": "-"
    }
   },
   "source": [
    "These differences are also very small, again suggesting the Hg-only fit was really good."
   ]
  },
  {
   "cell_type": "markdown",
   "metadata": {
    "slideshow": {
     "slide_type": "slide"
    }
   },
   "source": [
    "Why do we bother going through all these checks if the Hg-only fit was just fine?  \n",
    "\n",
    "Besides simply not knowing, it is common for spectrographs to have slightly non-linear dispersion when measured over a wide wavelength range, so we want to be sure we haven't missed any such curvature.\n",
    "\n",
    "We also want to measure the uncertainty on our wavelength calibration."
   ]
  },
  {
   "cell_type": "markdown",
   "metadata": {
    "slideshow": {
     "slide_type": "slide"
    }
   },
   "source": [
    "Now let's go back and measure the Neon spectrum"
   ]
  },
  {
   "cell_type": "code",
   "execution_count": null,
   "metadata": {
    "slideshow": {
     "slide_type": "slide"
    }
   },
   "outputs": [],
   "source": [
    "ne_rel_intens = ne_rel_tbl / ne_rel_tbl.max() * ne_spectrum.max()\n",
    "pl.plot(wavelengths, ne_spectrum)\n",
    "pl.plot(ne_wl_tbl, ne_rel_intens, 'x')\n",
    "pl.xlabel('Wavelength (nm)');"
   ]
  },
  {
   "cell_type": "markdown",
   "metadata": {
    "slideshow": {
     "slide_type": "slide"
    }
   },
   "source": [
    "We can try keeping only those with intensiy >100, though we will miss some lines"
   ]
  },
  {
   "cell_type": "code",
   "execution_count": null,
   "metadata": {
    "slideshow": {
     "slide_type": "-"
    }
   },
   "outputs": [],
   "source": [
    "ne_keep_final = ne_rel_intens > 100\n",
    "pl.plot(wavelengths, ne_spectrum)\n",
    "pl.plot(ne_wl_tbl[ne_keep_final], ne_rel_intens[ne_keep_final], 'x')\n",
    "pl.xlabel('Wavelength (nm)');"
   ]
  },
  {
   "cell_type": "code",
   "execution_count": null,
   "metadata": {
    "slideshow": {
     "slide_type": "slide"
    }
   },
   "outputs": [],
   "source": [
    "# select down to just those lines we want to keep\n",
    "ne_wl_final = ne_wl_tbl[ne_keep_final]\n",
    "ne_pixel_vals = linfit_wlmodel.inverse(ne_wl_final)"
   ]
  },
  {
   "cell_type": "code",
   "execution_count": null,
   "metadata": {
    "slideshow": {
     "slide_type": "slide"
    }
   },
   "outputs": [],
   "source": [
    "# check for overlaps again (in the densest part of the spectrum)\n",
    "pl.plot(xaxis, ne_spectrum)\n",
    "pl.plot(ne_pixel_vals, ne_rel_intens[ne_keep_final], 'x')\n",
    "for xx, yy in zip(ne_pixel_vals, ne_rel_intens[ne_keep_final]):\n",
    "    pl.plot([xx-15,xx+15], [yy,yy], )\n",
    "pl.xlim(600,850)\n",
    "pl.xlabel('Wavelength (nm)');"
   ]
  },
  {
   "cell_type": "markdown",
   "metadata": {
    "slideshow": {
     "slide_type": "slide"
    }
   },
   "source": [
    "For Neon, our automated approach isn't very good (the third point from the left is not on a peak), and we'll want to use a narrower pixel range.\n",
    "\n",
    "Still, rather than go back through and laboriously identify each line, we'll stick with a semi-automated approach, just using a narrower range around each peak."
   ]
  },
  {
   "cell_type": "code",
   "execution_count": null,
   "metadata": {
    "slideshow": {
     "slide_type": "slide"
    }
   },
   "outputs": [],
   "source": [
    "npixels = 10\n",
    "improved_xval_guesses_ne = [np.average(xaxis[g-npixels:g+npixels],\n",
    "                                    weights=ne_spectrum[g-npixels:g+npixels] - np.median(ne_spectrum))\n",
    "                         for g in map(int, ne_pixel_vals)]\n",
    "improved_xval_guesses_ne"
   ]
  },
  {
   "cell_type": "code",
   "execution_count": null,
   "metadata": {
    "slideshow": {
     "slide_type": "slide"
    }
   },
   "outputs": [],
   "source": [
    "pl.plot(improved_xval_guesses_kr, kr_wl_final, 'x', label='Krypton')\n",
    "pl.plot(improved_xval_guesses_ne, ne_wl_final, '^', label='Neon')\n",
    "pl.plot(improved_xval_guesses, guessed_wavelengths, '+', label='Mercury')\n",
    "pl.plot(xaxis, wavelengths, zorder=-5)\n",
    "pl.plot(xaxis, linfit_wlmodel_hgkr(xaxis), zorder=-5)\n",
    "pl.legend(loc='best')\n",
    "pl.xlabel(\"Pixel Coordinate\")\n",
    "pl.ylabel(\"Wavelength (nm)\");"
   ]
  },
  {
   "cell_type": "markdown",
   "metadata": {
    "slideshow": {
     "slide_type": "slide"
    }
   },
   "source": [
    "We concatenate the Neon lines onto the spectrum and re-fit again"
   ]
  },
  {
   "cell_type": "code",
   "execution_count": null,
   "metadata": {
    "slideshow": {
     "slide_type": "-"
    }
   },
   "outputs": [],
   "source": [
    "xvals_hg_plus_kr_plus_ne = list(improved_xval_guesses) + list(improved_xval_guesses_kr) + list(improved_xval_guesses_ne)\n",
    "waves_hg_plus_kr_plus_ne = list(guessed_wavelengths) + list(kr_wl_final) + list(ne_wl_final)\n",
    "linfit_wlmodel_hgkrne = linfitter(model=wlmodel, x=xvals_hg_plus_kr_plus_ne, y=waves_hg_plus_kr_plus_ne)\n",
    "linfit_wlmodel_hgkrne"
   ]
  },
  {
   "cell_type": "code",
   "execution_count": null,
   "metadata": {
    "slideshow": {
     "slide_type": "slide"
    }
   },
   "outputs": [],
   "source": [
    "residuals_hgmodel_nedata = np.array(waves_hg_plus_kr_plus_ne) - linfit_wlmodel(xvals_hg_plus_kr_plus_ne)\n",
    "residuals_hgkrmodel_nedata = np.array(waves_hg_plus_kr_plus_ne) - linfit_wlmodel_hgkr(xvals_hg_plus_kr_plus_ne)\n",
    "residuals_hgkrnemodel_nedata = np.array(waves_hg_plus_kr_plus_ne) - linfit_wlmodel_hgkrne(xvals_hg_plus_kr_plus_ne)"
   ]
  },
  {
   "cell_type": "code",
   "execution_count": null,
   "metadata": {
    "slideshow": {
     "slide_type": "slide"
    }
   },
   "outputs": [],
   "source": [
    "# calculate and compare the squared residuals\n",
    "# the model calculated for Hg-only works better than that for Krypton, but the optimal linear model is calculated\n",
    "# from all data, with a squared residual of 1.26 nm\n",
    "resid2_hgonly = (residuals_hgmodel_nedata**2).sum()\n",
    "resid2_hgkr = (residuals_hgkrmodel_nedata**2).sum()\n",
    "resid2_hgkrne = (residuals_hgkrnemodel_nedata**2).sum()\n",
    "resid2_hgonly, resid2_hgkr, resid2_hgkrne"
   ]
  },
  {
   "cell_type": "code",
   "execution_count": null,
   "metadata": {
    "slideshow": {
     "slide_type": "slide"
    }
   },
   "outputs": [],
   "source": [
    "pl.plot(xvals_hg_plus_kr_plus_ne, residuals_hgkrnemodel_nedata, 'x')\n",
    "pl.xlabel(\"Pixel Coordinate\")\n",
    "pl.ylabel(\"Wavelength residual (data minus model; nm)\");"
   ]
  },
  {
   "cell_type": "markdown",
   "metadata": {
    "slideshow": {
     "slide_type": "-"
    }
   },
   "source": [
    "Finally, with neon included, there is a hint of some structure"
   ]
  },
  {
   "cell_type": "code",
   "execution_count": null,
   "metadata": {
    "slideshow": {
     "slide_type": "slide"
    }
   },
   "outputs": [],
   "source": [
    "pl.hist(residuals_hgkrnemodel_nedata)\n",
    "pl.title(f\"Stddev = {residuals_hgkrnemodel_nedata.std()}\");"
   ]
  },
  {
   "cell_type": "markdown",
   "metadata": {
    "slideshow": {
     "slide_type": "-"
    }
   },
   "source": [
    "This histogram is perhaps a little skewed."
   ]
  },
  {
   "cell_type": "markdown",
   "metadata": {
    "slideshow": {
     "slide_type": "slide"
    }
   },
   "source": [
    "There may be some curvature to this spectrum, but the evidence is not terribly compelling, particularly given the uncertain nature of the Neon line fits."
   ]
  },
  {
   "cell_type": "markdown",
   "metadata": {},
   "source": [
    "The scatter in these residuals comes out to ~0.24 nm.  We'll examine this value further below."
   ]
  },
  {
   "cell_type": "markdown",
   "metadata": {
    "slideshow": {
     "slide_type": "slide"
    }
   },
   "source": [
    "## Measuring the uncertainty of the wavelength solution\n",
    "\n",
    "To evaluate our uncertainty, let's first look at the uncertainty in the pixel value inferred from looking at a single line in the mercury spectrum."
   ]
  },
  {
   "cell_type": "code",
   "execution_count": null,
   "metadata": {
    "slideshow": {
     "slide_type": "slide"
    }
   },
   "outputs": [],
   "source": [
    "pl.plot(xaxis, hg_spectrum)\n",
    "pl.xlim(100,200)\n",
    "pl.xlabel(\"Pixel Index Number\");"
   ]
  },
  {
   "cell_type": "markdown",
   "metadata": {
    "slideshow": {
     "slide_type": "slide"
    }
   },
   "source": [
    "We can get a *coarse* empirical estimate of the per-pixel uncertainty by taking the standard deviation of a \"blank\" part of the spectrum:"
   ]
  },
  {
   "cell_type": "code",
   "execution_count": null,
   "metadata": {
    "slideshow": {
     "slide_type": "-"
    }
   },
   "outputs": [],
   "source": [
    "pl.plot(xaxis[200:300], hg_spectrum[200:300])\n",
    "noise_estimate = hg_spectrum[200:300].std()\n",
    "pl.title(f\"stddev = {noise_estimate:0.2f}\");"
   ]
  },
  {
   "cell_type": "markdown",
   "metadata": {
    "slideshow": {
     "slide_type": "slide"
    }
   },
   "source": [
    "The moment-1 estimate of the peak location is, for a spectrum $f(x)$ and pixel location $x$ \n",
    "$$ m_1 = \\frac{\\Sigma x f(x)}{\\Sigma f(x)} $$\n",
    "\n",
    "which, through propagation of error, gives us variance of moment 1:\n",
    "\n",
    "$$\\sigma_{m_1}^2 =  \\left(\\frac{\\Sigma \\left[ (x-m_1)^2   \\sigma_{f(x)}^2 \\right]}{\\left(\\Sigma f(x)\\right)^2}  +\n",
    "   \\frac{\\sigma_{\\Sigma f(x)}^2 \\Sigma \\left[ (x-m_1)^2 f(x)^2 \\right]}{\\left(\\Sigma f(x)\\right)^4} \\right)$$\n",
    "   \n",
    "   where \n",
    "$   \\sigma_{\\Sigma f(x)}^2 = \\Sigma \\sigma_{f(x)}^2 = N \\sigma_{f(x)}^2 $"
   ]
  },
  {
   "cell_type": "code",
   "execution_count": null,
   "metadata": {
    "slideshow": {
     "slide_type": "slide"
    }
   },
   "outputs": [],
   "source": [
    "cutout = hg_spectrum[100:200] - np.median(hg_spectrum)\n",
    "xcutout = xaxis[100:200]\n",
    "m1 = (xcutout * cutout).sum() / cutout.sum()\n",
    "m1"
   ]
  },
  {
   "cell_type": "code",
   "execution_count": null,
   "metadata": {
    "slideshow": {
     "slide_type": "slide"
    }
   },
   "outputs": [],
   "source": [
    "# Uncertainty on moment 1\n",
    "sigma_m1_left = ((xcutout-m1)**2 * noise_estimate**2).sum() / cutout.sum()**2\n",
    "sigma_m1_right = (xcutout.size * noise_estimate**2) * ((xcutout-m1)**2*cutout**2).sum() / cutout.sum()**4\n",
    "sigma_m1 = sigma_m1_left + sigma_m1_right\n",
    "sigma_m1"
   ]
  },
  {
   "cell_type": "code",
   "execution_count": null,
   "metadata": {
    "slideshow": {
     "slide_type": "slide"
    }
   },
   "outputs": [],
   "source": [
    "print(f\"Moment analysis yields m1 = {m1:0.3f} +/- {sigma_m1:0.3f} pixels\")"
   ]
  },
  {
   "cell_type": "markdown",
   "metadata": {
    "slideshow": {
     "slide_type": "-"
    }
   },
   "source": [
    "The uncertainty is about 1/1000th of a pixel for a bright line.  It may be somewhat larger for fainter lines, but it is still much smaller than our observed scatter. "
   ]
  },
  {
   "cell_type": "markdown",
   "metadata": {
    "slideshow": {
     "slide_type": "slide"
    }
   },
   "source": [
    " We can prove that the uncertainty per line is negligible by looking at a faint neon line:"
   ]
  },
  {
   "cell_type": "code",
   "execution_count": null,
   "metadata": {
    "slideshow": {
     "slide_type": "-"
    }
   },
   "outputs": [],
   "source": [
    "# cut out a line and compute its moment 1\n",
    "cutoutne = ne_spectrum[640:660] - np.median(ne_spectrum)\n",
    "xcutoutne = xaxis[640:660]\n",
    "m1ne = (xcutoutne * cutoutne).sum() / cutoutne.sum()"
   ]
  },
  {
   "cell_type": "code",
   "execution_count": null,
   "metadata": {
    "slideshow": {
     "slide_type": "slide"
    }
   },
   "outputs": [],
   "source": [
    "# estimate the per-pixel error in the Neon spectrum\n",
    "ne_noise_estimate = ne_spectrum[1400:1600].std()\n",
    "ne_noise_estimate"
   ]
  },
  {
   "cell_type": "code",
   "execution_count": null,
   "metadata": {
    "slideshow": {
     "slide_type": "slide"
    }
   },
   "outputs": [],
   "source": [
    "pl.plot(xcutoutne, cutoutne)\n",
    "pl.plot(m1ne, cutoutne.max(), 'x')\n",
    "pl.xlabel(\"Pixel Coordinate\");"
   ]
  },
  {
   "cell_type": "code",
   "execution_count": null,
   "metadata": {
    "slideshow": {
     "slide_type": "slide"
    }
   },
   "outputs": [],
   "source": [
    "# calculate Neon line centroid uncertainty\n",
    "sigma_m1_left = ((xcutoutne-m1ne)**2 * ne_noise_estimate**2).sum() / cutoutne.sum()**2\n",
    "sigma_m1_right = (xcutoutne.size * ne_noise_estimate**2) * ((xcutoutne-m1ne)**2*cutoutne**2).sum() / cutoutne.sum()**4\n",
    "sigma_m1_ne = sigma_m1_left + sigma_m1_right\n",
    "sigma_m1_ne"
   ]
  },
  {
   "cell_type": "code",
   "execution_count": null,
   "metadata": {
    "slideshow": {
     "slide_type": "slide"
    }
   },
   "outputs": [],
   "source": [
    "print(f\"Moment analysis for the faint Neon line yields m1 = {m1ne:0.4f} +/- {sigma_m1_ne:0.4f} pixels\")"
   ]
  },
  {
   "cell_type": "markdown",
   "metadata": {
    "slideshow": {
     "slide_type": "-"
    }
   },
   "source": [
    "This error is ~40 times larger, but still much less than a pixel's width."
   ]
  },
  {
   "cell_type": "markdown",
   "metadata": {
    "slideshow": {
     "slide_type": "slide"
    }
   },
   "source": [
    "Our best fit gives that each pixel is about 0.1 nm (this comes from the slope of the fitted line), so our uncertainty is 0.0001 nm - 0.004 nm.  The scatter in the residuals is 0.23 nm, so it is not explained by our formal fit's statistical uncertainty. "
   ]
  },
  {
   "cell_type": "code",
   "execution_count": null,
   "metadata": {
    "slideshow": {
     "slide_type": "-"
    }
   },
   "outputs": [],
   "source": [
    "print(f\"Standard Deviation of the residuals = {residuals_hgkrnemodel_nedata.std()} nm, \"\n",
    "      f\"Faint Line uncertainty = {sigma_m1_ne * linfit_wlmodel_hgkrne.slope} nm\")"
   ]
  },
  {
   "cell_type": "markdown",
   "metadata": {
    "slideshow": {
     "slide_type": "slide"
    }
   },
   "source": [
    "## What does the residual represent?\n",
    "\n",
    "The residual to our fit gives us a sense of the *systematic* uncertainty from a combination of line blending and imperfect fits.  We know, from the NIST line lists, that there are in some cases multiple lines that we could not easily distinguish in the spectrum: these add a small bias to our inferred pixel locations.\n",
    "\n",
    "There may also be subtle effects from the spectrograph itself that cause small systematic variations in the wavelength solution."
   ]
  },
  {
   "cell_type": "markdown",
   "metadata": {
    "slideshow": {
     "slide_type": "slide"
    }
   },
   "source": [
    "## How could we do better?\n",
    "\n",
    "We could attempt to *deblend* the individual spectral features by jointly fitting multiple-Gaussian models.\n",
    "\n",
    "While this procedure is commonly used, it is fraught with error and extremely difficult to automate in general."
   ]
  },
  {
   "cell_type": "markdown",
   "metadata": {
    "slideshow": {
     "slide_type": "slide"
    }
   },
   "source": [
    "You're done!  Now apply this calibration to the data and start measuring things in Tutorial 3"
   ]
  }
 ],
 "metadata": {
  "celltoolbar": "Slideshow",
  "language_info": {
   "codemirror_mode": {
    "name": "ipython"
   },
   "file_extension": ".py",
   "mimetype": "text/x-python",
   "name": "python",
   "nbconvert_exporter": "python"
  },
  "rise": {
   "transition": "none"
  }
 },
 "nbformat": 4,
 "nbformat_minor": 4
}
