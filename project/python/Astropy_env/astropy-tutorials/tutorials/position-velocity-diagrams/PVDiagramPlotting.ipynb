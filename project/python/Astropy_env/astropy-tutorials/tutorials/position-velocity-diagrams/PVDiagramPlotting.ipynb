{
 "cells": [
  {
   "cell_type": "markdown",
   "id": "ec28e7e2",
   "metadata": {},
   "source": [
    "# Extracting and Plotting Position-Velocity Diagrams\n",
    "\n",
    "## Authors\n",
    "Adam Ginsburg, Eric Koch\n",
    "\n",
    "## Learning Goals\n",
    "* Extract a position-velocity diagram from a spectral cube using both pixel and sky coordinates using [pvextractor](https://pvextractor.readthedocs.io/en/latest/)\n",
    "* Display the position-velocity diagram with appropriately labeled coordinates\n",
    "* Display the extraction path on the plots\n",
    "\n",
    "## Keywords\n",
    "pv-diagram, spectral cube, pvextractor, radio astronomy, coordinates\n",
    "\n",
    "## Summary\n",
    "In this tutorial, we will extract position-velocity (PV) diagrams from a spectral cube and plot them.\n",
    "\n",
    "Position-velocity diagrams are often used in radio astronomy for analysis of rotating objects, like protostellar disks and galaxies, to measure rotation curves and determine the contained mass.  They are also used in studies of atomic and molecular clouds to show where overlapping emission may point at interactions between distinct clouds.  Both radio and optical position-velocity diagrams are used to study outflows, jets, and winds; in the optical, two-dimensional spectra obtained from long-slit spectrographs naturally produce the equivalent of a position-velocity diagram."
   ]
  },
  {
   "cell_type": "markdown",
   "id": "5b7f1268",
   "metadata": {},
   "source": [
    "### Header material\n",
    "\n",
    "We import tools from several packages up front:"
   ]
  },
  {
   "cell_type": "code",
   "execution_count": null,
   "id": "9f9d06e1",
   "metadata": {},
   "outputs": [],
   "source": [
    "import pylab as pl\n",
    "import numpy as np\n",
    "from astropy.visualization import quantity_support\n",
    "from astropy import units as u\n",
    "from astropy import wcs\n",
    "\n",
    "# set so that these display properly on black backgrounds\n",
    "pl.rcParams['figure.facecolor']='w'\n",
    "\n",
    "from spectral_cube import SpectralCube\n",
    "\n",
    "from pvextractor import extract_pv_slice, Path"
   ]
  },
  {
   "cell_type": "markdown",
   "id": "d44ca9f9",
   "metadata": {},
   "source": [
    "Retrieve and open a cube from astropy-data:"
   ]
  },
  {
   "cell_type": "code",
   "execution_count": null,
   "id": "f51a1376",
   "metadata": {},
   "outputs": [],
   "source": [
    "cube = SpectralCube.read('http://www.astropy.org/astropy-data/l1448/l1448_13co.fits')\n",
    "cube"
   ]
  },
  {
   "cell_type": "markdown",
   "id": "b205d98a",
   "metadata": {},
   "source": [
    "We show a single channel from the cube to visualize the data spatially.\n",
    "We use pixel units to start; we'll show celestial coordinates later"
   ]
  },
  {
   "cell_type": "code",
   "execution_count": null,
   "id": "7b2db3eb",
   "metadata": {},
   "outputs": [],
   "source": [
    "pl.imshow(cube[25].value, origin='lower')"
   ]
  },
  {
   "cell_type": "markdown",
   "id": "9e946c8c",
   "metadata": {},
   "source": [
    "# PV Extraction from Pixel Coordinates\n",
    "\n",
    "First we create an extraction _path_.\n",
    "This path is the two-dimensional spatial coordinates through which we are cutting out our PV diagram.\n",
    "It is drawn below.\n",
    "\n",
    "The entries are pairs of pixel coordinates, (x,y).  In this case, we've selected arbitrary coordinates for our demonstration, but for your use case, you might pick the axis of an outflow, the major axis of an inclined disk, or a spiral following an arm of a galaxy."
   ]
  },
  {
   "cell_type": "code",
   "execution_count": null,
   "id": "7cc19bc3",
   "metadata": {},
   "outputs": [],
   "source": [
    "path = Path([(20,20), (40,40), (60,20)])"
   ]
  },
  {
   "cell_type": "markdown",
   "id": "5e83296d",
   "metadata": {},
   "source": [
    "Then we can overplot it on our figure, now with WCS shown.  The plotting uses [WCSAxes](https://docs.astropy.org/en/stable/visualization/wcsaxes/index.html)"
   ]
  },
  {
   "cell_type": "code",
   "execution_count": null,
   "id": "1b5e2815",
   "metadata": {},
   "outputs": [],
   "source": [
    "ax = pl.subplot(111, projection=cube.wcs.celestial)\n",
    "ax.imshow(cube[25].value)\n",
    "path.show_on_axis(ax, spacing=1, color='r')\n",
    "ax.set_xlabel(f\"Right Ascension [{cube.wcs.wcs.radesys}]\")\n",
    "ax.set_ylabel(f\"Declination [{cube.wcs.wcs.radesys}]\")"
   ]
  },
  {
   "cell_type": "markdown",
   "id": "b0d00e33",
   "metadata": {},
   "source": [
    "`spacing` gives the separation between these points in pixels; we finely sampled by picking one-pixel spacing."
   ]
  },
  {
   "cell_type": "markdown",
   "id": "cea5c40f",
   "metadata": {},
   "source": [
    "We can then extract the pv diagram, specifying the same spacing."
   ]
  },
  {
   "cell_type": "code",
   "execution_count": null,
   "id": "99297938",
   "metadata": {},
   "outputs": [],
   "source": [
    "pvdiagram = extract_pv_slice(cube=cube, path=path, spacing=1)\n",
    "pvdiagram"
   ]
  },
  {
   "cell_type": "markdown",
   "id": "65b62bb8",
   "metadata": {},
   "source": [
    "and plot it.  `pvdiagram` is a `PrimaryHDU` object, so we need to grab the data separately from the header and convert the header to a WCS object:"
   ]
  },
  {
   "cell_type": "code",
   "execution_count": null,
   "id": "9c602ebf",
   "metadata": {},
   "outputs": [],
   "source": [
    "ax = pl.subplot(111, projection=wcs.WCS(pvdiagram.header))\n",
    "im = ax.imshow(pvdiagram.data)\n",
    "cb = pl.colorbar(mappable=im)\n",
    "# we could specify the colorbar units like this:\n",
    "# cb.set_label(cube.unit)\n",
    "# but the 'BUNIT' keyword is not set for these data, so we don't know the unit.  We instead manually specify:\n",
    "cb.set_label(\"Brightness Temperature [K]\")"
   ]
  },
  {
   "cell_type": "markdown",
   "id": "e4179ebc",
   "metadata": {},
   "source": [
    "Changing units to the more commonly used km/s and more readable arcminutes can be done with [wcsaxes tools](https://docs.astropy.org/en/stable/visualization/wcsaxes/controlling_axes.html):"
   ]
  },
  {
   "cell_type": "code",
   "execution_count": null,
   "id": "9bebb46f",
   "metadata": {},
   "outputs": [],
   "source": [
    "ww = wcs.WCS(pvdiagram.header)\n",
    "\n",
    "ax = pl.subplot(111, projection=ww)\n",
    "im = ax.imshow(pvdiagram.data)\n",
    "cb = pl.colorbar(mappable=im)\n",
    "cb.set_label(\"Brightness Temperature [K]\")\n",
    "\n",
    "ax0 = ax.coords[0]\n",
    "ax0.set_format_unit(u.arcmin)\n",
    "ax1 = ax.coords[1]\n",
    "ax1.set_format_unit(u.km/u.s)\n",
    "\n",
    "ax.set_ylabel(\"Velocity [km/s]\")\n",
    "ax.set_xlabel(\"Offset [arcmin]\")"
   ]
  },
  {
   "cell_type": "markdown",
   "id": "ec773f53",
   "metadata": {},
   "source": [
    "We can put all this together:"
   ]
  },
  {
   "cell_type": "code",
   "execution_count": null,
   "id": "ea8c2fd2",
   "metadata": {},
   "outputs": [],
   "source": [
    "# we will use the peak intensity for future display\n",
    "# the warning here can be ignored because the cube is small,\n",
    "# but we don't silence it because it's a legit warning when dealing with big cubes\n",
    "mx = cube.max(axis=0).value"
   ]
  },
  {
   "cell_type": "code",
   "execution_count": null,
   "id": "4a3ba59a",
   "metadata": {},
   "outputs": [],
   "source": [
    "pl.figure(figsize=(12,6))\n",
    "ax = pl.subplot(121, projection=cube.wcs.celestial)\n",
    "ax.imshow(mx)\n",
    "path.show_on_axis(ax, spacing=1, color='r')\n",
    "\n",
    "ww = wcs.WCS(pvdiagram.header)\n",
    "ax.set_xlabel(f\"Right Ascension [{cube.wcs.wcs.radesys}]\")\n",
    "ax.set_ylabel(f\"Declination [{cube.wcs.wcs.radesys}]\")\n",
    "\n",
    "ax = pl.subplot(122, projection=ww)\n",
    "im = ax.imshow(pvdiagram.data)\n",
    "\n",
    "ax0 = ax.coords[0]\n",
    "ax0.set_format_unit(u.arcmin)\n",
    "ax1 = ax.coords[1]\n",
    "ax1.set_format_unit(u.km/u.s)\n",
    "\n",
    "ax.set_ylabel(\"Velocity [km/s]\")\n",
    "ax.set_xlabel(\"Offset [arcmin]\")"
   ]
  },
  {
   "cell_type": "markdown",
   "id": "f04373b1",
   "metadata": {},
   "source": [
    "# PV Extraction from Sky Coordinates"
   ]
  },
  {
   "cell_type": "markdown",
   "id": "f7643042",
   "metadata": {},
   "source": [
    "We can also make paths by supplying coordinates defined in an `astropy.coordinates.SkyCoord` to `pvextractor.Path`."
   ]
  },
  {
   "cell_type": "code",
   "execution_count": null,
   "id": "4f0f1d40",
   "metadata": {},
   "outputs": [],
   "source": [
    "from astropy.coordinates import SkyCoord"
   ]
  },
  {
   "cell_type": "code",
   "execution_count": null,
   "id": "b3299ae2",
   "metadata": {},
   "outputs": [],
   "source": [
    "skypath = Path(SkyCoord([3.4, 3.43, 3.42]*u.h, [30.5, 30.75, 30.5]*u.deg, frame='fk5'))"
   ]
  },
  {
   "cell_type": "markdown",
   "id": "27c2224d",
   "metadata": {},
   "source": [
    "We can plot again; the coordinates will be automatically determined"
   ]
  },
  {
   "cell_type": "code",
   "execution_count": null,
   "id": "2d3f42c3",
   "metadata": {},
   "outputs": [],
   "source": [
    "ax = pl.subplot(111, projection=cube.wcs.celestial)\n",
    "ax.imshow(cube[25].value)\n",
    "skypath.show_on_axis(ax, spacing=1, color='r')\n",
    "ax.set_xlabel(f\"Right Ascension [{cube.wcs.wcs.radesys}]\")\n",
    "ax.set_ylabel(f\"Declination [{cube.wcs.wcs.radesys}]\")"
   ]
  },
  {
   "cell_type": "code",
   "execution_count": null,
   "id": "65c46371",
   "metadata": {},
   "outputs": [],
   "source": [
    "pvdiagram2 = extract_pv_slice(cube=cube, path=skypath)\n",
    "pvdiagram2"
   ]
  },
  {
   "cell_type": "code",
   "execution_count": null,
   "id": "cbfa2a87",
   "metadata": {},
   "outputs": [],
   "source": [
    "pl.figure(figsize=(12,6))\n",
    "ax = pl.subplot(121, projection=cube.wcs.celestial)\n",
    "ax.imshow(mx)\n",
    "skypath.show_on_axis(ax, spacing=1, color='r')\n",
    "\n",
    "ww = wcs.WCS(pvdiagram2.header)\n",
    "ax.set_xlabel(f\"Right Ascension [{cube.wcs.wcs.radesys}]\")\n",
    "ax.set_ylabel(f\"Declination [{cube.wcs.wcs.radesys}]\")\n",
    "\n",
    "ax = pl.subplot(122, projection=ww)\n",
    "im = ax.imshow(pvdiagram2.data)\n",
    "\n",
    "ax0 = ax.coords[0]\n",
    "ax0.set_format_unit(u.arcmin)\n",
    "ax1 = ax.coords[1]\n",
    "ax1.set_format_unit(u.km/u.s)\n",
    "\n",
    "ax.set_ylabel(\"Velocity [km/s]\")\n",
    "ax.set_xlabel(\"Offset [arcmin]\")"
   ]
  },
  {
   "cell_type": "markdown",
   "id": "2bca4a13",
   "metadata": {},
   "source": [
    "We can also change the aspect ratio of the PV diagram.  The `figsize` parameter controls the figure size, which has some effect, and the `ax.set_aspect` command controls the aspect ratio of the individually displayed pixels"
   ]
  },
  {
   "cell_type": "code",
   "execution_count": null,
   "id": "fcf34393",
   "metadata": {},
   "outputs": [],
   "source": [
    "pl.figure(figsize=(12,6))\n",
    "ax = pl.subplot(121, projection=cube.wcs.celestial)\n",
    "ax.imshow(mx)\n",
    "skypath.show_on_axis(ax, spacing=1, color='r')\n",
    "\n",
    "ww = wcs.WCS(pvdiagram2.header)\n",
    "ax.set_xlabel(f\"Right Ascension [{cube.wcs.wcs.radesys}]\")\n",
    "ax.set_ylabel(f\"Declination [{cube.wcs.wcs.radesys}]\")\n",
    "\n",
    "\n",
    "ax = pl.subplot(122, projection=ww)\n",
    "im = ax.imshow(pvdiagram2.data)\n",
    "ax.set_aspect(2)\n",
    "\n",
    "ax0 = ax.coords[0]\n",
    "ax0.set_format_unit(u.arcmin)\n",
    "ax1 = ax.coords[1]\n",
    "ax1.set_format_unit(u.km/u.s)\n",
    "\n",
    "ax.set_ylabel(\"Velocity [km/s]\")\n",
    "ax.set_xlabel(\"Offset [arcmin]\")"
   ]
  },
  {
   "cell_type": "markdown",
   "id": "e8deae20",
   "metadata": {},
   "source": [
    "## PV Extraction with Spatial Averaging"
   ]
  },
  {
   "cell_type": "markdown",
   "id": "0824ae9d",
   "metadata": {},
   "source": [
    "`pvextractor.Path` allows you to specify a `width` to average over, which specifies a spatial range around the path to average over.\n",
    "\n",
    "In other words, it turns our path into a series of consecutive rectangular regions."
   ]
  },
  {
   "cell_type": "code",
   "execution_count": null,
   "id": "91f5420f",
   "metadata": {},
   "outputs": [],
   "source": [
    "skypath2 = Path(SkyCoord([3.4, 3.429, 3.42]*u.h, [30.5, 30.75, 30.5]*u.deg, frame='fk5'), width=2*u.arcmin)"
   ]
  },
  {
   "cell_type": "code",
   "execution_count": null,
   "id": "bb057443",
   "metadata": {},
   "outputs": [],
   "source": [
    "pvdiagram3 = extract_pv_slice(cube=cube, path=skypath2)"
   ]
  },
  {
   "cell_type": "markdown",
   "id": "1cf3ccc5",
   "metadata": {},
   "source": [
    "We can plot this path as a set of patches to show where we averaged.  The default spacing is 1 pixel,so we plot 1-pixel chunks."
   ]
  },
  {
   "cell_type": "code",
   "execution_count": null,
   "id": "9a866a1f",
   "metadata": {},
   "outputs": [],
   "source": [
    "pl.figure(figsize=(12,6))\n",
    "ax = pl.subplot(121, projection=cube.wcs.celestial)\n",
    "ax.imshow(mx)\n",
    "\n",
    "skypath2.show_on_axis(ax, spacing=1,\n",
    "                      edgecolor='r', linestyle=':',\n",
    "                      linewidth=0.75)\n",
    "\n",
    "ww = wcs.WCS(pvdiagram3.header)\n",
    "ax.set_xlabel(f\"Right Ascension [{cube.wcs.wcs.radesys}]\")\n",
    "ax.set_ylabel(f\"Declination [{cube.wcs.wcs.radesys}]\")\n",
    "\n",
    "ax = pl.subplot(122, projection=ww)\n",
    "im = ax.imshow(pvdiagram3.data)\n",
    "ax.set_aspect(2.5)\n",
    "\n",
    "cb = pl.colorbar(mappable=im)\n",
    "cb.set_label(\"Brightness Temperature [K]\")\n",
    "\n",
    "ax0 = ax.coords[0]\n",
    "ax0.set_format_unit(u.arcmin)\n",
    "ax1 = ax.coords[1]\n",
    "ax1.set_format_unit(u.km/u.s)\n",
    "\n",
    "\n",
    "ax.set_ylabel(\"Velocity [km/s]\")\n",
    "ax.set_xlabel(\"Offset [arcmin]\")"
   ]
  },
  {
   "cell_type": "markdown",
   "id": "d70082ef",
   "metadata": {},
   "source": [
    "We can also have more widely spaced chunks.\n",
    "\n",
    "Note that the spacing given to `extract_pv_slice` affects the shape of the output PV diagram, so we also change the aspect ratio:"
   ]
  },
  {
   "cell_type": "code",
   "execution_count": null,
   "id": "98faa709",
   "metadata": {},
   "outputs": [],
   "source": [
    "pvdiagram4 = extract_pv_slice(cube=cube, path=skypath2, spacing=5)\n",
    "\n",
    "fig = pl.figure(figsize=(12,6))\n",
    "ax = pl.subplot(121, projection=cube.wcs.celestial)\n",
    "ax.imshow(mx)\n",
    "skypath2.show_on_axis(ax, spacing=5,\n",
    "                      edgecolor='w', linestyle=':',\n",
    "                      linewidth=0.75)\n",
    "\n",
    "ww = wcs.WCS(pvdiagram4.header)\n",
    "ax.set_xlabel(f\"Right Ascension [{cube.wcs.wcs.radesys}]\")\n",
    "ax.set_ylabel(f\"Declination [{cube.wcs.wcs.radesys}]\")\n",
    "\n",
    "ax = pl.subplot(122, projection=ww)\n",
    "im = ax.imshow(pvdiagram4.data)\n",
    "cb = pl.colorbar(mappable=im)\n",
    "cb.set_label(\"Brightness Temperature [K]\")\n",
    "ax.set_aspect(0.5)\n",
    "\n",
    "ax0 = ax.coords[0]\n",
    "ax0.set_format_unit(u.arcmin)\n",
    "ax1 = ax.coords[1]\n",
    "ax1.set_format_unit(u.km/u.s)\n",
    "\n",
    "ax.set_ylabel(\"Velocity [km/s]\")\n",
    "ax.set_xlabel(\"Offset [arcmin]\")"
   ]
  },
  {
   "cell_type": "markdown",
   "id": "c8203c9d",
   "metadata": {},
   "source": [
    "## Saving\n",
    "\n",
    "Finally, we can save the extracted PV diagram as a FITS file:"
   ]
  },
  {
   "cell_type": "code",
   "execution_count": null,
   "id": "d59d2ff3",
   "metadata": {},
   "outputs": [],
   "source": [
    "pvdiagram.writeto(\"saved_pvdiagram.fits\", overwrite=True)"
   ]
  },
  {
   "cell_type": "markdown",
   "id": "560c2f93-ee95-4d60-825a-83ec9f3acba7",
   "metadata": {},
   "source": [
    "We can also save the figure as a png or pdf:"
   ]
  },
  {
   "cell_type": "code",
   "execution_count": null,
   "id": "74de9f99-e2fd-411f-9249-a39fa0b35908",
   "metadata": {},
   "outputs": [],
   "source": [
    "fig.savefig(\"saved_pvdiagram.png\", bbox_inches='tight')\n",
    "fig.savefig(\"saved_pvdiagram.pdf\", bbox_inches='tight')"
   ]
  }
 ],
 "metadata": {
  "language_info": {
   "codemirror_mode": {
    "name": "ipython"
   },
   "file_extension": ".py",
   "mimetype": "text/x-python",
   "name": "python",
   "nbconvert_exporter": "python"
  }
 },
 "nbformat": 4,
 "nbformat_minor": 4
}
