{
 "cells": [
  {
   "cell_type": "code",
   "execution_count": 2,
   "metadata": {},
   "outputs": [
    {
     "data": {
      "text/plain": [
       "<hunter._tracer.Tracer at 0x2396e60bf40: threading_support=None, handler=<hunter._predicates.When: condition=<hunter._predicates.Query: query_eq=(('module', 'posixpath'),)>, actions=(CallPrinter(stream=<_io.TextIOWrapper name='<stderr>' mode='w' encoding='utf-8'>, force_colors=False, filename_alignment=40, thread_alignment=12, pid_alignment=9 repr_limit=1024, repr_func=<function safe_repr at 0x00000239683B9F70>),)>, previous=<hunter._tracer.Tracer at 0x2396cf911c0: threading_support=None, handler=<hunter._predicates.When: condition=<hunter._predicates.Query: query_eq=(('module', 'posixpath'),)>, actions=(CallPrinter(stream=<_io.TextIOWrapper name='<stderr>' mode='w' encoding='utf-8'>, force_colors=False, filename_alignment=40, thread_alignment=12, pid_alignment=9 repr_limit=1024, repr_func=<function safe_repr at 0x00000239683B9F70>),)>>>"
      ]
     },
     "execution_count": 2,
     "metadata": {},
     "output_type": "execute_result"
    }
   ],
   "source": [
    "import hunter\n",
    "hunter.trace(module='posixpath', action=hunter.CallPrinter)\n"
   ]
  },
  {
   "cell_type": "code",
   "execution_count": 3,
   "metadata": {},
   "outputs": [
    {
     "data": {
      "text/plain": [
       "'a\\\\b'"
      ]
     },
     "execution_count": 3,
     "metadata": {},
     "output_type": "execute_result"
    }
   ],
   "source": [
    "import os\n",
    "os.path.join('a', 'b')"
   ]
  },
  {
   "cell_type": "code",
   "execution_count": 4,
   "metadata": {},
   "outputs": [
    {
     "data": {
      "text/plain": [
       "<hunter._tracer.Tracer at 0x2396ee21820: threading_support=None, handler=<hunter._predicates.When: condition=<hunter._predicates.When: condition=<hunter._predicates.Query: query_eq=(('module', 'posixpath'),)>, actions=(VarsPrinter(stream=<_io.TextIOWrapper name='<stderr>' mode='w' encoding='utf-8'>, force_colors=False, filename_alignment=40, thread_alignment=12, pid_alignment=9 repr_limit=1024, repr_func=<function safe_repr at 0x00000239683B9F70>),)>, actions=(CallPrinter(stream=<_io.TextIOWrapper name='<stderr>' mode='w' encoding='utf-8'>, force_colors=False, filename_alignment=40, thread_alignment=12, pid_alignment=9 repr_limit=1024, repr_func=<function safe_repr at 0x00000239683B9F70>),)>, previous=<hunter._tracer.Tracer at 0x2396e60bf40: threading_support=None, handler=<hunter._predicates.When: condition=<hunter._predicates.Query: query_eq=(('module', 'posixpath'),)>, actions=(CallPrinter(stream=<_io.TextIOWrapper name='<stderr>' mode='w' encoding='utf-8'>, force_colors=False, filename_alignment=40, thread_alignment=12, pid_alignment=9 repr_limit=1024, repr_func=<function safe_repr at 0x00000239683B9F70>),)>, previous=<hunter._tracer.Tracer at 0x2396cf911c0: threading_support=None, handler=<hunter._predicates.When: condition=<hunter._predicates.Query: query_eq=(('module', 'posixpath'),)>, actions=(CallPrinter(stream=<_io.TextIOWrapper name='<stderr>' mode='w' encoding='utf-8'>, force_colors=False, filename_alignment=40, thread_alignment=12, pid_alignment=9 repr_limit=1024, repr_func=<function safe_repr at 0x00000239683B9F70>),)>>>>"
      ]
     },
     "execution_count": 4,
     "metadata": {},
     "output_type": "execute_result"
    }
   ],
   "source": [
    "# note that this kind of invocation will also use the default `CallPrinter` action\n",
    "hunter.trace(hunter.Q(module='posixpath', action=hunter.VarsPrinter('path')))"
   ]
  },
  {
   "cell_type": "code",
   "execution_count": 5,
   "metadata": {},
   "outputs": [
    {
     "data": {
      "text/plain": [
       "'a\\\\b'"
      ]
     },
     "execution_count": 5,
     "metadata": {},
     "output_type": "execute_result"
    }
   ],
   "source": [
    "import os\n",
    "os.path.join('a', 'b')"
   ]
  },
  {
   "cell_type": "code",
   "execution_count": null,
   "metadata": {},
   "outputs": [],
   "source": []
  }
 ],
 "metadata": {
  "kernelspec": {
   "display_name": "Python 3.8.5 ('hunter_env': venv)",
   "language": "python",
   "name": "python3"
  },
  "language_info": {
   "codemirror_mode": {
    "name": "ipython",
    "version": 3
   },
   "file_extension": ".py",
   "mimetype": "text/x-python",
   "name": "python",
   "nbconvert_exporter": "python",
   "pygments_lexer": "ipython3",
   "version": "3.8.5"
  },
  "orig_nbformat": 4,
  "vscode": {
   "interpreter": {
    "hash": "8238cdb4739970658e31641477c4962e1165d479ff3c49ae8b2dfb32ec242b4a"
   }
  }
 },
 "nbformat": 4,
 "nbformat_minor": 2
}
