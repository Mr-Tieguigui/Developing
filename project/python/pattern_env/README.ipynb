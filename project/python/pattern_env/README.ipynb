{
 "cells": [
  {
   "cell_type": "code",
   "execution_count": 1,
   "metadata": {},
   "outputs": [
    {
     "ename": "ModuleNotFoundError",
     "evalue": "No module named 'pattern.web'",
     "output_type": "error",
     "traceback": [
      "\u001b[1;31m---------------------------------------------------------------------------\u001b[0m",
      "\u001b[1;31mModuleNotFoundError\u001b[0m                       Traceback (most recent call last)",
      "Cell \u001b[1;32mIn[1], line 1\u001b[0m\n\u001b[1;32m----> 1\u001b[0m \u001b[39mfrom\u001b[39;00m \u001b[39mpattern\u001b[39;00m\u001b[39m.\u001b[39;00m\u001b[39mweb\u001b[39;00m \u001b[39mimport\u001b[39;00m Twitter, plaintext\n\u001b[0;32m      3\u001b[0m twitter \u001b[39m=\u001b[39m Twitter(language\u001b[39m=\u001b[39m\u001b[39m'\u001b[39m\u001b[39men\u001b[39m\u001b[39m'\u001b[39m) \n\u001b[0;32m      4\u001b[0m \u001b[39mfor\u001b[39;00m tweet \u001b[39min\u001b[39;00m twitter\u001b[39m.\u001b[39msearch(\u001b[39m'\u001b[39m\u001b[39m\"\u001b[39m\u001b[39mmore important than\u001b[39m\u001b[39m\"\u001b[39m\u001b[39m'\u001b[39m, cached\u001b[39m=\u001b[39m\u001b[39mFalse\u001b[39;00m):\n",
      "\u001b[1;31mModuleNotFoundError\u001b[0m: No module named 'pattern.web'"
     ]
    }
   ],
   "source": [
    "from pattern.web import Twitter, plaintext\n",
    "\n",
    "twitter = Twitter(language='en') \n",
    "for tweet in twitter.search('\"more important than\"', cached=False):\n",
    "    print(plaintext(tweet.text))"
   ]
  },
  {
   "cell_type": "code",
   "execution_count": 5,
   "metadata": {},
   "outputs": [
    {
     "ename": "ModuleNotFoundError",
     "evalue": "No module named 'pattern.en'",
     "output_type": "error",
     "traceback": [
      "\u001b[1;31m---------------------------------------------------------------------------\u001b[0m",
      "\u001b[1;31mModuleNotFoundError\u001b[0m                       Traceback (most recent call last)",
      "Cell \u001b[1;32mIn[5], line 1\u001b[0m\n\u001b[1;32m----> 1\u001b[0m \u001b[39mfrom\u001b[39;00m \u001b[39mpattern\u001b[39;00m\u001b[39m.\u001b[39;00m\u001b[39men\u001b[39;00m \u001b[39mimport\u001b[39;00m parse\n\u001b[0;32m      3\u001b[0m s \u001b[39m=\u001b[39m \u001b[39m'\u001b[39m\u001b[39mThe mobile web is more important than mobile apps.\u001b[39m\u001b[39m'\u001b[39m\n\u001b[0;32m      4\u001b[0m s \u001b[39m=\u001b[39m parse(s, relations\u001b[39m=\u001b[39m\u001b[39mTrue\u001b[39;00m, lemmata\u001b[39m=\u001b[39m\u001b[39mTrue\u001b[39;00m)\n",
      "\u001b[1;31mModuleNotFoundError\u001b[0m: No module named 'pattern.en'"
     ]
    }
   ],
   "source": [
    "from pattern.en import parse\n",
    " \n",
    "s = 'The mobile web is more important than mobile apps.'\n",
    "s = parse(s, relations=True, lemmata=True)\n",
    "print(s)"
   ]
  },
  {
   "cell_type": "code",
   "execution_count": null,
   "metadata": {},
   "outputs": [],
   "source": [
    "from pattern.en import parsetree\n",
    "\n",
    "s = 'The mobile web is more important than mobile apps.'\n",
    "s = parsetree(s) \n",
    "for sentence in s: \n",
    "     for chunk in sentence.chunks:\n",
    "         for word in chunk.words:\n",
    "             print word,\n",
    "         print"
   ]
  },
  {
   "cell_type": "code",
   "execution_count": null,
   "metadata": {},
   "outputs": [],
   "source": [
    "from pattern.en import parsetree\n",
    "from pattern.search import search\n",
    "  \n",
    "s = 'The mobile web is more important than mobile apps.'\n",
    "s = parsetree(s, relations=True, lemmata=True)\n",
    "for match in search('NP be RB?+ important than NP', s):\n",
    "    print match.constituents()[-1], '=>', \\\n",
    "        match.constituents()[0]"
   ]
  },
  {
   "cell_type": "code",
   "execution_count": 4,
   "metadata": {},
   "outputs": [
    {
     "ename": "SyntaxError",
     "evalue": "invalid syntax (1548237516.py, line 20)",
     "output_type": "error",
     "traceback": [
      "\u001b[1;36m  Cell \u001b[1;32mIn[4], line 20\u001b[1;36m\u001b[0m\n\u001b[1;33m    print knn.classify('sweet potato burger')\u001b[0m\n\u001b[1;37m          ^\u001b[0m\n\u001b[1;31mSyntaxError\u001b[0m\u001b[1;31m:\u001b[0m invalid syntax\n"
     ]
    }
   ],
   "source": [
    "## 4 pattern.vector\n",
    "## 该模块包含易于使用的机器学习工具，从字数统计功能、文档词袋和向量空间模型，到潜在语义分析、聚类和分类算法（朴素贝叶斯、K-NN、感知器、SVM）。详情：pattern.vector\n",
    "\n",
    "from pattern.web    import Twitter\n",
    "from pattern.en     import tag\n",
    "from pattern.vector import KNN, count\n",
    "\n",
    "twitter, knn = Twitter(), KNN()\n",
    "\n",
    "for i in range(1, 10):\n",
    "    for tweet in twitter.search('#win OR #fail', start=i, count=100):\n",
    "        s = tweet.text.lower()\n",
    "        p = '#win' in s and 'WIN' or 'FAIL'\n",
    "        v = tag(s)\n",
    "        v = [word for word, pos in v if pos == 'JJ'] # JJ = adjective\n",
    "        v = count(v) \n",
    "        if v:\n",
    "            knn.train(v, type=p)\n",
    "\n",
    "print knn.classify('sweet potato burger')\n",
    "print knn.classify('stupid autocorrect')"
   ]
  },
  {
   "cell_type": "code",
   "execution_count": null,
   "metadata": {},
   "outputs": [],
   "source": [
    "## 5 pattern.graph\n",
    "## 该模块具有图形分析工具（最短路径、中心）和浏览器中的图形可视化。图是由边连接节点所构成的网络，例如它可以用来研究社会网络或模型概念之间的语义关系。详情：pattern.graph\n",
    "## 下面的例子中，蓝色代表更多的中央节点（即更多传入的流量）。\n",
    "\n",
    "\n",
    "from pattern.web    import Bing, plaintext\n",
    "from pattern.en     import parsetree\n",
    "from pattern.search import search\n",
    "from pattern.graph  import Graph\n",
    " \n",
    "g = Graph()\n",
    "for i in range(10):\n",
    "    for result in Bing().search('\"more important than\"', start=i+1, count=50):\n",
    "        s = r.text.lower() \n",
    "        s = plaintext(s)\n",
    "        s = parsetree(s)\n",
    "        p = '{NP} (VP) more important than {NP}'\n",
    "        for m in search(p, s):\n",
    "            x = m.group(1).string # NP left\n",
    "            y = m.group(2).string # NP right\n",
    "            if x not in g:\n",
    "                g.add_node(x)\n",
    "            if y not in g:\n",
    "                g.add_node(y)\n",
    "            g.add_edge(g[x], g[y], stroke=(0,0,0,0.75)) # R,G,B,A\n",
    " \n",
    "g = g.split()[0] # Largest subgraph.\n",
    "\n",
    "for n in g.sorted()[:40]: # Sort by Node.weight.\n",
    "    n.fill = (0, 0.5, 1, 0.75 * n.weight)\n",
    "g.export('test', directed=True, weighted=0.6)"
   ]
  }
 ],
 "metadata": {
  "kernelspec": {
   "display_name": "Python 3.7.9 ('pattern_env': venv)",
   "language": "python",
   "name": "python3"
  },
  "language_info": {
   "codemirror_mode": {
    "name": "ipython",
    "version": 3
   },
   "file_extension": ".py",
   "mimetype": "text/x-python",
   "name": "python",
   "nbconvert_exporter": "python",
   "pygments_lexer": "ipython3",
   "version": "3.8.5"
  },
  "orig_nbformat": 4,
  "vscode": {
   "interpreter": {
    "hash": "a567cf16b7f85b4a2f7fe6ba1f424fd6415359b5b598491d2a768c03dd790c7d"
   }
  }
 },
 "nbformat": 4,
 "nbformat_minor": 2
}
