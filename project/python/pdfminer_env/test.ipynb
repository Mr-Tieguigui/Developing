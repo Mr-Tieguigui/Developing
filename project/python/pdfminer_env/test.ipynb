{
 "cells": [
  {
   "cell_type": "code",
   "execution_count": 1,
   "metadata": {},
   "outputs": [
    {
     "name": "stdout",
     "output_type": "stream",
     "text": [
      "'PReFilter:   \\nAn Efficient Privacy-preserving Relay Filtering Scheme for Delay Tolerant Networks \\n\\n\\x0c'\n",
      "PReFilter:   \n",
      "An Efficient Privacy-preserving Relay Filtering Scheme for Delay Tolerant Networks \n",
      "\n",
      "\f\n"
     ]
    }
   ],
   "source": [
    "# 使用 Python 从 PDF 中提取文本\n",
    "## 1. 从 PDF 中提取文本的最简单方法是使用 \"extract_text\"：\n",
    "from pdfminer.high_level import extract_text\n",
    "text = extract_text('test.pdf')\n",
    "print(repr(text))\n",
    "print(text)"
   ]
  },
  {
   "cell_type": "code",
   "execution_count": 3,
   "metadata": {},
   "outputs": [
    {
     "name": "stdout",
     "output_type": "stream",
     "text": [
      "PReFilter:  An Efficient Privacy-preserving Relay Filtering Scheme for Delay Tolerant Networks\n"
     ]
    }
   ],
   "source": [
    "## 2. 要从 PDF 中读取文本并在命令行上打印：\n",
    "from io import StringIO\n",
    "from pdfminer.high_level import extract_text_to_fp\n",
    "output_string = StringIO()\n",
    "with open('test.pdf', 'rb') as fin:\n",
    "    extract_text_to_fp(fin, output_string)\n",
    "print(output_string.getvalue().strip())"
   ]
  },
  {
   "cell_type": "code",
   "execution_count": 7,
   "metadata": {},
   "outputs": [
    {
     "data": {
      "text/plain": [
       "'<html><head>\\n<meta http-equiv=\"Content-Type\" content=\"text/html\">\\n</head><body>\\n<span style=\"position:absolute; border: gray 1px solid; left:0px; top:50px; width:595px; height:841px;\"></span>\\n<div style=\"position:absolute; top:50px;\"><a name=\"1\">Page 1</a></div>\\n<div style=\"position:absolute; border: textbox 1px solid; writing-mode:lr-tb; left:90px; top:124px; width:373px; height:26px;\"><span style=\"font-family: F1; font-size:10px\">PReFilter:   \\n<br>An Efficient Privacy-preserving Relay Filtering Scheme for Delay Tolerant Networks \\n<br></span></div><div style=\"position:absolute; top:0px;\">Page: <a href=\"#1\">1</a></div>\\n</body></html>'"
      ]
     },
     "execution_count": 7,
     "metadata": {},
     "output_type": "execute_result"
    }
   ],
   "source": [
    "## 3.或者将其转换为 html 并使用布局分析：\n",
    "from io import StringIO\n",
    "from pdfminer.high_level import extract_text_to_fp\n",
    "from pdfminer.layout import LAParams\n",
    "output_string = StringIO()\n",
    "with open('test.pdf', 'rb') as fin:\n",
    "    extract_text_to_fp(fin, output_string, laparams=LAParams(), output_type='html', codec=None)\n",
    "output_string.getvalue().strip()"
   ]
  },
  {
   "cell_type": "code",
   "execution_count": 8,
   "metadata": {},
   "outputs": [
    {
     "name": "stdout",
     "output_type": "stream",
     "text": [
      "PReFilter:   \n",
      "An Efficient Privacy-preserving Relay Filtering Scheme for Delay Tolerant Networks \n",
      "\n",
      "\f\n"
     ]
    }
   ],
   "source": [
    "## 4. 从 PDF 文件中提取文本并将其保存在 python 中 变量：\n",
    "\n",
    "from io import StringIO\n",
    "\n",
    "from pdfminer.converter import TextConverter\n",
    "from pdfminer.layout import LAParams\n",
    "from pdfminer.pdfdocument import PDFDocument\n",
    "from pdfminer.pdfinterp import PDFResourceManager, PDFPageInterpreter\n",
    "from pdfminer.pdfpage import PDFPage\n",
    "from pdfminer.pdfparser import PDFParser\n",
    "\n",
    "output_string = StringIO()\n",
    "with open('test.pdf', 'rb') as in_file:\n",
    "    parser = PDFParser(in_file)\n",
    "    doc = PDFDocument(parser)\n",
    "    rsrcmgr = PDFResourceManager()\n",
    "    device = TextConverter(rsrcmgr, output_string, laparams=LAParams())\n",
    "    interpreter = PDFPageInterpreter(rsrcmgr, device)\n",
    "    for page in PDFPage.create_pages(doc):\n",
    "        interpreter.process_page(page)\n",
    "\n",
    "print(output_string.getvalue())"
   ]
  },
  {
   "cell_type": "code",
   "execution_count": 27,
   "metadata": {},
   "outputs": [
    {
     "name": "stdout",
     "output_type": "stream",
     "text": [
      "<LTTextBoxHorizontal(0) 90.000,740.961,463.699,767.121 'PReFilter:   \\nAn Efficient Privacy-preserving Relay Filtering Scheme for Delay Tolerant Networks \\n'>\n",
      "PReFilter:   \n",
      "An Efficient Privacy-preserving Relay Filtering Scheme for Delay Tolerant Networks \n",
      "\n"
     ]
    },
    {
     "data": {
      "text/plain": [
       "'\\nfrom pdfminer.high_level import extract_pages\\nfrom pdfminer.layout import LTTextContainer, LTChar\\nfor page_layout in extract_pages(\"test.pdf\"):\\n    for element in page_layout:\\n        if isinstance(element, LTTextContainer):\\n            for text_line in element:\\n                for character in text_line:\\n                    if isinstance(character, LTChar):\\n                        print(character.fontname)\\n                        print(character.size)\\n'"
      ]
     },
     "execution_count": 27,
     "metadata": {},
     "output_type": "execute_result"
    }
   ],
   "source": [
    "# 使用 Python 从 PDF 中提取元素\n",
    "## 1. 高级功能可用于完成常见任务。在这种情况下， 我们可以使用extract_pages：\n",
    "\n",
    "from pdfminer.high_level import extract_pages\n",
    "for page_layout in extract_pages(\"test.pdf\"):\n",
    "    for element in page_layout:\n",
    "        print(element)\n",
    "## 每个都将是一个,,,或一个。其中一些可以进一步迭代，例如迭代 虽然安威尔给你一个，而这些反过来可以 被迭代以获取一个。请参见此处的图表：布局分析算法。elementLTTextBoxLTFigureLTLineLTRectLTImageLTTextBoxLTTextLineLTChar\n",
    "\n",
    "## 2. 假设我们要提取所有文本。我们可以做到：\n",
    "\n",
    "from pdfminer.high_level import extract_pages\n",
    "from pdfminer.layout import LTTextContainer\n",
    "for page_layout in extract_pages(\"test.pdf\"):\n",
    "    for element in page_layout:\n",
    "        if isinstance(element, LTTextContainer):\n",
    "            print(element.get_text())\n",
    "## 3. 或者，我们可以提取每个字符的字体名称或大小：\n",
    "'''\n",
    "from pdfminer.high_level import extract_pages\n",
    "from pdfminer.layout import LTTextContainer, LTChar\n",
    "for page_layout in extract_pages(\"test.pdf\"):\n",
    "    for element in page_layout:\n",
    "        if isinstance(element, LTTextContainer):\n",
    "            for text_line in element:\n",
    "                for character in text_line:\n",
    "                    if isinstance(character, LTChar):\n",
    "                        print(character.fontname)\n",
    "                        print(character.size)\n",
    "'''"
   ]
  },
  {
   "cell_type": "code",
   "execution_count": 33,
   "metadata": {},
   "outputs": [],
   "source": [
    "# 从pdf中提取图像\n",
    "## !curl https://www.robots.ox.ac.uk/~vgg/publications/2012/parkhi12a/parkhi12a.pdf --output example.pdf\n",
    "!python3 pdf2txt.py example.pdf --output-dir cats-and-dogs"
   ]
  },
  {
   "cell_type": "code",
   "execution_count": 41,
   "metadata": {},
   "outputs": [
    {
     "name": "stderr",
     "output_type": "stream",
     "text": [
      "  File \"I:\\TGY-being\\project\\python\\pdfminer_env\\Scripts\\pdf2txt.py\", line 18\n",
      "    def float_or_disabled(x: str) -> Optional[float]:\n",
      "                           ^\n",
      "SyntaxError: invalid syntax\n"
     ]
    }
   ],
   "source": [
    "!pdf2txt.py --help"
   ]
  },
  {
   "cell_type": "code",
   "execution_count": 31,
   "metadata": {},
   "outputs": [],
   "source": [
    "!python3 dumppdf.py -a test.pdf"
   ]
  },
  {
   "cell_type": "code",
   "execution_count": null,
   "metadata": {},
   "outputs": [],
   "source": []
  }
 ],
 "metadata": {
  "kernelspec": {
   "display_name": "Python 3.8.5 ('pdfminer_env': venv)",
   "language": "python",
   "name": "python3"
  },
  "language_info": {
   "codemirror_mode": {
    "name": "ipython",
    "version": 3
   },
   "file_extension": ".py",
   "mimetype": "text/x-python",
   "name": "python",
   "nbconvert_exporter": "python",
   "pygments_lexer": "ipython3",
   "version": "3.8.5"
  },
  "orig_nbformat": 4,
  "vscode": {
   "interpreter": {
    "hash": "e58ef9530d35c99854480be106577f790ab88b65a5cc9de3cb44330d67fca74f"
   }
  }
 },
 "nbformat": 4,
 "nbformat_minor": 2
}
