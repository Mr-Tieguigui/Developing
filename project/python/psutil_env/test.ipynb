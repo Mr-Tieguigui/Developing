{
 "cells": [
  {
   "cell_type": "markdown",
   "metadata": {},
   "source": [
    "# CPU"
   ]
  },
  {
   "cell_type": "code",
   "execution_count": 9,
   "metadata": {},
   "outputs": [
    {
     "data": {
      "text/plain": [
       "scputimes(user=919710.484375, system=325261.87499999907, idle=7590935.03125, interrupt=16513.359375, dpc=6893.65625)"
      ]
     },
     "execution_count": 9,
     "metadata": {},
     "output_type": "execute_result"
    }
   ],
   "source": [
    "import psutil\n",
    "psutil.cpu_times()"
   ]
  },
  {
   "cell_type": "code",
   "execution_count": 2,
   "metadata": {},
   "outputs": [
    {
     "data": {
      "text/plain": [
       "[24.3, 23.1, 10.8, 24.6, 7.7, 3.1]"
      ]
     },
     "execution_count": 2,
     "metadata": {},
     "output_type": "execute_result"
    }
   ],
   "source": [
    "psutil.cpu_percent(interval=1, percpu=True)"
   ]
  },
  {
   "cell_type": "code",
   "execution_count": 5,
   "metadata": {},
   "outputs": [
    {
     "data": {
      "text/plain": [
       "6"
      ]
     },
     "execution_count": 5,
     "metadata": {},
     "output_type": "execute_result"
    }
   ],
   "source": [
    "# psutil.cpu_count()\n",
    "psutil.cpu_count(logical=False)"
   ]
  },
  {
   "cell_type": "code",
   "execution_count": 6,
   "metadata": {},
   "outputs": [
    {
     "data": {
      "text/plain": [
       "6"
      ]
     },
     "execution_count": 6,
     "metadata": {},
     "output_type": "execute_result"
    }
   ],
   "source": [
    "len(psutil.Process().cpu_affinity())"
   ]
  },
  {
   "cell_type": "code",
   "execution_count": 8,
   "metadata": {},
   "outputs": [
    {
     "data": {
      "text/plain": [
       "[scpufreq(current=2808.0, min=0.0, max=2808.0)]"
      ]
     },
     "execution_count": 8,
     "metadata": {},
     "output_type": "execute_result"
    }
   ],
   "source": [
    "psutil.cpu_freq(percpu=True)"
   ]
  },
  {
   "cell_type": "code",
   "execution_count": 11,
   "metadata": {},
   "outputs": [
    {
     "data": {
      "text/plain": [
       "(0.0, 0.0, 0.0)"
      ]
     },
     "execution_count": 11,
     "metadata": {},
     "output_type": "execute_result"
    }
   ],
   "source": [
    "psutil.getloadavg()"
   ]
  },
  {
   "cell_type": "markdown",
   "metadata": {},
   "source": [
    "# memory"
   ]
  },
  {
   "cell_type": "code",
   "execution_count": 14,
   "metadata": {},
   "outputs": [
    {
     "data": {
      "text/plain": [
       "svmem(total=34268786688, available=11255746560, percent=67.2, used=23013040128, free=11255746560)"
      ]
     },
     "execution_count": 14,
     "metadata": {},
     "output_type": "execute_result"
    }
   ],
   "source": [
    "psutil.virtual_memory()"
   ]
  },
  {
   "cell_type": "code",
   "execution_count": 15,
   "metadata": {},
   "outputs": [
    {
     "data": {
      "text/plain": [
       "sswap(total=23119003648, used=10948562944, free=12170440704, percent=47.4, sin=0, sout=0)"
      ]
     },
     "execution_count": 15,
     "metadata": {},
     "output_type": "execute_result"
    }
   ],
   "source": [
    "psutil.swap_memory()"
   ]
  },
  {
   "cell_type": "markdown",
   "metadata": {},
   "source": [
    "# 磁盘"
   ]
  },
  {
   "cell_type": "code",
   "execution_count": 12,
   "metadata": {},
   "outputs": [
    {
     "data": {
      "text/plain": [
       "[sdiskpart(device='C:\\\\', mountpoint='C:\\\\', fstype='NTFS', opts='rw,fixed', maxfile=255, maxpath=260),\n",
       " sdiskpart(device='D:\\\\', mountpoint='D:\\\\', fstype='NTFS', opts='rw,fixed', maxfile=255, maxpath=260),\n",
       " sdiskpart(device='E:\\\\', mountpoint='E:\\\\', fstype='NTFS', opts='rw,fixed', maxfile=255, maxpath=260),\n",
       " sdiskpart(device='F:\\\\', mountpoint='F:\\\\', fstype='NTFS', opts='rw,fixed', maxfile=255, maxpath=260),\n",
       " sdiskpart(device='G:\\\\', mountpoint='G:\\\\', fstype='NTFS', opts='rw,fixed', maxfile=255, maxpath=260),\n",
       " sdiskpart(device='H:\\\\', mountpoint='H:\\\\', fstype='NTFS', opts='rw,fixed', maxfile=255, maxpath=260),\n",
       " sdiskpart(device='I:\\\\', mountpoint='I:\\\\', fstype='NTFS', opts='rw,fixed', maxfile=255, maxpath=260),\n",
       " sdiskpart(device='K:\\\\', mountpoint='K:\\\\', fstype='', opts='cdrom', maxfile=255, maxpath=260)]"
      ]
     },
     "execution_count": 12,
     "metadata": {},
     "output_type": "execute_result"
    }
   ],
   "source": [
    "psutil.disk_partitions()"
   ]
  },
  {
   "cell_type": "markdown",
   "metadata": {},
   "source": [
    "# 网络"
   ]
  },
  {
   "cell_type": "code",
   "execution_count": 16,
   "metadata": {},
   "outputs": [
    {
     "data": {
      "text/plain": [
       "{'Radmin VPN': snetio(bytes_sent=1317464548, bytes_recv=2601420, packets_sent=8295407, packets_recv=43357, errin=0, errout=0, dropin=0, dropout=0),\n",
       " 'vEthernet (以太网 2)': snetio(bytes_sent=34249755, bytes_recv=0, packets_sent=210252, packets_recv=0, errin=0, errout=0, dropin=0, dropout=0),\n",
       " '以太网 2': snetio(bytes_sent=22123788451, bytes_recv=55334214009, packets_sent=50887609, packets_recv=70493274, errin=0, errout=34, dropin=2364, dropout=0),\n",
       " 'VMware Network Adapter VMnet1': snetio(bytes_sent=326580, bytes_recv=3273, packets_sent=326580, packets_recv=3273, errin=0, errout=0, dropin=0, dropout=0),\n",
       " 'VMware Network Adapter VMnet8': snetio(bytes_sent=323798, bytes_recv=0, packets_sent=323798, packets_recv=0, errin=0, errout=0, dropin=0, dropout=0),\n",
       " 'VMware Network Adapter VMnet2': snetio(bytes_sent=323387, bytes_recv=0, packets_sent=323387, packets_recv=0, errin=0, errout=0, dropin=0, dropout=0),\n",
       " 'ZeroTier One [b6079f73c66e2976]': snetio(bytes_sent=352983489, bytes_recv=25099986, packets_sent=2861443, packets_recv=77014, errin=0, errout=0, dropin=0, dropout=0),\n",
       " 'Loopback Pseudo-Interface 1': snetio(bytes_sent=0, bytes_recv=0, packets_sent=0, packets_recv=0, errin=0, errout=0, dropin=0, dropout=0),\n",
       " 'Teredo Tunneling Pseudo-Interface': snetio(bytes_sent=600993, bytes_recv=23712, packets_sent=5094, packets_recv=156, errin=0, errout=1, dropin=0, dropout=0),\n",
       " 'vEthernet (Radmin VPN)': snetio(bytes_sent=42412792, bytes_recv=0, packets_sent=259794, packets_recv=0, errin=0, errout=0, dropin=0, dropout=0),\n",
       " 'vEthernet (VMware Network )': snetio(bytes_sent=42359661, bytes_recv=0, packets_sent=259689, packets_recv=0, errin=0, errout=0, dropin=0, dropout=0),\n",
       " 'vEthernet (VMware Network ) 2': snetio(bytes_sent=42334149, bytes_recv=0, packets_sent=259622, packets_recv=0, errin=0, errout=0, dropin=0, dropout=0),\n",
       " 'vEthernet (VMware Network ) 3': snetio(bytes_sent=42313180, bytes_recv=0, packets_sent=259586, packets_recv=0, errin=0, errout=0, dropin=0, dropout=0),\n",
       " 'vEthernet (ZeroTier One [b)': snetio(bytes_sent=42672345, bytes_recv=0, packets_sent=270461, packets_recv=0, errin=0, errout=0, dropin=0, dropout=0)}"
      ]
     },
     "execution_count": 16,
     "metadata": {},
     "output_type": "execute_result"
    }
   ],
   "source": [
    "psutil.net_io_counters(pernic=True)"
   ]
  },
  {
   "cell_type": "markdown",
   "metadata": {},
   "source": [
    "# 传感器"
   ]
  },
  {
   "cell_type": "code",
   "execution_count": 20,
   "metadata": {},
   "outputs": [],
   "source": [
    "psutil.sensors_battery()"
   ]
  },
  {
   "cell_type": "markdown",
   "metadata": {},
   "source": [
    "# 其他系统信息"
   ]
  },
  {
   "cell_type": "code",
   "execution_count": 22,
   "metadata": {},
   "outputs": [
    {
     "data": {
      "text/plain": [
       "[0,\n",
       " 4,\n",
       " 64,\n",
       " 132,\n",
       " 476,\n",
       " 692,\n",
       " 740,\n",
       " 784,\n",
       " 868,\n",
       " 880,\n",
       " 948,\n",
       " 972,\n",
       " 992,\n",
       " 1000,\n",
       " 1032,\n",
       " 1040,\n",
       " 1072,\n",
       " 1116,\n",
       " 1124,\n",
       " 1180,\n",
       " 1228,\n",
       " 1388,\n",
       " 1408,\n",
       " 1432,\n",
       " 1436,\n",
       " 1512,\n",
       " 1520,\n",
       " 1612,\n",
       " 1668,\n",
       " 1676,\n",
       " 1740,\n",
       " 1800,\n",
       " 1816,\n",
       " 1860,\n",
       " 2004,\n",
       " 2076,\n",
       " 2184,\n",
       " 2212,\n",
       " 2244,\n",
       " 2380,\n",
       " 2436,\n",
       " 2444,\n",
       " 2480,\n",
       " 2508,\n",
       " 2564,\n",
       " 2572,\n",
       " 2592,\n",
       " 2880,\n",
       " 2908,\n",
       " 3184,\n",
       " 3204,\n",
       " 3272,\n",
       " 3296,\n",
       " 3308,\n",
       " 3472,\n",
       " 3532,\n",
       " 3552,\n",
       " 3608,\n",
       " 3784,\n",
       " 3824,\n",
       " 3832,\n",
       " 4024,\n",
       " 4128,\n",
       " 4216,\n",
       " 4300,\n",
       " 4372,\n",
       " 4564,\n",
       " 4632,\n",
       " 4664,\n",
       " 4672,\n",
       " 4752,\n",
       " 4892,\n",
       " 4952,\n",
       " 4988,\n",
       " 4996,\n",
       " 5032,\n",
       " 5260,\n",
       " 5268,\n",
       " 5332,\n",
       " 5348,\n",
       " 5376,\n",
       " 5384,\n",
       " 5404,\n",
       " 5460,\n",
       " 5508,\n",
       " 5536,\n",
       " 5560,\n",
       " 5568,\n",
       " 5584,\n",
       " 5592,\n",
       " 5628,\n",
       " 5636,\n",
       " 5684,\n",
       " 5696,\n",
       " 5704,\n",
       " 5752,\n",
       " 5756,\n",
       " 5768,\n",
       " 5800,\n",
       " 5832,\n",
       " 5840,\n",
       " 5864,\n",
       " 5920,\n",
       " 6008,\n",
       " 6016,\n",
       " 6064,\n",
       " 6076,\n",
       " 6088,\n",
       " 6104,\n",
       " 6112,\n",
       " 6124,\n",
       " 6136,\n",
       " 6156,\n",
       " 6468,\n",
       " 6576,\n",
       " 6656,\n",
       " 7120,\n",
       " 7180,\n",
       " 7212,\n",
       " 7552,\n",
       " 7564,\n",
       " 7624,\n",
       " 7712,\n",
       " 8824,\n",
       " 9012,\n",
       " 9380,\n",
       " 9464,\n",
       " 9636,\n",
       " 9728,\n",
       " 9744,\n",
       " 9760,\n",
       " 9788,\n",
       " 9880,\n",
       " 9968,\n",
       " 10112,\n",
       " 10132,\n",
       " 10300,\n",
       " 10324,\n",
       " 10356,\n",
       " 10768,\n",
       " 10896,\n",
       " 10936,\n",
       " 11300,\n",
       " 11332,\n",
       " 11536,\n",
       " 11556,\n",
       " 11836,\n",
       " 12456,\n",
       " 12496,\n",
       " 12672,\n",
       " 13220,\n",
       " 13372,\n",
       " 13452,\n",
       " 13472,\n",
       " 13508,\n",
       " 13556,\n",
       " 13660,\n",
       " 13796,\n",
       " 13884,\n",
       " 13892,\n",
       " 13956,\n",
       " 14020,\n",
       " 14028,\n",
       " 14272,\n",
       " 14592,\n",
       " 14664,\n",
       " 14844,\n",
       " 15020,\n",
       " 15252,\n",
       " 15680,\n",
       " 16352,\n",
       " 16468,\n",
       " 16736,\n",
       " 17056,\n",
       " 17088,\n",
       " 17356,\n",
       " 18528,\n",
       " 18532,\n",
       " 18632,\n",
       " 18976,\n",
       " 19052,\n",
       " 19384,\n",
       " 19676,\n",
       " 19932,\n",
       " 19992,\n",
       " 19996,\n",
       " 20392,\n",
       " 20744,\n",
       " 21100,\n",
       " 22524,\n",
       " 23460,\n",
       " 25492,\n",
       " 26600,\n",
       " 28820,\n",
       " 31068,\n",
       " 32680,\n",
       " 36752,\n",
       " 41276,\n",
       " 41364,\n",
       " 41472,\n",
       " 44204,\n",
       " 46676,\n",
       " 47592,\n",
       " 47660,\n",
       " 49612,\n",
       " 53736,\n",
       " 55584,\n",
       " 55640,\n",
       " 56568,\n",
       " 57044,\n",
       " 57076,\n",
       " 57252,\n",
       " 57364,\n",
       " 58816,\n",
       " 59404,\n",
       " 61396,\n",
       " 61784,\n",
       " 62528,\n",
       " 62720,\n",
       " 62736,\n",
       " 63012,\n",
       " 63256,\n",
       " 64740,\n",
       " 65036,\n",
       " 66764,\n",
       " 67592,\n",
       " 68020,\n",
       " 70064,\n",
       " 71008,\n",
       " 71424,\n",
       " 71460,\n",
       " 72228,\n",
       " 73688,\n",
       " 75400,\n",
       " 78248,\n",
       " 78316,\n",
       " 80792,\n",
       " 81612,\n",
       " 82152,\n",
       " 82240,\n",
       " 82756,\n",
       " 82988,\n",
       " 83288,\n",
       " 83352,\n",
       " 83380,\n",
       " 83500,\n",
       " 83512,\n",
       " 83536,\n",
       " 83912,\n",
       " 84276,\n",
       " 85556,\n",
       " 86208,\n",
       " 86236,\n",
       " 87356,\n",
       " 88612,\n",
       " 89572,\n",
       " 89600,\n",
       " 90844,\n",
       " 91584,\n",
       " 93072,\n",
       " 93496,\n",
       " 93980,\n",
       " 95416,\n",
       " 96948,\n",
       " 97636,\n",
       " 99204,\n",
       " 99368,\n",
       " 99436,\n",
       " 101640,\n",
       " 102564,\n",
       " 102968,\n",
       " 103412,\n",
       " 104716,\n",
       " 105056,\n",
       " 105100,\n",
       " 105856,\n",
       " 106276,\n",
       " 106848,\n",
       " 108036,\n",
       " 108140,\n",
       " 108700,\n",
       " 109432,\n",
       " 110008,\n",
       " 111608,\n",
       " 111856,\n",
       " 113696,\n",
       " 114708,\n",
       " 114848,\n",
       " 115120,\n",
       " 115952,\n",
       " 118216,\n",
       " 118532,\n",
       " 119800,\n",
       " 120152,\n",
       " 120236,\n",
       " 120368,\n",
       " 120448,\n",
       " 120888,\n",
       " 121392,\n",
       " 122140,\n",
       " 126032,\n",
       " 127168,\n",
       " 127372,\n",
       " 127772]"
      ]
     },
     "execution_count": 22,
     "metadata": {},
     "output_type": "execute_result"
    }
   ],
   "source": [
    "psutil.pids()\n"
   ]
  },
  {
   "cell_type": "code",
   "execution_count": 26,
   "metadata": {},
   "outputs": [
    {
     "name": "stdout",
     "output_type": "stream",
     "text": [
      "psutil.Process(pid=122140, name='msedge.exe', status='running', started='09:59:11')\n",
      "msedge.exe\n",
      "C:\\Program Files (x86)\\Microsoft\\Edge\\Application\\msedge.exe\n",
      "C:\\Program Files (x86)\\Microsoft\\Edge\\Application\\107.0.1418.56\n",
      "['C:\\\\Program Files (x86)\\\\Microsoft\\\\Edge\\\\Application\\\\msedge.exe', '--type=renderer', '--display-capture-permissions-policy-allowed', '--js-flags=--ms-user-locale=', '--lang=zh-CN', '--device-scale-factor=1', '--num-raster-threads=3', '--enable-main-frame-before-activation', '--renderer-client-id=2007', '--time-ticks-at-unix-epoch=-1668733977955114', '--launch-time-ticks=1471595894316', '--mojo-platform-channel-handle=33340', '--field-trial-handle=2344,i,13484391883392393173,12141274647361777022,131072', '/prefetch:1']\n"
     ]
    }
   ],
   "source": [
    "p = psutil.Process(122140)\n",
    "print(p)\n",
    "print(p.name())\n",
    "print(p.exe())\n",
    "print(p.cwd())\n",
    "print(p.cmdline())"
   ]
  },
  {
   "cell_type": "markdown",
   "metadata": {},
   "source": [
    "# windows服务"
   ]
  },
  {
   "cell_type": "code",
   "execution_count": 27,
   "metadata": {},
   "outputs": [
    {
     "data": {
      "text/plain": [
       "[<WindowsService(name='AJRouter', display_name='AllJoyn Router Service') at 2355832796112>,\n",
       " <WindowsService(name='ALG', display_name='Application Layer Gateway Service') at 2355832797024>,\n",
       " <WindowsService(name='AntiCheatExpert Service', display_name='AntiCheatExpert Service') at 2355832796976>,\n",
       " <WindowsService(name='AppIDSvc', display_name='Application Identity') at 2355832798992>,\n",
       " <WindowsService(name='Appinfo', display_name='Application Information') at 2355832798848>,\n",
       " <WindowsService(name='AppMgmt', display_name='Application Management') at 2355832797072>,\n",
       " <WindowsService(name='AppReadiness', display_name='App Readiness') at 2355832797408>,\n",
       " <WindowsService(name='AppVClient', display_name='Microsoft App-V Client') at 2355832796832>,\n",
       " <WindowsService(name='AppXSvc', display_name='AppX Deployment Service (AppXSVC)') at 2355832797648>,\n",
       " <WindowsService(name='ArcGIS License Manager', display_name='ArcGIS License Manager') at 2355832798944>,\n",
       " <WindowsService(name='AssignedAccessManagerSvc', display_name='AssignedAccessManager 服务') at 2355832796928>,\n",
       " <WindowsService(name='AtherosSvc', display_name='AtherosSvc') at 2355832797504>,\n",
       " <WindowsService(name='AudioEndpointBuilder', display_name='Windows Audio Endpoint Builder') at 2355832798800>,\n",
       " <WindowsService(name='Audiosrv', display_name='Windows Audio') at 2355832798224>,\n",
       " <WindowsService(name='autotimesvc', display_name='手机网络时间') at 2355832797696>,\n",
       " <WindowsService(name='AxInstSV', display_name='ActiveX Installer (AxInstSV)') at 2355830455216>,\n",
       " <WindowsService(name='BaiduNetdiskUtility', display_name='BaiduNetdiskUtility') at 2355833286768>,\n",
       " <WindowsService(name='BDESVC', display_name='BitLocker Drive Encryption Service') at 2355833286864>,\n",
       " <WindowsService(name='BFE', display_name='Base Filtering Engine') at 2355833286960>,\n",
       " <WindowsService(name='BITS', display_name='Background Intelligent Transfer Service') at 2355833287056>,\n",
       " <WindowsService(name='BrokerInfrastructure', display_name='Background Tasks Infrastructure Service') at 2355833287152>,\n",
       " <WindowsService(name='BTAGService', display_name='蓝牙音频网关服务') at 2355833287248>,\n",
       " <WindowsService(name='BthAvctpSvc', display_name='AVCTP 服务') at 2355833287344>,\n",
       " <WindowsService(name='bthserv', display_name='蓝牙支持服务') at 2355833287440>,\n",
       " <WindowsService(name='CAJ Service Host', display_name='CAJ Service Host') at 2355833287536>,\n",
       " <WindowsService(name='camsvc', display_name='功能访问管理器服务') at 2355833287632>,\n",
       " <WindowsService(name='CDPSvc', display_name='连接设备平台服务') at 2355833287728>,\n",
       " <WindowsService(name='CertPropSvc', display_name='Certificate Propagation') at 2355833287824>,\n",
       " <WindowsService(name='ClickToRunSvc', display_name='Microsoft Office 即点即用服务') at 2355833287920>,\n",
       " <WindowsService(name='ClipSVC', display_name='Client License Service (ClipSVC)') at 2355833288016>,\n",
       " <WindowsService(name='cloudidsvc', display_name='Microsoft 云标识服务') at 2355833288112>,\n",
       " <WindowsService(name='CmService', display_name='容器管理器服务') at 2355833288208>,\n",
       " <WindowsService(name='COMSysApp', display_name='COM+ System Application') at 2355833288304>,\n",
       " <WindowsService(name='CoreMessagingRegistrar', display_name='CoreMessaging') at 2355833288400>,\n",
       " <WindowsService(name='cphs', display_name='Intel(R) Content Protection HECI Service') at 2355833288496>,\n",
       " <WindowsService(name='cplspcon', display_name='Intel(R) Content Protection HDCP Service') at 2355833288592>,\n",
       " <WindowsService(name='CryptSvc', display_name='Cryptographic Services') at 2355833288688>,\n",
       " <WindowsService(name='CscService', display_name='Offline Files') at 2355833288784>,\n",
       " <WindowsService(name='DcomLaunch', display_name='DCOM Server Process Launcher') at 2355833288880>,\n",
       " <WindowsService(name='dcsvc', display_name='dcsvc') at 2355833288976>,\n",
       " <WindowsService(name='debugregsvc', display_name='debugregsvc') at 2355833289072>,\n",
       " <WindowsService(name='defragsvc', display_name='Optimize drives') at 2355833289168>,\n",
       " <WindowsService(name='DeveloperToolsService', display_name='开发人员工具服务') at 2355833289264>,\n",
       " <WindowsService(name='DeviceAssociationService', display_name='Device Association Service') at 2355833289360>,\n",
       " <WindowsService(name='DeviceInstall', display_name='Device Install Service') at 2355833289456>,\n",
       " <WindowsService(name='DevQueryBroker', display_name='DevQuery Background Discovery Broker') at 2355833289552>,\n",
       " <WindowsService(name='Dhcp', display_name='DHCP Client') at 2355833289648>,\n",
       " <WindowsService(name='diagnosticshub.standardcollector.service', display_name='Microsoft (R) 诊断中心标准收集器服务') at 2355833289744>,\n",
       " <WindowsService(name='diagsvc', display_name='Diagnostic Execution Service') at 2355833289840>,\n",
       " <WindowsService(name='DiagTrack', display_name='Connected User Experiences and Telemetry') at 2355833289936>,\n",
       " <WindowsService(name='DialogBlockingService', display_name='DialogBlockingService') at 2355833290032>,\n",
       " <WindowsService(name='DispBrokerDesktopSvc', display_name='显示策略服务') at 2355833290128>,\n",
       " <WindowsService(name='DisplayEnhancementService', display_name='显示增强服务') at 2355833290224>,\n",
       " <WindowsService(name='DmEnrollmentSvc', display_name='设备管理注册服务') at 2355833290320>,\n",
       " <WindowsService(name='dmwappushservice', display_name='设备管理无线应用程序协议 (WAP) 推送消息路由服务') at 2355833290416>,\n",
       " <WindowsService(name='Dnscache', display_name='DNS Client') at 2355833290512>,\n",
       " <WindowsService(name='Dolby DAX2 API Service', display_name='Dolby DAX2 API Service') at 2355833290608>,\n",
       " <WindowsService(name='DoSvc', display_name='Delivery Optimization') at 2355833290704>,\n",
       " <WindowsService(name='dot3svc', display_name='Wired AutoConfig') at 2355833290864>,\n",
       " <WindowsService(name='DPS', display_name='Diagnostic Policy Service') at 2355806241648>,\n",
       " <WindowsService(name='DsmSvc', display_name='Device Setup Manager') at 2355830454544>,\n",
       " <WindowsService(name='DsSvc', display_name='Data Sharing Service') at 2355832798752>,\n",
       " <WindowsService(name='DusmSvc', display_name='数据使用量') at 2355832799184>,\n",
       " <WindowsService(name='Eaphost', display_name='Extensible Authentication Protocol') at 2355832796064>,\n",
       " <WindowsService(name='edgeupdate', display_name=' Microsoft Edge 更新 服务 (edgeupdate)') at 2355832798368>,\n",
       " <WindowsService(name='edgeupdatem', display_name=' Microsoft Edge 更新 服务 (edgeupdatem)') at 2355832796784>,\n",
       " <WindowsService(name='EFS', display_name='Encrypting File System (EFS)') at 2355832796400>,\n",
       " <WindowsService(name='embeddedmode', display_name='嵌入模式') at 2355832796208>,\n",
       " <WindowsService(name='EntAppSvc', display_name='Enterprise App Management Service') at 2355832795536>,\n",
       " <WindowsService(name='EventLog', display_name='Windows Event Log') at 2355832797456>,\n",
       " <WindowsService(name='EventSystem', display_name='COM+ Event System') at 2355832796256>,\n",
       " <WindowsService(name='Fax', display_name='Fax') at 2355832796352>,\n",
       " <WindowsService(name='fdPHost', display_name='Function Discovery Provider Host') at 2355832795824>,\n",
       " <WindowsService(name='FDResPub', display_name='Function Discovery Resource Publication') at 2355832796160>,\n",
       " <WindowsService(name='fhsvc', display_name='File History Service') at 2355832795776>,\n",
       " <WindowsService(name='FlashCenterSa', display_name='FlashCenterSa') at 2355832795584>,\n",
       " <WindowsService(name='FlexNet Licensing Service', display_name='FlexNet Licensing Service') at 2355832795728>,\n",
       " <WindowsService(name='FontCache', display_name='Windows Font Cache Service') at 2355832796544>,\n",
       " <WindowsService(name='FontCache3.0.0.0', display_name='Windows Presentation Foundation Font Cache 3.0.0.0') at 2355832795392>,\n",
       " <WindowsService(name='FrameServer', display_name='Windows Camera Frame Server') at 2355809494976>,\n",
       " <WindowsService(name='FvSvc', display_name='NVIDIA FrameView SDK service') at 2355831151008>,\n",
       " <WindowsService(name='gcs', display_name='Hyper-V 来宾计算服务') at 2355811817360>,\n",
       " <WindowsService(name='GoogleChromeElevationService', display_name='Google Chrome Elevation Service (GoogleChromeElevationService)') at 2355832108464>,\n",
       " <WindowsService(name='gpsvc', display_name='Group Policy Client') at 2355832110144>,\n",
       " <WindowsService(name='GraphicsPerfSvc', display_name='GraphicsPerfSvc') at 2355832107552>,\n",
       " <WindowsService(name='gupdate', display_name='Google 更新服务 (gupdate)') at 2355832109712>,\n",
       " <WindowsService(name='gupdatem', display_name='Google 更新服务 (gupdatem)') at 2355832107168>,\n",
       " <WindowsService(name='HEINOTEUPDATE', display_name='hnUpdate') at 2355832108320>,\n",
       " <WindowsService(name='hidserv', display_name='Human Interface Device Service') at 2355832108224>,\n",
       " <WindowsService(name='hns', display_name='主机网络服务') at 2355832107792>,\n",
       " <WindowsService(name='HvHost', display_name='HV 主机服务') at 2355832108608>,\n",
       " <WindowsService(name='hvsics', display_name='应用程序防护容器服务') at 2355832107600>,\n",
       " <WindowsService(name='iaStorAfsService', display_name='Intel(R) Optane(TM) Memory Service') at 2355832111056>,\n",
       " <WindowsService(name='icssvc', display_name='Windows 移动热点服务') at 2355832110336>,\n",
       " <WindowsService(name='igfxCUIService2.0.0.0', display_name='Intel(R) HD Graphics Control Panel Service') at 2355832108992>,\n",
       " <WindowsService(name='IKEEXT', display_name='IKE and AuthIP IPsec Keying Modules') at 2355832107216>,\n",
       " <WindowsService(name='ImControllerService', display_name='System Interface Foundation Service') at 2355832108560>,\n",
       " <WindowsService(name='InstallService', display_name='Microsoft Store 安装服务') at 2355832110576>,\n",
       " <WindowsService(name='Intel(R) Capability Licensing Service TCP IP Interface', display_name='Intel(R) Capability Licensing Service TCP IP Interface') at 2355832107456>,\n",
       " <WindowsService(name='Intel(R) TPM Provisioning Service', display_name='Intel(R) TPM Provisioning Service') at 2355832108512>,\n",
       " <WindowsService(name='iphlpsvc', display_name='IP Helper') at 2355832107888>,\n",
       " <WindowsService(name='IpxlatCfgSvc', display_name='IP 转换配置服务') at 2355832110528>,\n",
       " <WindowsService(name='jhi_service', display_name='Intel(R) Dynamic Application Loader Host Interface Service') at 2355832110816>,\n",
       " <WindowsService(name='KeyIso', display_name='CNG Key Isolation') at 2355832108704>,\n",
       " <WindowsService(name='KtmRm', display_name='KtmRm for Distributed Transaction Coordinator') at 2355832110624>,\n",
       " <WindowsService(name='LanmanServer', display_name='Server') at 2355832108416>,\n",
       " <WindowsService(name='LanmanWorkstation', display_name='Workstation') at 2355832109472>,\n",
       " <WindowsService(name='LenovoHotkeyService', display_name='LenovoHotkeyService') at 2355832110768>,\n",
       " <WindowsService(name='lfsvc', display_name='Geolocation Service') at 2355832110720>,\n",
       " <WindowsService(name='LicenseManager', display_name='Windows 许可证管理器服务') at 2355832108800>,\n",
       " <WindowsService(name='LISFService', display_name='Lenovo Internet Software Framework Service') at 2355832024656>,\n",
       " <WindowsService(name='lltdsvc', display_name='Link-Layer Topology Discovery Mapper') at 2355832025040>,\n",
       " <WindowsService(name='lmhosts', display_name='TCP/IP NetBIOS Helper') at 2355832024608>,\n",
       " <WindowsService(name='LSM', display_name='Local Session Manager') at 2355832024416>,\n",
       " <WindowsService(name='LxpSvc', display_name='语言体验服务') at 2355832024560>,\n",
       " <WindowsService(name='LxssManager', display_name='LxssManager') at 2355832023072>,\n",
       " <WindowsService(name='MapsBroker', display_name='Downloaded Maps Manager') at 2355832024752>,\n",
       " <WindowsService(name='McpManagementService', display_name='McpManagementService') at 2355832024848>,\n",
       " <WindowsService(name='MicrosoftEdgeElevationService', display_name='Microsoft Edge Elevation Service (MicrosoftEdgeElevationService)') at 2355832023744>,\n",
       " <WindowsService(name='MixedRealityOpenXRSvc', display_name='Windows Mixed Reality OpenXR Service') at 2355832024992>,\n",
       " <WindowsService(name='mpssvc', display_name='Windows Defender Firewall') at 2355832024800>,\n",
       " <WindowsService(name='MSDTC', display_name='Distributed Transaction Coordinator') at 2355832023792>,\n",
       " <WindowsService(name='MSiSCSI', display_name='Microsoft iSCSI Initiator Service') at 2355833290960>,\n",
       " <WindowsService(name='msiserver', display_name='Windows Installer') at 2355833291056>,\n",
       " <WindowsService(name='MsKeyboardFilter', display_name='Microsoft 键盘筛选器') at 2355833291152>,\n",
       " <WindowsService(name='MySQL', display_name='MySQL') at 2355833291248>,\n",
       " <WindowsService(name='NaturalAuthentication', display_name='自然身份验证') at 2355833291344>,\n",
       " <WindowsService(name='NcaSvc', display_name='Network Connectivity Assistant') at 2355833291440>,\n",
       " <WindowsService(name='NcbService', display_name='Network Connection Broker') at 2355833291536>,\n",
       " <WindowsService(name='NcdAutoSetup', display_name='Network Connected Devices Auto-Setup') at 2355833291632>,\n",
       " <WindowsService(name='Net Driver HPZ12', display_name='Net Driver HPZ12') at 2355833291728>,\n",
       " <WindowsService(name='Netlogon', display_name='Netlogon') at 2355833291824>,\n",
       " <WindowsService(name='Netman', display_name='Network Connections') at 2355833291920>,\n",
       " <WindowsService(name='netprofm', display_name='Network List Service') at 2355833292016>,\n",
       " <WindowsService(name='NetSetupSvc', display_name='Network Setup Service') at 2355833292112>,\n",
       " <WindowsService(name='NetTcpPortSharing', display_name='Net.Tcp Port Sharing Service') at 2355833292208>,\n",
       " <WindowsService(name='NgcCtnrSvc', display_name='Microsoft Passport Container') at 2355833292304>,\n",
       " <WindowsService(name='NgcSvc', display_name='Microsoft Passport') at 2355833292400>,\n",
       " <WindowsService(name='NlaSvc', display_name='Network Location Awareness') at 2355833292496>,\n",
       " <WindowsService(name='nsi', display_name='Network Store Interface Service') at 2355833292592>,\n",
       " <WindowsService(name='nvagent', display_name='网络虚拟服务') at 2355833292688>,\n",
       " <WindowsService(name='NvContainerLocalSystem', display_name='NVIDIA LocalSystem Container') at 2355833292784>,\n",
       " <WindowsService(name='NVDisplay.ContainerLocalSystem', display_name='NVIDIA Display Container LS') at 2355833292880>,\n",
       " <WindowsService(name='ose', display_name='Office  Source Engine') at 2355833292976>,\n",
       " <WindowsService(name='p2pimsvc', display_name='Peer Networking Identity Manager') at 2355833293072>,\n",
       " <WindowsService(name='p2psvc', display_name='Peer Networking Grouping') at 2355833293168>,\n",
       " <WindowsService(name='PcaSvc', display_name='Program Compatibility Assistant Service') at 2355833293264>,\n",
       " <WindowsService(name='PeerDistSvc', display_name='BranchCache') at 2355833293360>,\n",
       " <WindowsService(name='perceptionsimulation', display_name='Windows 感知模拟服务') at 2355833293456>,\n",
       " <WindowsService(name='PerfHost', display_name='Performance Counter DLL Host') at 2355833293552>,\n",
       " <WindowsService(name='PhoneSvc', display_name='Phone Service') at 2355833293648>,\n",
       " <WindowsService(name='pla', display_name='Performance Logs & Alerts') at 2355833293744>,\n",
       " <WindowsService(name='PlugPlay', display_name='Plug and Play') at 2355833293840>,\n",
       " <WindowsService(name='Pml Driver HPZ12', display_name='Pml Driver HPZ12') at 2355833293936>,\n",
       " <WindowsService(name='PNRPAutoReg', display_name='PNRP Machine Name Publication Service') at 2355833294032>,\n",
       " <WindowsService(name='PNRPsvc', display_name='Peer Name Resolution Protocol') at 2355833294128>,\n",
       " <WindowsService(name='PolicyAgent', display_name='IPsec Policy Agent') at 2355833294224>,\n",
       " <WindowsService(name='Power', display_name='Power') at 2355833294320>,\n",
       " <WindowsService(name='PrintNotify', display_name='Printer Extensions and Notifications') at 2355833294416>,\n",
       " <WindowsService(name='ProfSvc', display_name='User Profile Service') at 2355833294512>,\n",
       " <WindowsService(name='PushToInstall', display_name='Windows PushToInstall 服务') at 2355833294608>,\n",
       " <WindowsService(name='QiyiService', display_name='IQIYI Video Platform Service') at 2355833294704>,\n",
       " <WindowsService(name='QPCore', display_name='QPCore Service') at 2355833294800>,\n",
       " <WindowsService(name='QQLiveService', display_name='QQLiveService') at 2355833024624>,\n",
       " <WindowsService(name='QWAVE', display_name='Quality Windows Audio Video Experience') at 2355833024720>,\n",
       " <WindowsService(name='RasAuto', display_name='Remote Access Auto Connection Manager') at 2355833024816>,\n",
       " <WindowsService(name='RasMan', display_name='Remote Access Connection Manager') at 2355833024912>,\n",
       " <WindowsService(name='RemoteAccess', display_name='Routing and Remote Access') at 2355833025008>,\n",
       " <WindowsService(name='RemoteRegistry', display_name='Remote Registry') at 2355833025104>,\n",
       " <WindowsService(name='RetailDemo', display_name='零售演示服务') at 2355833025200>,\n",
       " <WindowsService(name='RmSvc', display_name='无线电管理服务') at 2355833025296>,\n",
       " <WindowsService(name='RpcEptMapper', display_name='RPC Endpoint Mapper') at 2355833025392>,\n",
       " <WindowsService(name='RpcLocator', display_name='Remote Procedure Call (RPC) Locator') at 2355833025488>,\n",
       " <WindowsService(name='RpcSs', display_name='Remote Procedure Call (RPC)') at 2355833025584>,\n",
       " <WindowsService(name='RvControlSvc', display_name='Radmin VPN Control Service') at 2355833025680>,\n",
       " <WindowsService(name='SamSs', display_name='Security Accounts Manager') at 2355833025776>,\n",
       " <WindowsService(name='SCardSvr', display_name='Smart Card') at 2355833025872>,\n",
       " <WindowsService(name='ScDeviceEnum', display_name='Smart Card Device Enumeration Service') at 2355833025968>,\n",
       " <WindowsService(name='Schedule', display_name='Task Scheduler') at 2355833026064>,\n",
       " <WindowsService(name='SCPolicySvc', display_name='Smart Card Removal Policy') at 2355833026160>,\n",
       " <WindowsService(name='SDRSVC', display_name='Windows 备份') at 2355833026256>,\n",
       " <WindowsService(name='seclogon', display_name='Secondary Logon') at 2355833026352>,\n",
       " <WindowsService(name='SecurityHealthService', display_name='Windows 安全中心服务') at 2355833026448>,\n",
       " <WindowsService(name='SEMgrSvc', display_name='付款和 NFC/SE 管理器') at 2355833026544>,\n",
       " <WindowsService(name='SENS', display_name='System Event Notification Service') at 2355833026640>,\n",
       " <WindowsService(name='Sense', display_name='Windows Defender Advanced Threat Protection Service') at 2355833026736>,\n",
       " <WindowsService(name='SensorDataService', display_name='Sensor Data Service') at 2355833026832>,\n",
       " <WindowsService(name='SensorService', display_name='Sensor Service') at 2355833026928>,\n",
       " <WindowsService(name='SensrSvc', display_name='Sensor Monitoring Service') at 2355833027024>,\n",
       " <WindowsService(name='SessionEnv', display_name='Remote Desktop Configuration') at 2355833027120>,\n",
       " <WindowsService(name='SgrmBroker', display_name='System Guard 运行时监视代理') at 2355833027216>,\n",
       " <WindowsService(name='SharedAccess', display_name='Internet Connection Sharing (ICS)') at 2355833027312>,\n",
       " <WindowsService(name='SharedRealitySvc', display_name='空间数据服务') at 2355833027408>,\n",
       " <WindowsService(name='ShellHWDetection', display_name='Shell Hardware Detection') at 2355833027504>,\n",
       " <WindowsService(name='shpamsvc', display_name='Shared PC Account Manager') at 2355833027600>,\n",
       " <WindowsService(name='smphost', display_name='Microsoft Storage Spaces SMP') at 2355833027696>,\n",
       " <WindowsService(name='SmsRouter', display_name='Microsoft Windows SMS 路由器服务。') at 2355833027792>,\n",
       " <WindowsService(name='SNMPTRAP', display_name='SNMP 陷阱') at 2355833027888>,\n",
       " <WindowsService(name='spectrum', display_name='Windows 感知服务') at 2355833027984>,\n",
       " <WindowsService(name='Spooler', display_name='Print Spooler') at 2355833028080>,\n",
       " <WindowsService(name='sppsvc', display_name='Software Protection') at 2355833028176>,\n",
       " <WindowsService(name='SSDPSRV', display_name='SSDP Discovery') at 2355833028272>,\n",
       " <WindowsService(name='ssh-agent', display_name='OpenSSH Authentication Agent') at 2355833028368>,\n",
       " <WindowsService(name='sshd', display_name='OpenSSH SSH Server') at 2355833028464>,\n",
       " <WindowsService(name='SshdBroker', display_name='SshdBroker') at 2355833028560>,\n",
       " <WindowsService(name='SstpSvc', display_name='Secure Socket Tunneling Protocol Service') at 2355832774768>,\n",
       " <WindowsService(name='StateRepository', display_name='State Repository Service') at 2355832774864>,\n",
       " <WindowsService(name='Steam Client Service', display_name='Steam Client Service') at 2355832774960>,\n",
       " <WindowsService(name='stisvc', display_name='Windows Image Acquisition (WIA)') at 2355832775056>,\n",
       " <WindowsService(name='StorSvc', display_name='Storage Service') at 2355832775152>,\n",
       " <WindowsService(name='SunloginService', display_name='SunloginService') at 2355832775248>,\n",
       " <WindowsService(name='svsvc', display_name='Spot Verifier') at 2355832775344>,\n",
       " <WindowsService(name='swprv', display_name='Microsoft Software Shadow Copy Provider') at 2355832775440>,\n",
       " <WindowsService(name='SysMain', display_name='SysMain') at 2355832775536>,\n",
       " <WindowsService(name='SystemEventsBroker', display_name='System Events Broker') at 2355832775632>,\n",
       " <WindowsService(name='TabletInputService', display_name='Touch Keyboard and Handwriting Panel Service') at 2355832775728>,\n",
       " <WindowsService(name='TapiSrv', display_name='Telephony') at 2355832775824>,\n",
       " <WindowsService(name='TaxOcrUpdateService', display_name='TaxOcrUpdateService') at 2355832775920>,\n",
       " <WindowsService(name='TeamViewer', display_name='TeamViewer') at 2355832776016>,\n",
       " <WindowsService(name='TermService', display_name='Remote Desktop Services') at 2355832776112>,\n",
       " <WindowsService(name='Themes', display_name='Themes') at 2355832776208>,\n",
       " <WindowsService(name='TieringEngineService', display_name='Storage Tiers Management') at 2355832776304>,\n",
       " <WindowsService(name='TimeBrokerSvc', display_name='Time Broker') at 2355832776400>,\n",
       " <WindowsService(name='TokenBroker', display_name='Web 帐户管理器') at 2355832776496>,\n",
       " <WindowsService(name='TrkWks', display_name='Distributed Link Tracking Client') at 2355832776592>,\n",
       " <WindowsService(name='TroubleshootingSvc', display_name='建议疑难解答服务') at 2355832776688>,\n",
       " <WindowsService(name='TrustedInstaller', display_name='Windows Modules Installer') at 2355832776784>,\n",
       " <WindowsService(name='tzautoupdate', display_name='自动时区更新程序') at 2355832776880>,\n",
       " <WindowsService(name='UevAgentService', display_name='User Experience Virtualization Service') at 2355832776976>,\n",
       " <WindowsService(name='uhssvc', display_name='Microsoft Update Health Service') at 2355832777072>,\n",
       " <WindowsService(name='UmRdpService', display_name='Remote Desktop Services UserMode Port Redirector') at 2355832777168>,\n",
       " <WindowsService(name='upnphost', display_name='UPnP Device Host') at 2355832777264>,\n",
       " <WindowsService(name='UserManager', display_name='User Manager') at 2355832777360>,\n",
       " <WindowsService(name='UsoSvc', display_name='更新 Orchestrator 服务') at 2355832777456>,\n",
       " <WindowsService(name='VacSvc', display_name='立体音频组合器服务') at 2355832777552>,\n",
       " <WindowsService(name='VaultSvc', display_name='Credential Manager') at 2355832777648>,\n",
       " <WindowsService(name='vds', display_name='Virtual Disk') at 2355832777744>,\n",
       " <WindowsService(name='VMAuthdService', display_name='VMware Authorization Service') at 2355832777840>,\n",
       " <WindowsService(name='vmcompute', display_name='Hyper-V 主机计算服务') at 2355832777936>,\n",
       " <WindowsService(name='vmicguestinterface', display_name='Hyper-V Guest Service Interface') at 2355832778032>,\n",
       " <WindowsService(name='vmicheartbeat', display_name='Hyper-V Heartbeat Service') at 2355832778128>,\n",
       " <WindowsService(name='vmickvpexchange', display_name='Hyper-V Data Exchange Service') at 2355832778224>,\n",
       " <WindowsService(name='vmicrdv', display_name='Hyper-V 远程桌面虚拟化服务') at 2355832778320>,\n",
       " <WindowsService(name='vmicshutdown', display_name='Hyper-V Guest Shutdown Service') at 2355832778416>,\n",
       " <WindowsService(name='vmictimesync', display_name='Hyper-V Time Synchronization Service') at 2355832778512>,\n",
       " <WindowsService(name='vmicvmsession', display_name='Hyper-V PowerShell Direct Service') at 2355832778608>,\n",
       " <WindowsService(name='vmicvss', display_name='Hyper-V 卷影复制请求程序') at 2355832778704>,\n",
       " <WindowsService(name='VMnetDHCP', display_name='VMware DHCP Service') at 2355832746096>,\n",
       " <WindowsService(name='VMUSBArbService', display_name='VMware USB Arbitration Service') at 2355832746192>,\n",
       " <WindowsService(name='VMware NAT Service', display_name='VMware NAT Service') at 2355832746288>,\n",
       " <WindowsService(name='VMwareHostd', display_name='VMware Workstation Server') at 2355832746384>,\n",
       " <WindowsService(name='VSS', display_name='Volume Shadow Copy') at 2355832746480>,\n",
       " <WindowsService(name='VSStandardCollectorService150', display_name='Visual Studio Standard Collector Service 150') at 2355832746576>,\n",
       " <WindowsService(name='W32Time', display_name='Windows Time') at 2355832746672>,\n",
       " <WindowsService(name='WaaSMedicSvc', display_name='Windows 更新医生服务') at 2355832746768>,\n",
       " <WindowsService(name='WalletService', display_name='WalletService') at 2355832746864>,\n",
       " <WindowsService(name='wampapache64', display_name='wampapache64') at 2355832746960>,\n",
       " <WindowsService(name='wampmariadb64', display_name='wampmariadb64') at 2355832747056>,\n",
       " <WindowsService(name='wampmysqld64', display_name='wampmysqld64') at 2355832747152>,\n",
       " <WindowsService(name='WarpJITSvc', display_name='WarpJITSvc') at 2355832747248>,\n",
       " <WindowsService(name='wbengine', display_name='Block Level Backup Engine Service') at 2355832747344>,\n",
       " <WindowsService(name='WbioSrvc', display_name='Windows Biometric Service') at 2355832747440>,\n",
       " <WindowsService(name='Wcmsvc', display_name='Windows Connection Manager') at 2355832747536>,\n",
       " <WindowsService(name='wcncsvc', display_name='Windows Connect Now - Config Registrar') at 2355832747632>,\n",
       " <WindowsService(name='WdiServiceHost', display_name='Diagnostic Service Host') at 2355832747728>,\n",
       " <WindowsService(name='WdiSystemHost', display_name='Diagnostic System Host') at 2355832747824>,\n",
       " <WindowsService(name='WdNisSvc', display_name='Microsoft Defender Antivirus Network Inspection Service') at 2355832747920>,\n",
       " <WindowsService(name='WebClient', display_name='WebClient') at 2355832748016>,\n",
       " <WindowsService(name='WebManagement', display_name='Web Management') at 2355832748112>,\n",
       " <WindowsService(name='Wecsvc', display_name='Windows Event Collector') at 2355832748208>,\n",
       " <WindowsService(name='WemeetUpdateSvc', display_name='WemeetUpdateSvc') at 2355832748304>,\n",
       " <WindowsService(name='WEPHOSTSVC', display_name='Windows Encryption Provider Host Service') at 2355832748400>,\n",
       " <WindowsService(name='wercplsupport', display_name='Problem Reports Control Panel Support') at 2355832748496>,\n",
       " <WindowsService(name='WerSvc', display_name='Windows Error Reporting Service') at 2355832748592>,\n",
       " <WindowsService(name='WFDSConMgrSvc', display_name='WLAN Direct 服务连接管理器服务') at 2355832748688>,\n",
       " <WindowsService(name='WiaRpc', display_name='Still Image Acquisition Events') at 2355832748784>,\n",
       " <WindowsService(name='WinDefend', display_name='Microsoft Defender Antivirus Service') at 2355832748880>,\n",
       " <WindowsService(name='WinHttpAutoProxySvc', display_name='WinHTTP Web Proxy Auto-Discovery Service') at 2355832748976>,\n",
       " <WindowsService(name='Winmgmt', display_name='Windows Management Instrumentation') at 2355832749072>,\n",
       " <WindowsService(name='WinRM', display_name='Windows Remote Management (WS-Management)') at 2355832749168>,\n",
       " <WindowsService(name='wisvc', display_name='Windows 预览体验成员服务') at 2355832749264>,\n",
       " <WindowsService(name='WlanSvc', display_name='WLAN AutoConfig') at 2355832749360>,\n",
       " <WindowsService(name='wlidsvc', display_name='Microsoft Account Sign-in Assistant') at 2355832749456>,\n",
       " <WindowsService(name='wlpasvc', display_name='本地配置文件助手服务') at 2355832749552>,\n",
       " <WindowsService(name='WManSvc', display_name='Windows 管理服务') at 2355832749648>,\n",
       " <WindowsService(name='wmiApSrv', display_name='WMI Performance Adapter') at 2355832749744>,\n",
       " <WindowsService(name='WMIRegistrationService', display_name='Intel(R) Management Engine WMI Provider Registration') at 2355832749840>,\n",
       " <WindowsService(name='WMPNetworkSvc', display_name='Windows Media Player Network Sharing Service') at 2355832749936>,\n",
       " <WindowsService(name='workfolderssvc', display_name='Work Folders') at 2355832750032>,\n",
       " <WindowsService(name='WpcMonSvc', display_name='家长控制') at 2355832254576>,\n",
       " <WindowsService(name='WPDBusEnum', display_name='Portable Device Enumerator Service') at 2355832254672>,\n",
       " <WindowsService(name='WpnService', display_name='Windows 推送通知系统服务') at 2355832254768>,\n",
       " <WindowsService(name='wscsvc', display_name='Security Center') at 2355832254864>,\n",
       " <WindowsService(name='WSearch', display_name='Windows Search') at 2355832254960>,\n",
       " <WindowsService(name='wuauserv', display_name='Windows Update') at 2355832255056>,\n",
       " <WindowsService(name='WwanSvc', display_name='WWAN AutoConfig') at 2355832255152>,\n",
       " <WindowsService(name='XblAuthManager', display_name='Xbox Live 身份验证管理器') at 2355832255248>,\n",
       " <WindowsService(name='XblGameSave', display_name='Xbox Live 游戏保存') at 2355832255344>,\n",
       " <WindowsService(name='XboxGipSvc', display_name='Xbox Accessory Management Service') at 2355832255440>,\n",
       " <WindowsService(name='XboxNetApiSvc', display_name='Xbox Live 网络服务') at 2355832255536>,\n",
       " <WindowsService(name='xunkanpdfsvc.exe', display_name='xunkanpdfsvc.exe') at 2355832255632>,\n",
       " <WindowsService(name='YMC', display_name='YMC') at 2355832255728>,\n",
       " <WindowsService(name='ZeroTierOneService', display_name='ZeroTier One') at 2355832255824>,\n",
       " <WindowsService(name='AarSvc_414544', display_name='AarSvc_414544') at 2355832255920>,\n",
       " <WindowsService(name='BcastDVRUserService_414544', display_name='BcastDVRUserService_414544') at 2355832256016>,\n",
       " <WindowsService(name='BluetoothUserService_414544', display_name='BluetoothUserService_414544') at 2355832256112>,\n",
       " <WindowsService(name='CaptureService_414544', display_name='CaptureService_414544') at 2355832256208>,\n",
       " <WindowsService(name='cbdhsvc_414544', display_name='cbdhsvc_414544') at 2355832256304>,\n",
       " <WindowsService(name='CDPUserSvc_414544', display_name='CDPUserSvc_414544') at 2355832256400>,\n",
       " <WindowsService(name='ConsentUxUserSvc_414544', display_name='ConsentUxUserSvc_414544') at 2355832256496>,\n",
       " <WindowsService(name='CredentialEnrollmentManagerUserSvc_414544', display_name='CredentialEnrollmentManagerUserSvc_414544') at 2355832256592>,\n",
       " <WindowsService(name='DeviceAssociationBrokerSvc_414544', display_name='DeviceAssociationBrokerSvc_414544') at 2355832256688>,\n",
       " <WindowsService(name='DevicePickerUserSvc_414544', display_name='DevicePickerUserSvc_414544') at 2355832256784>,\n",
       " <WindowsService(name='DevicesFlowUserSvc_414544', display_name='DevicesFlowUserSvc_414544') at 2355832256880>,\n",
       " <WindowsService(name='LxssManagerUser_414544', display_name='LxssManagerUser_414544') at 2355832256976>,\n",
       " <WindowsService(name='MessagingService_414544', display_name='MessagingService_414544') at 2355832257072>,\n",
       " <WindowsService(name='OneSyncSvc_414544', display_name='OneSyncSvc_414544') at 2355832257168>,\n",
       " <WindowsService(name='PimIndexMaintenanceSvc_414544', display_name='PimIndexMaintenanceSvc_414544') at 2355832257264>,\n",
       " <WindowsService(name='PrintWorkflowUserSvc_414544', display_name='PrintWorkflowUserSvc_414544') at 2355832257360>,\n",
       " <WindowsService(name='UdkUserSvc_414544', display_name='UdkUserSvc_414544') at 2355832257456>,\n",
       " <WindowsService(name='UnistoreSvc_414544', display_name='UnistoreSvc_414544') at 2355832257552>,\n",
       " <WindowsService(name='UserDataSvc_414544', display_name='UserDataSvc_414544') at 2355832257648>,\n",
       " <WindowsService(name='WpnUserService_414544', display_name='WpnUserService_414544') at 2355832257744>,\n",
       " <WindowsService(name='Flash Helper Service', display_name='Flash Helper Service') at 2355832257840>]"
      ]
     },
     "execution_count": 27,
     "metadata": {},
     "output_type": "execute_result"
    }
   ],
   "source": [
    "list(psutil.win_service_iter())"
   ]
  },
  {
   "cell_type": "code",
   "execution_count": 28,
   "metadata": {},
   "outputs": [
    {
     "data": {
      "text/plain": [
       "{'display_name': 'Application Layer Gateway Service',\n",
       " 'binpath': 'C:\\\\WINDOWS\\\\System32\\\\alg.exe',\n",
       " 'username': 'NT AUTHORITY\\\\LocalService',\n",
       " 'start_type': 'manual',\n",
       " 'status': 'stopped',\n",
       " 'pid': None,\n",
       " 'name': 'alg',\n",
       " 'description': '为 Internet 连接共享提供第三方协议插件的支持'}"
      ]
     },
     "execution_count": 28,
     "metadata": {},
     "output_type": "execute_result"
    }
   ],
   "source": [
    "s = psutil.win_service_get('alg')\n",
    "s.as_dict()"
   ]
  }
 ],
 "metadata": {
  "kernelspec": {
   "display_name": "Python 3.8.5 ('psutil_env': venv)",
   "language": "python",
   "name": "python3"
  },
  "language_info": {
   "codemirror_mode": {
    "name": "ipython",
    "version": 3
   },
   "file_extension": ".py",
   "mimetype": "text/x-python",
   "name": "python",
   "nbconvert_exporter": "python",
   "pygments_lexer": "ipython3",
   "version": "3.8.5"
  },
  "orig_nbformat": 4,
  "vscode": {
   "interpreter": {
    "hash": "ed81d2341c8e06a90e37ea7e2f2f939e0bd655888c8aec21224c50879d598533"
   }
  }
 },
 "nbformat": 4,
 "nbformat_minor": 2
}
