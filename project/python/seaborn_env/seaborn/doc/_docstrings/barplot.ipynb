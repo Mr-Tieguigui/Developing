{
 "cells": [
  {
   "cell_type": "code",
   "execution_count": null,
   "id": "6a6d582b-08c2-4fed-be56-afa1b986943a",
   "metadata": {
    "tags": [
     "hide"
    ]
   },
   "outputs": [],
   "source": [
    "import seaborn as sns\n",
    "sns.set_theme(style=\"whitegrid\")"
   ]
  },
  {
   "cell_type": "markdown",
   "id": "a7ef20b6-3bd8-4992-a270-4c3ecc86a0fa",
   "metadata": {},
   "source": [
    "Group by a categorical varaible and plot aggregated values, with confidence intervals:"
   ]
  },
  {
   "cell_type": "code",
   "execution_count": null,
   "id": "0f5c3ece-6295-4933-8a87-e80cd604c089",
   "metadata": {},
   "outputs": [],
   "source": [
    "df = sns.load_dataset(\"penguins\")\n",
    "sns.barplot(data=df, x=\"island\", y=\"body_mass_g\")"
   ]
  },
  {
   "cell_type": "markdown",
   "id": "38f7c39e-485d-4b50-ac21-f1b402f26aa4",
   "metadata": {},
   "source": [
    "Add a second layer of grouping:"
   ]
  },
  {
   "cell_type": "code",
   "execution_count": null,
   "id": "ac1a28d1-b3bd-4158-86d0-3defc12f8566",
   "metadata": {},
   "outputs": [],
   "source": [
    "sns.barplot(data=df, x=\"island\", y=\"body_mass_g\", hue=\"sex\")"
   ]
  },
  {
   "cell_type": "markdown",
   "id": "7f8fa070-a8f4-41fb-be74-c489acbdbcbe",
   "metadata": {},
   "source": [
    "Use the error bars to show the standard deviation rather than a confidence interval:"
   ]
  },
  {
   "cell_type": "code",
   "execution_count": null,
   "id": "10445b78-a74a-4f14-a28b-a9164e592ae4",
   "metadata": {},
   "outputs": [],
   "source": [
    "sns.barplot(data=df, x=\"island\", y=\"body_mass_g\", errorbar=\"sd\")"
   ]
  },
  {
   "cell_type": "markdown",
   "id": "7f579f70-39a2-4d0c-baa2-9adae11ce2ce",
   "metadata": {},
   "source": [
    "Customize the appearance of the plot:"
   ]
  },
  {
   "cell_type": "code",
   "execution_count": null,
   "id": "d6f9ac1c-a77d-4ee3-bc5e-fec2071b33df",
   "metadata": {},
   "outputs": [],
   "source": [
    "sns.barplot(\n",
    "    data=df, x=\"body_mass_g\", y=\"island\",\n",
    "    errorbar=(\"pi\", 50), capsize=.4, errcolor=\".5\",\n",
    "    linewidth=3, edgecolor=\".5\", facecolor=(0, 0, 0, 0),\n",
    ")"
   ]
  },
  {
   "cell_type": "code",
   "execution_count": null,
   "id": "faedd6f9-a123-4927-9eff-a2046edf5c72",
   "metadata": {},
   "outputs": [],
   "source": []
  }
 ],
 "metadata": {
  "kernelspec": {
   "display_name": "py310",
   "language": "python",
   "name": "py310"
  },
  "language_info": {
   "codemirror_mode": {
    "name": "ipython",
    "version": 3
   },
   "file_extension": ".py",
   "mimetype": "text/x-python",
   "name": "python",
   "nbconvert_exporter": "python",
   "pygments_lexer": "ipython3",
   "version": "3.10.0"
  }
 },
 "nbformat": 4,
 "nbformat_minor": 5
}
