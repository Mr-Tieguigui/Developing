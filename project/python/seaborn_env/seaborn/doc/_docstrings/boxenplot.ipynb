{
 "cells": [
  {
   "cell_type": "code",
   "execution_count": null,
   "id": "882d215b-88d8-4b5e-ae7a-0e3f6bb53bad",
   "metadata": {
    "tags": [
     "hide"
    ]
   },
   "outputs": [],
   "source": [
    "import seaborn as sns\n",
    "sns.set_theme(style=\"whitegrid\")"
   ]
  },
  {
   "cell_type": "code",
   "execution_count": null,
   "id": "6809326c-14a9-4314-994d-b4e8e7414172",
   "metadata": {},
   "outputs": [],
   "source": [
    "df = sns.load_dataset(\"diamonds\")"
   ]
  },
  {
   "cell_type": "markdown",
   "id": "9ccbc2d5-5a44-4e80-8b07-e12629729f4a",
   "metadata": {},
   "source": [
    "Draw a single horizontal plot, assigning the data directly to the coordinate variable:"
   ]
  },
  {
   "cell_type": "code",
   "execution_count": null,
   "id": "391e1162-b438-4486-9a08-60686ee8e96a",
   "metadata": {},
   "outputs": [],
   "source": [
    "sns.boxenplot(x=df[\"price\"])"
   ]
  },
  {
   "cell_type": "markdown",
   "id": "a3b0e9b8-1673-494c-a27a-aa9c60457ba1",
   "metadata": {},
   "source": [
    "Group by a categorical variable, referencing columns in a datafame"
   ]
  },
  {
   "cell_type": "code",
   "execution_count": null,
   "id": "e30fec18-f127-40a3-bfaf-f71324dd60ec",
   "metadata": {},
   "outputs": [],
   "source": [
    "sns.boxenplot(data=df, x=\"price\", y=\"clarity\")"
   ]
  },
  {
   "cell_type": "markdown",
   "id": "4f01a821-74d1-452d-a1f7-cf5b806169e8",
   "metadata": {},
   "source": [
    "Use a different scaling rule to control the width of each box:"
   ]
  },
  {
   "cell_type": "code",
   "execution_count": null,
   "id": "d0c1aa43-5e8a-486c-bd6d-3c29d6d23138",
   "metadata": {},
   "outputs": [],
   "source": [
    "sns.boxenplot(data=df, x=\"carat\", y=\"cut\", scale=\"linear\")"
   ]
  },
  {
   "cell_type": "markdown",
   "id": "fd5d197c-8cbb-4be3-a14d-76447f06d3f1",
   "metadata": {},
   "source": [
    "Use a different method to determine the number of boxes:"
   ]
  },
  {
   "cell_type": "code",
   "execution_count": null,
   "id": "1aead6a3-6f12-47d3-b472-a39c61867963",
   "metadata": {},
   "outputs": [],
   "source": [
    "sns.boxenplot(data=df, x=\"carat\", y=\"cut\", k_depth=\"trustworthy\")"
   ]
  },
  {
   "cell_type": "code",
   "execution_count": null,
   "id": "719fd61f-9795-47d6-96bd-4929d8647038",
   "metadata": {},
   "outputs": [],
   "source": []
  }
 ],
 "metadata": {
  "kernelspec": {
   "display_name": "py310",
   "language": "python",
   "name": "py310"
  },
  "language_info": {
   "codemirror_mode": {
    "name": "ipython",
    "version": 3
   },
   "file_extension": ".py",
   "mimetype": "text/x-python",
   "name": "python",
   "nbconvert_exporter": "python",
   "pygments_lexer": "ipython3",
   "version": "3.10.0"
  }
 },
 "nbformat": 4,
 "nbformat_minor": 5
}
