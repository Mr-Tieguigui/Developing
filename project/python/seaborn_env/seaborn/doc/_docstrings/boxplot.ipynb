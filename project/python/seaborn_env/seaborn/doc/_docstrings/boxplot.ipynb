{
 "cells": [
  {
   "cell_type": "code",
   "execution_count": null,
   "id": "7edcf92f-6c11-4dc4-b684-118b3235d067",
   "metadata": {
    "tags": [
     "hide"
    ]
   },
   "outputs": [],
   "source": [
    "import seaborn as sns\n",
    "sns.set_theme(style=\"whitegrid\")"
   ]
  },
  {
   "cell_type": "markdown",
   "id": "90798548-e999-4127-8191-ce01e252f305",
   "metadata": {},
   "source": [
    "Draw a single horizontal boxplot, assigning the data directly to the coordinate variable:"
   ]
  },
  {
   "cell_type": "code",
   "execution_count": null,
   "id": "80532f2c-0f34-456c-9d5c-673682385461",
   "metadata": {},
   "outputs": [],
   "source": [
    "df = sns.load_dataset(\"titanic\")\n",
    "sns.boxplot(x=df[\"age\"])"
   ]
  },
  {
   "cell_type": "markdown",
   "id": "98e6f351-2983-4edc-93e6-03b2d91ed5f1",
   "metadata": {},
   "source": [
    "Group by a categorical variable, referencing columns in a dataframe:"
   ]
  },
  {
   "cell_type": "code",
   "execution_count": null,
   "id": "f1e0a6a4-151d-42d7-a098-ec9b91f20906",
   "metadata": {},
   "outputs": [],
   "source": [
    "sns.boxplot(data=df, x=\"age\", y=\"class\")"
   ]
  },
  {
   "cell_type": "markdown",
   "id": "a4bebd98-9719-4279-b0b5-700ca0aa087d",
   "metadata": {},
   "source": [
    "Draw a vertical boxplot with nested grouping by two variables:"
   ]
  },
  {
   "cell_type": "code",
   "execution_count": null,
   "id": "b8f74dc4-2b59-423a-90a7-dbf900c89251",
   "metadata": {},
   "outputs": [],
   "source": [
    "sns.boxplot(data=df, x=\"age\", y=\"class\", hue=\"alive\")"
   ]
  },
  {
   "cell_type": "markdown",
   "id": "8b4a7418-d945-4ec6-90d2-8ec10c552a08",
   "metadata": {},
   "source": [
    "Control the order of the boxes:"
   ]
  },
  {
   "cell_type": "code",
   "execution_count": null,
   "id": "2a496593-7c12-4739-b3db-46b777599c65",
   "metadata": {},
   "outputs": [],
   "source": [
    "sns.boxplot(data=df, x=\"fare\", y=\"alive\", order=[\"yes\", \"no\"])"
   ]
  },
  {
   "cell_type": "markdown",
   "id": "4a5b57c0-7835-49c0-b899-012d3b112efc",
   "metadata": {},
   "source": [
    "Draw a box for multiple numeric columns:"
   ]
  },
  {
   "cell_type": "code",
   "execution_count": null,
   "id": "a4ca0f44-be47-4014-9ac5-01c9b47c5bdc",
   "metadata": {},
   "outputs": [],
   "source": [
    "sns.boxplot(data=df[[\"age\", \"fare\"]], orient=\"h\")"
   ]
  },
  {
   "cell_type": "markdown",
   "id": "d0e68414-2f63-442f-9d2e-24fc9ab1f5e3",
   "metadata": {},
   "source": [
    "Use a `hue` variable whithout changing the box width or position:"
   ]
  },
  {
   "cell_type": "code",
   "execution_count": null,
   "id": "c242ee2b-22af-47f7-8de6-84e5ff95271f",
   "metadata": {},
   "outputs": [],
   "source": [
    "sns.boxplot(data=df, x=\"fare\", y=\"deck\", hue=\"deck\", dodge=False)"
   ]
  },
  {
   "cell_type": "markdown",
   "id": "5dca0faa-96ec-4e64-a187-482a9d10a03b",
   "metadata": {},
   "source": [
    "Pass additional keyword arguments to matplotlib:"
   ]
  },
  {
   "cell_type": "code",
   "execution_count": null,
   "id": "66c81b6e-e7fb-46c5-aa7b-f001241569b0",
   "metadata": {},
   "outputs": [],
   "source": [
    "sns.boxplot(\n",
    "    data=df, x=\"age\", y=\"class\",\n",
    "    notch=True, showcaps=False,\n",
    "    flierprops={\"marker\": \"x\"},\n",
    "    boxprops={\"facecolor\": (.4, .6, .8, .5)},\n",
    "    medianprops={\"color\": \"coral\"},\n",
    ")"
   ]
  }
 ],
 "metadata": {
  "kernelspec": {
   "display_name": "py310",
   "language": "python",
   "name": "py310"
  },
  "language_info": {
   "codemirror_mode": {
    "name": "ipython",
    "version": 3
   },
   "file_extension": ".py",
   "mimetype": "text/x-python",
   "name": "python",
   "nbconvert_exporter": "python",
   "pygments_lexer": "ipython3",
   "version": "3.10.0"
  }
 },
 "nbformat": 4,
 "nbformat_minor": 5
}
