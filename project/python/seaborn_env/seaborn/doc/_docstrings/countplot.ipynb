{
 "cells": [
  {
   "cell_type": "code",
   "execution_count": null,
   "id": "2fdf0f63-d515-4cb8-b3e0-62cac7852b12",
   "metadata": {},
   "outputs": [],
   "source": [
    "import seaborn as sns\n",
    "sns.set_theme(style=\"whitegrid\")"
   ]
  },
  {
   "cell_type": "markdown",
   "id": "5adcc785-6643-4c55-ba38-ac9b65857932",
   "metadata": {},
   "source": [
    "Show the number of datapoints with each value of a categorical variable:"
   ]
  },
  {
   "cell_type": "code",
   "execution_count": null,
   "id": "6e9d0485-870d-4841-9c84-6e0bacbde7db",
   "metadata": {},
   "outputs": [],
   "source": [
    "df = sns.load_dataset(\"titanic\")\n",
    "sns.countplot(x=df[\"class\"])"
   ]
  },
  {
   "cell_type": "markdown",
   "id": "c2e36b42-5453-4478-918b-3699ac1fbc0e",
   "metadata": {},
   "source": [
    "Group by a second variable:"
   ]
  },
  {
   "cell_type": "code",
   "execution_count": null,
   "id": "26f73c00-a2b3-45c3-b3cd-2babe0a81894",
   "metadata": {},
   "outputs": [],
   "source": [
    "sns.countplot(data=df, x=\"class\", hue=\"alive\")"
   ]
  },
  {
   "cell_type": "markdown",
   "id": "eac30be1-c9d8-472c-afa9-16119afab86e",
   "metadata": {},
   "source": [
    "Plot horizontally to make more space for category labels:"
   ]
  },
  {
   "cell_type": "code",
   "execution_count": null,
   "id": "31758c56-106e-4a9c-bcee-ef1f93f472e8",
   "metadata": {},
   "outputs": [],
   "source": [
    "sns.countplot(data=df, y=\"deck\", hue=\"alive\")"
   ]
  },
  {
   "cell_type": "code",
   "execution_count": null,
   "id": "5c049d0c-d91b-4675-a9aa-7deea1421d68",
   "metadata": {},
   "outputs": [],
   "source": []
  }
 ],
 "metadata": {
  "kernelspec": {
   "display_name": "py310",
   "language": "python",
   "name": "py310"
  },
  "language_info": {
   "codemirror_mode": {
    "name": "ipython",
    "version": 3
   },
   "file_extension": ".py",
   "mimetype": "text/x-python",
   "name": "python",
   "nbconvert_exporter": "python",
   "pygments_lexer": "ipython3",
   "version": "3.10.0"
  }
 },
 "nbformat": 4,
 "nbformat_minor": 5
}
