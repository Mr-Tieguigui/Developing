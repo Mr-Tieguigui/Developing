{
 "cells": [
  {
   "cell_type": "code",
   "execution_count": null,
   "id": "5cd1cbb8-ba1a-460b-8e3a-bc285867f1d1",
   "metadata": {
    "tags": [
     "hide"
    ]
   },
   "outputs": [],
   "source": [
    "import seaborn as sns\n",
    "sns.set_theme()\n",
    "sns.palettes._patch_colormap_display()"
   ]
  },
  {
   "cell_type": "raw",
   "id": "b157eb25-015f-4dd6-9785-83ba19cf4f94",
   "metadata": {},
   "source": [
    "Define a sequential ramp from a dark gray to a specified color:"
   ]
  },
  {
   "cell_type": "code",
   "execution_count": null,
   "id": "5b655d28-9855-4528-8b8e-a6c50288fd1b",
   "metadata": {},
   "outputs": [],
   "source": [
    "sns.dark_palette(\"seagreen\")"
   ]
  },
  {
   "cell_type": "raw",
   "id": "50053b26-112a-4378-8ef0-9be0fb565ec7",
   "metadata": {},
   "source": [
    "Specify the color with a hex code:"
   ]
  },
  {
   "cell_type": "code",
   "execution_count": null,
   "id": "74ae0d17-f65b-4bcf-ae66-d97d46964d5c",
   "metadata": {},
   "outputs": [],
   "source": [
    "sns.dark_palette(\"#79C\")"
   ]
  },
  {
   "cell_type": "raw",
   "id": "eea376a2-fdf5-40e4-a187-3a28af529072",
   "metadata": {},
   "source": [
    "Specify the color from the husl system:"
   ]
  },
  {
   "cell_type": "code",
   "execution_count": null,
   "id": "66e451ee-869a-41ea-8dc5-4240b11e7be5",
   "metadata": {},
   "outputs": [],
   "source": [
    "sns.dark_palette((20, 60, 50), input=\"husl\")"
   ]
  },
  {
   "cell_type": "raw",
   "id": "e4f44dcd-cf49-4920-ac05-b4db67870363",
   "metadata": {},
   "source": [
    "Increase the number of colors:"
   ]
  },
  {
   "cell_type": "code",
   "execution_count": null,
   "id": "75985f07-de92-4d8b-89d5-caf445b9375e",
   "metadata": {},
   "outputs": [],
   "source": [
    "sns.dark_palette(\"xkcd:golden\", 8)"
   ]
  },
  {
   "cell_type": "raw",
   "id": "34687ae8-fd6d-427a-a639-208f19e61122",
   "metadata": {},
   "source": [
    "Return a continuous colormap rather than a discrete palette:"
   ]
  },
  {
   "cell_type": "code",
   "execution_count": null,
   "id": "2c342db4-7f97-40f5-934e-9a82201890d1",
   "metadata": {},
   "outputs": [],
   "source": [
    "sns.dark_palette(\"#b285bc\", as_cmap=True)"
   ]
  },
  {
   "cell_type": "code",
   "execution_count": null,
   "id": "e7ebe64b-25fa-4c52-9ebe-fdcbba0ee51e",
   "metadata": {},
   "outputs": [],
   "source": []
  }
 ],
 "metadata": {
  "kernelspec": {
   "display_name": "py310",
   "language": "python",
   "name": "py310"
  },
  "language_info": {
   "codemirror_mode": {
    "name": "ipython",
    "version": 3
   },
   "file_extension": ".py",
   "mimetype": "text/x-python",
   "name": "python",
   "nbconvert_exporter": "python",
   "pygments_lexer": "ipython3",
   "version": "3.10.0"
  }
 },
 "nbformat": 4,
 "nbformat_minor": 5
}
