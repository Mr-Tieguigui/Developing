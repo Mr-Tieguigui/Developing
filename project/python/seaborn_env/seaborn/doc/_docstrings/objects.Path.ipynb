{
 "cells": [
  {
   "cell_type": "code",
   "execution_count": null,
   "id": "2923956c-f141-4ecb-ab08-e819099f0fa9",
   "metadata": {
    "tags": [
     "hide"
    ]
   },
   "outputs": [],
   "source": [
    "import seaborn.objects as so\n",
    "from seaborn import load_dataset\n",
    "healthexp = load_dataset(\"healthexp\").sort_values([\"Country\", \"Year\"])"
   ]
  },
  {
   "cell_type": "raw",
   "id": "8c2781ed-190d-4155-99ac-0170b94de030",
   "metadata": {},
   "source": [
    "Unlike :class:`Line`, this mark does not sort observations before plotting, making it suitable for plotting trajectories through a variable space:"
   ]
  },
  {
   "cell_type": "code",
   "execution_count": null,
   "id": "199c0b22-1cbd-4b5a-bebe-f59afa79b9c6",
   "metadata": {},
   "outputs": [],
   "source": [
    "p = so.Plot(healthexp, \"Spending_USD\", \"Life_Expectancy\", color=\"Country\")\n",
    "p.add(so.Path())"
   ]
  },
  {
   "cell_type": "raw",
   "id": "fb87bd85-024b-42f5-b458-3550271d7124",
   "metadata": {},
   "source": [
    "It otherwise offers the same set of options, including a number of properties that can be set or mapped:"
   ]
  },
  {
   "cell_type": "code",
   "execution_count": null,
   "id": "280de309-1c0d-4cdc-8f4c-a4f15da461cf",
   "metadata": {},
   "outputs": [],
   "source": [
    "p.add(so.Path(marker=\"o\", pointsize=2, linewidth=.75, fillcolor=\"w\"))"
   ]
  },
  {
   "cell_type": "code",
   "execution_count": null,
   "id": "4e795770-4481-4e23-a49b-e828a1f5cbbd",
   "metadata": {},
   "outputs": [],
   "source": []
  }
 ],
 "metadata": {
  "kernelspec": {
   "display_name": "py310",
   "language": "python",
   "name": "py310"
  },
  "language_info": {
   "codemirror_mode": {
    "name": "ipython",
    "version": 3
   },
   "file_extension": ".py",
   "mimetype": "text/x-python",
   "name": "python",
   "nbconvert_exporter": "python",
   "pygments_lexer": "ipython3",
   "version": "3.10.0"
  }
 },
 "nbformat": 4,
 "nbformat_minor": 5
}
