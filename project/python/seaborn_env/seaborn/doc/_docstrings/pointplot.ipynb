{
 "cells": [
  {
   "cell_type": "code",
   "execution_count": null,
   "id": "43f842ee-44c9-476b-ab08-112d23e2effb",
   "metadata": {
    "tags": [
     "hide"
    ]
   },
   "outputs": [],
   "source": [
    "import seaborn as sns\n",
    "sns.set_theme(style=\"whitegrid\")"
   ]
  },
  {
   "cell_type": "markdown",
   "id": "9aa5bc8a-03cd-4792-906d-7e7318c2cecc",
   "metadata": {},
   "source": [
    "Group by a categorical varaible and plot aggregated values, with confidence intervals:"
   ]
  },
  {
   "cell_type": "code",
   "execution_count": null,
   "id": "9a865fec-c034-4000-938d-b7cd89157495",
   "metadata": {},
   "outputs": [],
   "source": [
    "df = sns.load_dataset(\"penguins\")\n",
    "sns.pointplot(data=df, x=\"island\", y=\"body_mass_g\")"
   ]
  },
  {
   "cell_type": "markdown",
   "id": "a0002e29-0ad6-41c7-b66d-c80bb1844924",
   "metadata": {},
   "source": [
    "Add a second layer of grouping:"
   ]
  },
  {
   "cell_type": "code",
   "execution_count": null,
   "id": "f27011f1-0e3c-4dc4-818e-4a77930977b9",
   "metadata": {},
   "outputs": [],
   "source": [
    "sns.pointplot(data=df, x=\"island\", y=\"body_mass_g\", hue=\"sex\")"
   ]
  },
  {
   "cell_type": "markdown",
   "id": "a63681f6-e692-400f-b9fe-0d9fd0521398",
   "metadata": {},
   "source": [
    "Adjust the artists along the categorical axis to reduce overplotting:"
   ]
  },
  {
   "cell_type": "code",
   "execution_count": null,
   "id": "8f94d069-c5f4-4579-a4bf-6d755962d48d",
   "metadata": {},
   "outputs": [],
   "source": [
    "sns.pointplot(data=df, x=\"sex\", y=\"bill_depth_mm\", hue=\"island\", dodge=True)"
   ]
  },
  {
   "cell_type": "markdown",
   "id": "51523904-3b42-4818-9de6-52dc30090e56",
   "metadata": {},
   "source": [
    "Use the error bars to show the standard deviation rather than a confidence interval:"
   ]
  },
  {
   "cell_type": "code",
   "execution_count": null,
   "id": "386b25eb-7ab7-4a1d-9498-cef3e4fd3e6b",
   "metadata": {},
   "outputs": [],
   "source": [
    "sns.pointplot(data=df, x=\"island\", y=\"body_mass_g\", errorbar=\"sd\")"
   ]
  },
  {
   "cell_type": "markdown",
   "id": "41253d65-b3be-4aab-87a2-be34e66a2d7c",
   "metadata": {},
   "source": [
    "Customize the appearance of the plot:"
   ]
  },
  {
   "cell_type": "code",
   "execution_count": null,
   "id": "50b14810-2299-479c-b6c5-0fd10c4ed3de",
   "metadata": {},
   "outputs": [],
   "source": [
    "sns.pointplot(\n",
    "    data=df, x=\"body_mass_g\", y=\"island\",\n",
    "    errorbar=(\"pi\", 100), capsize=.4, join=False, color=\".5\",\n",
    ")"
   ]
  },
  {
   "cell_type": "code",
   "execution_count": null,
   "id": "94d6718d-2cfe-44f4-88e5-f47461d7d51f",
   "metadata": {},
   "outputs": [],
   "source": []
  }
 ],
 "metadata": {
  "kernelspec": {
   "display_name": "py310",
   "language": "python",
   "name": "py310"
  },
  "language_info": {
   "codemirror_mode": {
    "name": "ipython",
    "version": 3
   },
   "file_extension": ".py",
   "mimetype": "text/x-python",
   "name": "python",
   "nbconvert_exporter": "python",
   "pygments_lexer": "ipython3",
   "version": "3.10.0"
  }
 },
 "nbformat": 4,
 "nbformat_minor": 5
}
