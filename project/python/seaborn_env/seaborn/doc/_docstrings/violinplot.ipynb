{
 "cells": [
  {
   "cell_type": "code",
   "execution_count": null,
   "id": "cc19031c-bc2f-4294-95ce-3a2d9b86f44d",
   "metadata": {
    "tags": [
     "hide"
    ]
   },
   "outputs": [],
   "source": [
    "import seaborn as sns\n",
    "sns.set_theme(style=\"whitegrid\")"
   ]
  },
  {
   "cell_type": "markdown",
   "id": "863c03b1-63e2-4d60-a3a4-4693afab4b5b",
   "metadata": {},
   "source": [
    "Draw a single horizontal boxplot, assigning the data directly to the coordinate variable:"
   ]
  },
  {
   "cell_type": "code",
   "execution_count": null,
   "id": "27d578fb-1c20-4d31-b93d-b1b4a053992b",
   "metadata": {},
   "outputs": [],
   "source": [
    "df = sns.load_dataset(\"titanic\")\n",
    "sns.violinplot(x=df[\"age\"])"
   ]
  },
  {
   "cell_type": "markdown",
   "id": "aeea380b-405e-4762-8ede-db57f5549ca5",
   "metadata": {},
   "source": [
    "Group by a categorical variable, referencing columns in a dataframe:"
   ]
  },
  {
   "cell_type": "code",
   "execution_count": null,
   "id": "2b851b2c-0011-4cff-8719-11f6138c44e7",
   "metadata": {},
   "outputs": [],
   "source": [
    "sns.violinplot(data=df, x=\"age\", y=\"class\")"
   ]
  },
  {
   "cell_type": "markdown",
   "id": "c9a99aa4-2da0-42fa-879a-0c3b264803f4",
   "metadata": {},
   "source": [
    "Draw vertical violins, grouped by two variables:"
   ]
  },
  {
   "cell_type": "code",
   "execution_count": null,
   "id": "4810c8e7-0864-496f-8e86-a6527369b9e1",
   "metadata": {},
   "outputs": [],
   "source": [
    "sns.violinplot(data=df, x=\"class\", y=\"age\", hue=\"alive\")"
   ]
  },
  {
   "cell_type": "markdown",
   "id": "973e6617-5720-428d-a0ac-447e76aa9fde",
   "metadata": {},
   "source": [
    "Draw split violins to take up less space:"
   ]
  },
  {
   "cell_type": "code",
   "execution_count": null,
   "id": "2ae35376-5272-496c-afec-c60a3426f1bf",
   "metadata": {},
   "outputs": [],
   "source": [
    "sns.violinplot(data=df, x=\"deck\", y=\"age\", hue=\"alive\", split=True)"
   ]
  },
  {
   "cell_type": "markdown",
   "id": "f291d4a2-41bc-4eb0-813d-7a1ceacc0cb0",
   "metadata": {},
   "source": [
    "Prevent the density from smoothing beyond the limits of the data:"
   ]
  },
  {
   "cell_type": "code",
   "execution_count": null,
   "id": "82556de0-3756-426c-a591-9af6ed6c45d4",
   "metadata": {},
   "outputs": [],
   "source": [
    "sns.violinplot(data=df, x=\"age\", y=\"alive\", cut=0)"
   ]
  },
  {
   "cell_type": "markdown",
   "id": "6f351f71-1db3-4c5a-948c-9e1dbc550234",
   "metadata": {},
   "source": [
    "Use a narrower bandwidth to reduce the amount of smoothing:"
   ]
  },
  {
   "cell_type": "code",
   "execution_count": null,
   "id": "8d17e1e3-e0f4-4d2c-ac6e-aec42ed75390",
   "metadata": {},
   "outputs": [],
   "source": [
    "sns.violinplot(data=df, x=\"age\", y=\"alive\", bw=.15)"
   ]
  },
  {
   "cell_type": "markdown",
   "id": "c4aaeb60-6c1b-4337-91ce-d6b744a3dd90",
   "metadata": {},
   "source": [
    "Represent every observation inside the distribution"
   ]
  },
  {
   "cell_type": "code",
   "execution_count": null,
   "id": "00b5f00e-a515-4e53-9d73-d13b045cd4c8",
   "metadata": {},
   "outputs": [],
   "source": [
    "sns.violinplot(data=df, x=\"age\", y=\"embark_town\", inner=\"stick\")"
   ]
  },
  {
   "cell_type": "markdown",
   "id": "01622556-9df8-4af1-b36c-9bc5f6b6099e",
   "metadata": {},
   "source": [
    "Use a different scaling rule for normalizing the density:"
   ]
  },
  {
   "cell_type": "code",
   "execution_count": null,
   "id": "be59f17e-824e-4a8c-a0e1-a27874a05df6",
   "metadata": {},
   "outputs": [],
   "source": [
    "sns.violinplot(data=df, x=\"age\", y=\"embark_town\", scale=\"count\")"
   ]
  },
  {
   "cell_type": "code",
   "execution_count": null,
   "id": "fdda9a33-37f3-43fd-b02d-1ff414657a37",
   "metadata": {},
   "outputs": [],
   "source": []
  }
 ],
 "metadata": {
  "kernelspec": {
   "display_name": "py310",
   "language": "python",
   "name": "py310"
  },
  "language_info": {
   "codemirror_mode": {
    "name": "ipython",
    "version": 3
   },
   "file_extension": ".py",
   "mimetype": "text/x-python",
   "name": "python",
   "nbconvert_exporter": "python",
   "pygments_lexer": "ipython3",
   "version": "3.10.0"
  }
 },
 "nbformat": 4,
 "nbformat_minor": 5
}
